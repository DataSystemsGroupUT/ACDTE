{
 "cells": [
  {
   "cell_type": "code",
   "execution_count": 0,
   "metadata": {
    "colab": {},
    "colab_type": "code",
    "id": "F2ytSeOCVDYB"
   },
   "outputs": [],
   "source": [
    "%tensorflow_version 1.x"
   ]
  },
  {
   "cell_type": "code",
   "execution_count": 0,
   "metadata": {
    "colab": {},
    "colab_type": "code",
    "id": "lBdFkQlib-7_"
   },
   "outputs": [],
   "source": [
    "import numpy as np\n",
    "from matplotlib import pyplot as plt\n",
    "\n",
    "%load_ext autoreload\n",
    "%autoreload 2\n",
    "\n",
    "import torch\n",
    "from torch.autograd import Variable as V\n",
    "import torchvision.models as models\n",
    "from torchvision import transforms as trn\n",
    "from torch.nn import functional as F\n",
    "import torch.nn as nn\n",
    "import os\n",
    "from PIL import Image\n",
    "import matplotlib.pyplot as plt"
   ]
  },
  {
   "cell_type": "code",
   "execution_count": 4,
   "metadata": {
    "colab": {
     "base_uri": "https://localhost:8080/",
     "height": 122
    },
    "colab_type": "code",
    "executionInfo": {
     "elapsed": 239111,
     "status": "ok",
     "timestamp": 1579868006813,
     "user": {
      "displayName": "Youssef Mansour",
      "photoUrl": "",
      "userId": "12155639947958617468"
     },
     "user_tz": -120
    },
    "id": "-aRW1L4v3FQX",
    "outputId": "df231668-0b57-4249-cec7-9094eb854a9b"
   },
   "outputs": [
    {
     "name": "stdout",
     "output_type": "stream",
     "text": [
      "Go to this URL in a browser: https://accounts.google.com/o/oauth2/auth?client_id=947318989803-6bn6qk8qdgf4n4g3pfee6491hc0brc4i.apps.googleusercontent.com&redirect_uri=urn%3aietf%3awg%3aoauth%3a2.0%3aoob&response_type=code&scope=email%20https%3a%2f%2fwww.googleapis.com%2fauth%2fdocs.test%20https%3a%2f%2fwww.googleapis.com%2fauth%2fdrive%20https%3a%2f%2fwww.googleapis.com%2fauth%2fdrive.photos.readonly%20https%3a%2f%2fwww.googleapis.com%2fauth%2fpeopleapi.readonly\n",
      "\n",
      "Enter your authorization code:\n",
      "··········\n",
      "Mounted at /content/drive\n"
     ]
    }
   ],
   "source": [
    "from google.colab import drive\n",
    "drive.mount('/content/drive')"
   ]
  },
  {
   "cell_type": "code",
   "execution_count": 5,
   "metadata": {
    "colab": {
     "base_uri": "https://localhost:8080/",
     "height": 34
    },
    "colab_type": "code",
    "executionInfo": {
     "elapsed": 6865,
     "status": "ok",
     "timestamp": 1579868014202,
     "user": {
      "displayName": "Youssef Mansour",
      "photoUrl": "",
      "userId": "12155639947958617468"
     },
     "user_tz": -120
    },
    "id": "gUM0jV2TdNVO",
    "outputId": "99b3ebbc-0d9d-4283-80fe-61558a0e2b63"
   },
   "outputs": [
    {
     "data": {
      "text/plain": [
       "<All keys matched successfully>"
      ]
     },
     "execution_count": 5,
     "metadata": {
      "tags": []
     },
     "output_type": "execute_result"
    }
   ],
   "source": [
    "arch = 'resnet50'\n",
    "model_file = f'{arch}_places365.pth.tar'\n",
    "if not os.access(model_file, os.W_OK):\n",
    "    weight_url = 'http://places2.csail.mit.edu/models_places365/' + model_file\n",
    "    os.system('wget ' + weight_url)\n",
    "\n",
    "model = models.__dict__[arch](num_classes=365)\n",
    "checkpoint = torch.load(model_file, map_location=lambda storage, loc: storage)\n",
    "state_dict = {str.replace(k,'module.',''): v for k,v in checkpoint['state_dict'].items()}\n",
    "model.load_state_dict(state_dict)"
   ]
  },
  {
   "cell_type": "code",
   "execution_count": 6,
   "metadata": {
    "colab": {
     "base_uri": "https://localhost:8080/",
     "height": 34
    },
    "colab_type": "code",
    "executionInfo": {
     "elapsed": 6266,
     "status": "ok",
     "timestamp": 1579868014204,
     "user": {
      "displayName": "Youssef Mansour",
      "photoUrl": "",
      "userId": "12155639947958617468"
     },
     "user_tz": -120
    },
    "id": "UODGZRdVfMn1",
    "outputId": "6bddb36a-1bbc-423e-8463-9f98068472de"
   },
   "outputs": [
    {
     "data": {
      "text/plain": [
       "'convert model to evaluation mode with no grad'"
      ]
     },
     "execution_count": 6,
     "metadata": {
      "tags": []
     },
     "output_type": "execute_result"
    }
   ],
   "source": [
    "model.eval()\n",
    "for param in model.parameters():\n",
    "    param.requires_grad = False\n",
    "'convert model to evaluation mode with no grad'"
   ]
  },
  {
   "cell_type": "code",
   "execution_count": 0,
   "metadata": {
    "colab": {},
    "colab_type": "code",
    "id": "sVhMbksliCuX"
   },
   "outputs": [],
   "source": [
    "device = torch.device(\"cuda:0\" if torch.cuda.is_available() else \"cpu\")"
   ]
  },
  {
   "cell_type": "code",
   "execution_count": 0,
   "metadata": {
    "colab": {},
    "colab_type": "code",
    "id": "yrlLe_Xt00PC"
   },
   "outputs": [],
   "source": [
    "feature_extractor = nn.Sequential(*list(model.children())[:-2], nn.AdaptiveAvgPool2d(1)).eval().to(device)"
   ]
  },
  {
   "cell_type": "code",
   "execution_count": 0,
   "metadata": {
    "colab": {},
    "colab_type": "code",
    "id": "Q0og6qcweLMQ"
   },
   "outputs": [],
   "source": [
    "centre_crop = trn.Compose([\n",
    "        trn.Resize((256,256)),\n",
    "        trn.CenterCrop(224),\n",
    "        trn.ToTensor(),\n",
    "        # trn.Normalize([0, 0, 0], [255, 255, 225]),\n",
    "        trn.Normalize([0.485, 0.456, 0.406], [0.229, 0.224, 0.225])\n",
    "])\n",
    "\n",
    "file_name = 'categories_places365.txt'\n",
    "if not os.access(file_name, os.W_OK):\n",
    "    synset_url = 'https://raw.githubusercontent.com/csailvision/places365/master/categories_places365.txt'\n",
    "    os.system('wget ' + synset_url)\n",
    "classes = list()\n",
    "with open(file_name) as class_file:\n",
    "    for line in class_file:\n",
    "        classes.append(line.strip().split(' ')[0][3:])\n",
    "classes = tuple(classes)"
   ]
  },
  {
   "cell_type": "code",
   "execution_count": 0,
   "metadata": {
    "colab": {},
    "colab_type": "code",
    "id": "mmtJrDuPWcdG"
   },
   "outputs": [],
   "source": [
    "!cp drive/'My Drive'/'Colab Notebooks'/'Automate local TCAV'/'final notebooks'/resized_imgs.pkl  /content/\n",
    "!cp drive/'My Drive'/'Colab Notebooks'/'Automate local TCAV'/'final notebooks'/masks.pkl  /content/\n",
    "!cp drive/'My Drive'/'Colab Notebooks'/'Automate local TCAV'/'final notebooks'/classes.pkl  /content/"
   ]
  },
  {
   "cell_type": "code",
   "execution_count": 0,
   "metadata": {
    "colab": {},
    "colab_type": "code",
    "id": "xUljBU4CXgt2"
   },
   "outputs": [],
   "source": [
    "import pickle\n",
    "with open('masks.pkl', 'rb') as f:\n",
    "  masks = pickle.load(f)\n",
    "with open('resized_imgs.pkl', 'rb') as f:\n",
    "  imgs = pickle.load(f)\n",
    "with open('classes.pkl', 'rb') as f:\n",
    "  labels = np.array(pickle.load(f))"
   ]
  },
  {
   "cell_type": "code",
   "execution_count": 0,
   "metadata": {
    "colab": {},
    "colab_type": "code",
    "id": "uwe-ECozYS2v"
   },
   "outputs": [],
   "source": [
    "def get_segments(img, mask, threshold = 0.05):\n",
    "  segs = np.unique(mask)\n",
    "  segments = []\n",
    "  total = mask.shape[0]*mask.shape[1]\n",
    "  for seg in segs:\n",
    "    idxs = mask==seg\n",
    "    sz = np.sum(idxs)\n",
    "    if sz < threshold*total:\n",
    "      continue\n",
    "    segment = img*idxs[..., None]\n",
    "    w, h, _ = np.nonzero(segment)\n",
    "    segment = segment[np.min(w):np.max(w),np.min(h):np.max(h),:]\n",
    "    segments.append(segment)\n",
    "  return segments"
   ]
  },
  {
   "cell_type": "code",
   "execution_count": 0,
   "metadata": {
    "colab": {},
    "colab_type": "code",
    "id": "AXSQxAQtj8lZ"
   },
   "outputs": [],
   "source": [
    "img_segments = []\n",
    "for img, msk in zip(imgs, masks):\n",
    "  img_segments.append(get_segments(np.array(img), msk, threshold = 0.005))"
   ]
  },
  {
   "cell_type": "code",
   "execution_count": 0,
   "metadata": {
    "colab": {},
    "colab_type": "code",
    "id": "cfkTUVft0tqg"
   },
   "outputs": [],
   "source": [
    "del masks"
   ]
  },
  {
   "cell_type": "code",
   "execution_count": 0,
   "metadata": {
    "colab": {},
    "colab_type": "code",
    "id": "zi7XrhzdRnSZ"
   },
   "outputs": [],
   "source": [
    "centre_crop = trn.Compose([\n",
    "        trn.Resize((256,256)),\n",
    "        trn.CenterCrop(224),\n",
    "        trn.ToTensor(),\n",
    "        # trn.Normalize([0, 0, 0], [255, 255, 225]),\n",
    "        trn.Normalize([0.485, 0.456, 0.406], [0.229, 0.224, 0.225])\n",
    "])"
   ]
  },
  {
   "cell_type": "code",
   "execution_count": 0,
   "metadata": {
    "colab": {},
    "colab_type": "code",
    "id": "iQzO6k2m0rW1"
   },
   "outputs": [],
   "source": [
    "feature_vectors = []\n",
    "all_vectors = []\n",
    "for img_seg in img_segments:\n",
    "    vectors = []\n",
    "    for seg in img_seg:\n",
    "      img = Image.fromarray(seg, 'RGB')\n",
    "      input_img = V(centre_crop(img).unsqueeze(0))\n",
    "      input_img = input_img.to(device)\n",
    "      feature_tensor = feature_extractor.forward(input_img)\n",
    "      del input_img\n",
    "      feat_vec = feature_tensor.cpu().numpy().squeeze()\n",
    "      del feature_tensor\n",
    "      vectors.append(feat_vec)\n",
    "      all_vectors.append(feat_vec)\n",
    "    feature_vectors.append(vectors)"
   ]
  },
  {
   "cell_type": "code",
   "execution_count": 0,
   "metadata": {
    "colab": {},
    "colab_type": "code",
    "id": "J8M7L15Tmy5r"
   },
   "outputs": [],
   "source": [
    "del img_segments"
   ]
  },
  {
   "cell_type": "code",
   "execution_count": 0,
   "metadata": {
    "colab": {},
    "colab_type": "code",
    "id": "iWCEklXRxTlq"
   },
   "outputs": [],
   "source": [
    "segment_img = {}\n",
    "c = 0\n",
    "for j, fvec in enumerate(feature_vectors): \n",
    "  c_old = c\n",
    "  c += len(fvec) if len(fvec) != 1024 else 1\n",
    "  for i in range(c_old, c):\n",
    "    segment_img[i] = j"
   ]
  },
  {
   "cell_type": "code",
   "execution_count": 0,
   "metadata": {
    "colab": {},
    "colab_type": "code",
    "id": "0EF7xaxeR9T5"
   },
   "outputs": [],
   "source": [
    "del feature_vectors"
   ]
  },
  {
   "cell_type": "code",
   "execution_count": 0,
   "metadata": {
    "colab": {},
    "colab_type": "code",
    "id": "WqX26eghzYrr"
   },
   "outputs": [],
   "source": [
    "from sklearn.cluster import KMeans\n",
    "from sklearn.model_selection import train_test_split\n",
    "from sklearn.linear_model import LogisticRegression\n",
    "from sklearn.decomposition import PCA\n",
    "from sklearn.pipeline import Pipeline"
   ]
  },
  {
   "cell_type": "code",
   "execution_count": 0,
   "metadata": {
    "colab": {},
    "colab_type": "code",
    "id": "NmotGiDzSjMa"
   },
   "outputs": [],
   "source": [
    "def cluster_top_k(cluster_id, k = 40):\n",
    "  instances_ids = np.argwhere(clusters_labels==cluster_id).squeeze()\n",
    "  instances = X[instances_ids]\n",
    "  scores = []\n",
    "  for inst in instances:\n",
    "    scores.append(-kmeans.score([inst]))\n",
    "  final_ids = np.argsort(scores)[:k]\n",
    "  return instances_ids[final_ids]\n",
    "\n",
    "cluster_instances_id = lambda cid:  np.argwhere(clusters_labels==cid).squeeze()\n",
    "\n",
    "def is_single_img_clusters(cls_id):\n",
    "  instances_ids = cluster_instances_id(cls_id)\n",
    "  # instances_ids = cluster_representatives[cls_id]\n",
    "  source_imgs = [segment_img[inst_id] for inst_id in instances_ids]\n",
    "  unique_imgs = len(np.unique(source_imgs))\n",
    "  return 0 if unique_imgs > 1 else 1"
   ]
  },
  {
   "cell_type": "code",
   "execution_count": 22,
   "metadata": {
    "colab": {
     "base_uri": "https://localhost:8080/",
     "height": 51
    },
    "colab_type": "code",
    "executionInfo": {
     "elapsed": 666074,
     "status": "ok",
     "timestamp": 1579868691408,
     "user": {
      "displayName": "Youssef Mansour",
      "photoUrl": "",
      "userId": "12155639947958617468"
     },
     "user_tz": -120
    },
    "id": "IbmTIZoHONpz",
    "outputId": "5b007789-db26-4a90-935e-9b929ebee9d4"
   },
   "outputs": [
    {
     "name": "stdout",
     "output_type": "stream",
     "text": [
      "total number of clusters 108\n",
      "total number of good clusters 104\n"
     ]
    }
   ],
   "source": [
    "X = np.array(all_vectors)\n",
    "num_segs = X.shape[0]\n",
    "k = int(num_segs**0.5)\n",
    "kmeans = KMeans(n_clusters=k, random_state=0).fit(X)\n",
    "clusters_labels = kmeans.labels_\n",
    "count_threshold = int((num_segs/k)*0.4)\n",
    "cluster_names, cluster_counts = np.unique(clusters_labels, return_counts=1)\n",
    "good_clusters = cluster_names[cluster_counts>count_threshold]\n",
    "print(f'total number of clusters {len(cluster_names)}')\n",
    "print(f'total number of good clusters {len(good_clusters)}')"
   ]
  },
  {
   "cell_type": "code",
   "execution_count": 0,
   "metadata": {
    "colab": {},
    "colab_type": "code",
    "id": "rcziR_zVLPOP"
   },
   "outputs": [],
   "source": [
    "final_clusters = []\n",
    "for cluster_id in good_clusters:\n",
    "  if is_single_img_clusters(cluster_id):\n",
    "    continue\n",
    "  final_clusters.append(cluster_id)\n",
    "final_clusters = np.array(final_clusters)"
   ]
  },
  {
   "cell_type": "code",
   "execution_count": 0,
   "metadata": {
    "colab": {},
    "colab_type": "code",
    "id": "h44lvNzIw1gE"
   },
   "outputs": [],
   "source": [
    "cluster_representatives = {}\n",
    "for cluster_id in final_clusters:\n",
    "  cluster_representatives[cluster_id] = cluster_top_k(cluster_id, k=40)"
   ]
  },
  {
   "cell_type": "code",
   "execution_count": 0,
   "metadata": {
    "colab": {},
    "colab_type": "code",
    "id": "7IjA9a6iQOP7"
   },
   "outputs": [],
   "source": [
    "linear_models = {}\n",
    "model_score = {}\n",
    "for cluster in final_clusters:\n",
    "  positive_instances = cluster_instances_id(cluster)\n",
    "  negative_instances = np.argwhere(clusters_labels!=cluster).squeeze()\n",
    "  num_samples = min(len(positive_instances), len(negative_instances))\n",
    "  selected_pos = np.random.choice(positive_instances, num_samples, replace=False)\n",
    "  selected_neg = np.random.choice(negative_instances, num_samples, replace=False)\n",
    "  train_x = np.append(X[selected_pos], X[selected_neg], axis=0)\n",
    "  train_y = np.array([1] * num_samples + [0] * num_samples)\n",
    "  train_x, val_x, train_y, val_y = train_test_split(train_x, train_y)\n",
    "  n_components = min(256, len(train_x))\n",
    "  pca_model = PCA(n_components=n_components)\n",
    "  lr_model = LogisticRegression()\n",
    "  pca_lr_model = Pipeline(steps = [('pca', pca_model), ('lr', lr_model)])\n",
    "  # pca_lr_model.set_params(pca__n_components=256, lr__penalty='l2')\n",
    "  pca_lr_model.fit(train_x, train_y)\n",
    "  linear_models[cluster] = pca_lr_model\n",
    "  model_score[cluster] = pca_lr_model.score(val_x, val_y)"
   ]
  },
  {
   "cell_type": "code",
   "execution_count": 0,
   "metadata": {
    "colab": {},
    "colab_type": "code",
    "id": "aDsQZFBt5R-J"
   },
   "outputs": [],
   "source": [
    "!wget -q http://data.csail.mit.edu/places/ADEchallenge/ADEChallengeData2016.zip\n",
    "!wget -q http://data.csail.mit.edu/places/ADEchallenge/release_test.zip"
   ]
  },
  {
   "cell_type": "code",
   "execution_count": 0,
   "metadata": {
    "colab": {},
    "colab_type": "code",
    "id": "7jEvDXCkefqJ"
   },
   "outputs": [],
   "source": [
    "!unzip -q ADEChallengeData2016.zip\n",
    "!unzip -q release_test.zip"
   ]
  },
  {
   "cell_type": "code",
   "execution_count": 28,
   "metadata": {
    "colab": {
     "base_uri": "https://localhost:8080/",
     "height": 51
    },
    "colab_type": "code",
    "executionInfo": {
     "elapsed": 761604,
     "status": "ok",
     "timestamp": 1579868797094,
     "user": {
      "displayName": "Youssef Mansour",
      "photoUrl": "",
      "userId": "12155639947958617468"
     },
     "user_tz": -120
    },
    "id": "iYiSUou1ehSj",
    "outputId": "0cb29e27-ec3b-48d3-97e0-331681eb55a1"
   },
   "outputs": [
    {
     "name": "stdout",
     "output_type": "stream",
     "text": [
      "Training images: 20210\n",
      "Validation images: 2000\n"
     ]
    }
   ],
   "source": [
    "from DataLoader import ADE20KLoader\n",
    "train_dataset = ADE20KLoader(root=os.getcwd(), split='train')\n",
    "val_dataset = ADE20KLoader(root=os.getcwd(),split='val')\n",
    "print('Training images:', len(train_dataset))\n",
    "print('Validation images:', len(val_dataset))"
   ]
  },
  {
   "cell_type": "code",
   "execution_count": 0,
   "metadata": {
    "colab": {},
    "colab_type": "code",
    "id": "58QTBirPetB0"
   },
   "outputs": [],
   "source": [
    "# try also only the val set"
   ]
  },
  {
   "cell_type": "code",
   "execution_count": 30,
   "metadata": {
    "colab": {
     "base_uri": "https://localhost:8080/",
     "height": 34
    },
    "colab_type": "code",
    "executionInfo": {
     "elapsed": 760135,
     "status": "ok",
     "timestamp": 1579868797100,
     "user": {
      "displayName": "Youssef Mansour",
      "photoUrl": "",
      "userId": "12155639947958617468"
     },
     "user_tz": -120
    },
    "id": "-csnAQwBemMx",
    "outputId": "0c9fb6ef-0a4d-44d5-bbe9-cc63872acdd1"
   },
   "outputs": [
    {
     "data": {
      "text/plain": [
       "29"
      ]
     },
     "execution_count": 30,
     "metadata": {
      "tags": []
     },
     "output_type": "execute_result"
    }
   ],
   "source": [
    "chosen_classes = ['street', 'bedroom', 'living_room', 'bathroom', 'kitchen', \n",
    "            'skyscraper', 'highway', 'conference_room', 'mountain_snowy', 'office',\n",
    "            'corridor', 'airport_terminal', 'attic', 'mountain', 'park', 'coast', \n",
    "            'alley','beach', 'childs_room', 'art_gallery','castle', 'dorm_room', \n",
    "            'nursery', 'lobby', 'reception', 'bar', 'house', 'bridge', 'classroom']\n",
    "num_classes = len(chosen_classes)\n",
    "num_classes"
   ]
  },
  {
   "cell_type": "code",
   "execution_count": 0,
   "metadata": {
    "colab": {},
    "colab_type": "code",
    "id": "oYjeL_NnepqR"
   },
   "outputs": [],
   "source": [
    "np.random.seed(0)\n",
    "num_samples = 50\n",
    "X_train = np.array([])\n",
    "y_train = []\n",
    "for cls in chosen_classes:\n",
    "  ids = np.where(train_dataset.labels==cls)[0]\n",
    "  ids = np.random.choice(ids, num_samples) if len(ids)>=50 else ids\n",
    "  X_train = np.concatenate((X_train, ids)).astype(int)\n",
    "  y_train += [cls]*len(ids)"
   ]
  },
  {
   "cell_type": "code",
   "execution_count": 32,
   "metadata": {
    "colab": {
     "base_uri": "https://localhost:8080/",
     "height": 51
    },
    "colab_type": "code",
    "executionInfo": {
     "elapsed": 2252,
     "status": "ok",
     "timestamp": 1579868799395,
     "user": {
      "displayName": "Youssef Mansour",
      "photoUrl": "",
      "userId": "12155639947958617468"
     },
     "user_tz": -120
    },
    "id": "ESilCeOwe4yW",
    "outputId": "0efc5399-823d-4929-f6cb-f756541335a8"
   },
   "outputs": [
    {
     "name": "stdout",
     "output_type": "stream",
     "text": [
      "1442\n"
     ]
    },
    {
     "data": {
      "text/plain": [
       "1442"
      ]
     },
     "execution_count": 32,
     "metadata": {
      "tags": []
     },
     "output_type": "execute_result"
    }
   ],
   "source": [
    "print(len(X_train))\n",
    "len(y_train)"
   ]
  },
  {
   "cell_type": "code",
   "execution_count": 0,
   "metadata": {
    "colab": {},
    "colab_type": "code",
    "id": "cj7R7i1soNKt"
   },
   "outputs": [],
   "source": [
    "# I can use batch size here to speed things up"
   ]
  },
  {
   "cell_type": "code",
   "execution_count": 0,
   "metadata": {
    "colab": {},
    "colab_type": "code",
    "id": "jPjOzf6xomu5"
   },
   "outputs": [],
   "source": [
    "file_name = 'categories_places365.txt'\n",
    "if not os.access(file_name, os.W_OK):\n",
    "    synset_url = 'https://raw.githubusercontent.com/csailvision/places365/master/categories_places365.txt'\n",
    "    os.system('wget ' + synset_url)\n",
    "classes = list()\n",
    "with open(file_name) as class_file:\n",
    "    for line in class_file:\n",
    "        classes.append(line.strip().split(' ')[0][3:])\n",
    "classes = np.array(classes)"
   ]
  },
  {
   "cell_type": "code",
   "execution_count": 0,
   "metadata": {
    "colab": {},
    "colab_type": "code",
    "id": "UHB55UcpxA6s"
   },
   "outputs": [],
   "source": [
    "idxs = []\n",
    "c = 0\n",
    "for ccls in chosen_classes:\n",
    "  idx = np.argwhere(classes == ccls)\n",
    "  if len(idx) == 0:\n",
    "    print(f'class {ccls} is not found in places365, so we will use places365 alternate')\n",
    "    c+=1\n",
    "  else:\n",
    "    idxs.append(idx[0][0])"
   ]
  },
  {
   "cell_type": "code",
   "execution_count": 36,
   "metadata": {
    "colab": {
     "base_uri": "https://localhost:8080/",
     "height": 34
    },
    "colab_type": "code",
    "executionInfo": {
     "elapsed": 2135,
     "status": "ok",
     "timestamp": 1579868799405,
     "user": {
      "displayName": "Youssef Mansour",
      "photoUrl": "",
      "userId": "12155639947958617468"
     },
     "user_tz": -120
    },
    "id": "aUZv6k-7XYfg",
    "outputId": "4a4ab657-e4e9-48a8-c2cb-84373d7063f2"
   },
   "outputs": [
    {
     "data": {
      "text/plain": [
       "'finished the full model with hook attached'"
      ]
     },
     "execution_count": 36,
     "metadata": {
      "tags": []
     },
     "output_type": "execute_result"
    }
   ],
   "source": [
    "outputs= []\n",
    "def hook(module, input, output):\n",
    "    x = nn.AdaptiveAvgPool2d(1)(output)\n",
    "    outputs.append(x.cpu().numpy().squeeze())\n",
    "full_model = model\n",
    "handle = full_model.layer4[2].register_forward_hook(hook)\n",
    "full_model.to(device)\n",
    "'finished the full model with hook attached'"
   ]
  },
  {
   "cell_type": "code",
   "execution_count": 0,
   "metadata": {
    "colab": {},
    "colab_type": "code",
    "id": "vA4SKPoIk3am"
   },
   "outputs": [],
   "source": [
    "del outputs\n",
    "outputs = []\n",
    "y_model = []\n",
    "for idx in X_train:\n",
    "  img = train_dataset[idx]\n",
    "  input_img = V(centre_crop(img).unsqueeze(0))\n",
    "  input_img = input_img.to(device)\n",
    "  pred = full_model.forward(input_img)\n",
    "  y_model.append(classes[idxs][np.argmax((pred.cpu().detach().numpy()[:,idxs]))])\n",
    "outputs = np.array(outputs)"
   ]
  },
  {
   "cell_type": "code",
   "execution_count": 38,
   "metadata": {
    "colab": {
     "base_uri": "https://localhost:8080/",
     "height": 34
    },
    "colab_type": "code",
    "executionInfo": {
     "elapsed": 27045,
     "status": "ok",
     "timestamp": 1579868824359,
     "user": {
      "displayName": "Youssef Mansour",
      "photoUrl": "",
      "userId": "12155639947958617468"
     },
     "user_tz": -120
    },
    "id": "B0wqbRgGUz8p",
    "outputId": "6c00330a-c3e4-4d43-8d2f-21e0ff08595a"
   },
   "outputs": [
    {
     "data": {
      "text/plain": [
       "(1442, 2048)"
      ]
     },
     "execution_count": 38,
     "metadata": {
      "tags": []
     },
     "output_type": "execute_result"
    }
   ],
   "source": [
    "outputs.shape"
   ]
  },
  {
   "cell_type": "code",
   "execution_count": 0,
   "metadata": {
    "colab": {},
    "colab_type": "code",
    "id": "-vzuM_psWzXJ"
   },
   "outputs": [],
   "source": [
    "for k, v in model_score.items():\n",
    "  if v < 0.75:\n",
    "    print(f'removed cluster {k}')\n",
    "    linear_models.pop(k, 'None')\n",
    "    model_score.pop(k, 'None')"
   ]
  },
  {
   "cell_type": "code",
   "execution_count": 0,
   "metadata": {
    "colab": {},
    "colab_type": "code",
    "id": "rDitCfiIgG0J"
   },
   "outputs": [],
   "source": [
    "for i, lm in enumerate(linear_models.keys()):\n",
    "  if i == 0:\n",
    "    concept_vecs = linear_models[lm].predict(outputs)[:, None]\n",
    "  else:\n",
    "    concept_vecs = np.concatenate((concept_vecs, linear_models[lm].predict(outputs)[:, None]), axis = -1)"
   ]
  },
  {
   "cell_type": "code",
   "execution_count": 41,
   "metadata": {
    "colab": {
     "base_uri": "https://localhost:8080/",
     "height": 34
    },
    "colab_type": "code",
    "executionInfo": {
     "elapsed": 29314,
     "status": "ok",
     "timestamp": 1579868826669,
     "user": {
      "displayName": "Youssef Mansour",
      "photoUrl": "",
      "userId": "12155639947958617468"
     },
     "user_tz": -120
    },
    "id": "PCtmSoIVjDsa",
    "outputId": "1714b56d-a83b-4447-9045-abf86da7142e"
   },
   "outputs": [
    {
     "data": {
      "text/plain": [
       "(1442, 104)"
      ]
     },
     "execution_count": 41,
     "metadata": {
      "tags": []
     },
     "output_type": "execute_result"
    }
   ],
   "source": [
    "concept_vecs.shape"
   ]
  },
  {
   "cell_type": "code",
   "execution_count": 0,
   "metadata": {
    "colab": {},
    "colab_type": "code",
    "id": "b9zHVsCsifTq"
   },
   "outputs": [],
   "source": [
    "from sklearn.tree import DecisionTreeClassifier\n",
    "from sklearn.ensemble import RandomForestClassifier"
   ]
  },
  {
   "cell_type": "code",
   "execution_count": 0,
   "metadata": {
    "colab": {},
    "colab_type": "code",
    "id": "nVpSIPYxtDS7"
   },
   "outputs": [],
   "source": [
    "random_seed = 0"
   ]
  },
  {
   "cell_type": "code",
   "execution_count": 44,
   "metadata": {
    "colab": {
     "base_uri": "https://localhost:8080/",
     "height": 527
    },
    "colab_type": "code",
    "executionInfo": {
     "elapsed": 29247,
     "status": "ok",
     "timestamp": 1579868826674,
     "user": {
      "displayName": "Youssef Mansour",
      "photoUrl": "",
      "userId": "12155639947958617468"
     },
     "user_tz": -120
    },
    "id": "932zy7n1jc-i",
    "outputId": "42092629-8630-4040-f693-31adef03e5ee"
   },
   "outputs": [
    {
     "name": "stdout",
     "output_type": "stream",
     "text": [
      "at depth 2\n",
      "train accuracy: 0.15004336513443192\n",
      "validation accuracy: 0.13494809688581316\n",
      "at depth 4\n",
      "train accuracy: 0.29141370338248046\n",
      "validation accuracy: 0.28027681660899656\n",
      "at depth 6\n",
      "train accuracy: 0.41543798785776237\n",
      "validation accuracy: 0.3944636678200692\n",
      "at depth 8\n",
      "train accuracy: 0.5342584562012143\n",
      "validation accuracy: 0.47058823529411764\n",
      "at depth 10\n",
      "train accuracy: 0.6565481352992194\n",
      "validation accuracy: 0.5190311418685121\n",
      "at depth 12\n",
      "train accuracy: 0.7519514310494363\n",
      "validation accuracy: 0.6228373702422145\n",
      "at depth 14\n",
      "train accuracy: 0.8326105810928014\n",
      "validation accuracy: 0.657439446366782\n",
      "at depth 16\n",
      "train accuracy: 0.8829141370338248\n",
      "validation accuracy: 0.6885813148788927\n",
      "at depth 18\n",
      "train accuracy: 0.9202081526452732\n",
      "validation accuracy: 0.7162629757785467\n",
      "at depth 20\n",
      "train accuracy: 0.9401561144839549\n",
      "validation accuracy: 0.7301038062283737\n"
     ]
    }
   ],
   "source": [
    "depths = np.arange(2,22,2)\n",
    "train_accs = []\n",
    "test_accs = []\n",
    "for d in depths:\n",
    "  train_x, val_x, train_y, val_y = train_test_split(concept_vecs, y_model, test_size=0.2, random_state=random_seed)\n",
    "  surrogate_tree = DecisionTreeClassifier(max_depth=d)\n",
    "  surrogate_tree.fit(train_x, train_y)\n",
    "  train_accs.append(surrogate_tree.score(train_x, train_y))\n",
    "  test_accs.append(surrogate_tree.score(val_x, val_y))\n",
    "  print(f'at depth {d}\\ntrain accuracy: {train_accs[-1]}')\n",
    "  print(f'validation accuracy: {test_accs[-1]}')"
   ]
  },
  {
   "cell_type": "code",
   "execution_count": 45,
   "metadata": {
    "colab": {
     "base_uri": "https://localhost:8080/",
     "height": 525
    },
    "colab_type": "code",
    "executionInfo": {
     "elapsed": 29224,
     "status": "ok",
     "timestamp": 1579868826674,
     "user": {
      "displayName": "Youssef Mansour",
      "photoUrl": "",
      "userId": "12155639947958617468"
     },
     "user_tz": -120
    },
    "id": "TDAAomdcY9jA",
    "outputId": "61c54cdb-b2a4-4e24-f1dc-914611697bea"
   },
   "outputs": [
    {
     "data": {
      "image/png": "[encoded data removed]",
      "text/plain": [
       "<Figure size 936x576 with 1 Axes>"
      ]
     },
     "metadata": {
      "tags": []
     },
     "output_type": "display_data"
    }
   ],
   "source": [
    "plt.figure(figsize=(13,8))\n",
    "plt.rcParams.update({'font.size': 14})\n",
    "plt.plot(depths, train_accs, '--x',label = 'train accuracy')\n",
    "plt.plot(depths, test_accs, '--x', label = 'test accuracy')\n",
    "plt.xlabel('tree max depth')\n",
    "plt.ylabel('accuracy')\n",
    "plt.title('Max Depth VS Accuracy')\n",
    "plt.xticks(depths)\n",
    "plt.yticks(np.arange(0,1,0.15))\n",
    "plt.legend()\n",
    "plt.show()"
   ]
  },
  {
   "cell_type": "code",
   "execution_count": 46,
   "metadata": {
    "colab": {
     "base_uri": "https://localhost:8080/",
     "height": 34
    },
    "colab_type": "code",
    "executionInfo": {
     "elapsed": 29219,
     "status": "ok",
     "timestamp": 1579868826675,
     "user": {
      "displayName": "Youssef Mansour",
      "photoUrl": "",
      "userId": "12155639947958617468"
     },
     "user_tz": -120
    },
    "id": "3s94RjxKayZu",
    "outputId": "82d06fe3-e6a2-4af6-8f7c-bc729d2b6a70"
   },
   "outputs": [
    {
     "data": {
      "text/plain": [
       "array([ 2,  4,  6,  8, 10, 12, 14, 16, 18, 20])"
      ]
     },
     "execution_count": 46,
     "metadata": {
      "tags": []
     },
     "output_type": "execute_result"
    }
   ],
   "source": [
    "depths"
   ]
  },
  {
   "cell_type": "code",
   "execution_count": 47,
   "metadata": {
    "colab": {
     "base_uri": "https://localhost:8080/",
     "height": 187
    },
    "colab_type": "code",
    "executionInfo": {
     "elapsed": 29207,
     "status": "ok",
     "timestamp": 1579868826677,
     "user": {
      "displayName": "Youssef Mansour",
      "photoUrl": "",
      "userId": "12155639947958617468"
     },
     "user_tz": -120
    },
    "id": "b_UBGG_7fPXa",
    "outputId": "4cf3b350-c6e5-45d5-e4d8-77d5ba35051b"
   },
   "outputs": [
    {
     "data": {
      "text/plain": [
       "[0.15004336513443192,\n",
       " 0.29141370338248046,\n",
       " 0.41543798785776237,\n",
       " 0.5342584562012143,\n",
       " 0.6565481352992194,\n",
       " 0.7519514310494363,\n",
       " 0.8326105810928014,\n",
       " 0.8829141370338248,\n",
       " 0.9202081526452732,\n",
       " 0.9401561144839549]"
      ]
     },
     "execution_count": 47,
     "metadata": {
      "tags": []
     },
     "output_type": "execute_result"
    }
   ],
   "source": [
    "train_accs"
   ]
  },
  {
   "cell_type": "code",
   "execution_count": 48,
   "metadata": {
    "colab": {
     "base_uri": "https://localhost:8080/",
     "height": 187
    },
    "colab_type": "code",
    "executionInfo": {
     "elapsed": 13578,
     "status": "ok",
     "timestamp": 1579869945684,
     "user": {
      "displayName": "Youssef Mansour",
      "photoUrl": "",
      "userId": "12155639947958617468"
     },
     "user_tz": -120
    },
    "id": "_d_o61UifMl3",
    "outputId": "7d49eb02-7559-463e-a70b-a7d3b3e9884c"
   },
   "outputs": [
    {
     "data": {
      "text/plain": [
       "[0.13494809688581316,\n",
       " 0.28027681660899656,\n",
       " 0.3944636678200692,\n",
       " 0.47058823529411764,\n",
       " 0.5190311418685121,\n",
       " 0.6228373702422145,\n",
       " 0.657439446366782,\n",
       " 0.6885813148788927,\n",
       " 0.7162629757785467,\n",
       " 0.7301038062283737]"
      ]
     },
     "execution_count": 48,
     "metadata": {
      "tags": []
     },
     "output_type": "execute_result"
    }
   ],
   "source": [
    "test_accs"
   ]
  },
  {
   "cell_type": "code",
   "execution_count": 0,
   "metadata": {
    "colab": {},
    "colab_type": "code",
    "id": "6oaFM7QWfOwH"
   },
   "outputs": [],
   "source": []
  }
 ],
 "metadata": {
  "accelerator": "GPU",
  "colab": {
   "collapsed_sections": [],
   "machine_shape": "hm",
   "name": "depth_vs_acc.ipynb",
   "provenance": []
  },
  "kernelspec": {
   "display_name": "Python 3",
   "language": "python",
   "name": "python3"
  },
  "language_info": {
   "codemirror_mode": {
    "name": "ipython",
    "version": 3
   },
   "file_extension": ".py",
   "mimetype": "text/x-python",
   "name": "python",
   "nbconvert_exporter": "python",
   "pygments_lexer": "ipython3",
   "version": "3.7.4"
  }
 },
 "nbformat": 4,
 "nbformat_minor": 1
}
