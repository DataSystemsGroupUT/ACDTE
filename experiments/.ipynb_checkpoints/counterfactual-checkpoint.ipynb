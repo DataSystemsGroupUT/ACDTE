{
 "cells": [
  {
   "cell_type": "code",
   "execution_count": 0,
   "metadata": {
    "colab": {},
    "colab_type": "code",
    "id": "F2ytSeOCVDYB"
   },
   "outputs": [],
   "source": [
    "%tensorflow_version 1.x"
   ]
  },
  {
   "cell_type": "code",
   "execution_count": 0,
   "metadata": {
    "colab": {},
    "colab_type": "code",
    "id": "lBdFkQlib-7_"
   },
   "outputs": [],
   "source": [
    "import numpy as np\n",
    "import pandas as pd\n",
    "import sklearn\n",
    "from sklearn import tree\n",
    "from matplotlib import pyplot as plt\n",
    "\n",
    "%load_ext autoreload\n",
    "%autoreload 2\n",
    "\n",
    "import torch\n",
    "from torch.autograd import Variable as V\n",
    "import torchvision.models as models\n",
    "from torchvision import transforms as trn\n",
    "from torch.nn import functional as F\n",
    "import torch.nn as nn\n",
    "import os\n",
    "from PIL import Image\n",
    "import matplotlib.pyplot as plt"
   ]
  },
  {
   "cell_type": "code",
   "execution_count": 0,
   "metadata": {
    "colab": {
     "base_uri": "https://localhost:8080/",
     "height": 122
    },
    "colab_type": "code",
    "executionInfo": {
     "elapsed": 31770,
     "status": "ok",
     "timestamp": 1583356124681,
     "user": {
      "displayName": "Youssef Mansour",
      "photoUrl": "",
      "userId": "12155639947958617468"
     },
     "user_tz": -120
    },
    "id": "-aRW1L4v3FQX",
    "outputId": "9f10d162-c7e0-49bb-db19-f3bfe555c10e"
   },
   "outputs": [
    {
     "name": "stdout",
     "output_type": "stream",
     "text": [
      "Go to this URL in a browser: https://accounts.google.com/o/oauth2/auth?client_id=947318989803-6bn6qk8qdgf4n4g3pfee6491hc0brc4i.apps.googleusercontent.com&redirect_uri=urn%3aietf%3awg%3aoauth%3a2.0%3aoob&response_type=code&scope=email%20https%3a%2f%2fwww.googleapis.com%2fauth%2fdocs.test%20https%3a%2f%2fwww.googleapis.com%2fauth%2fdrive%20https%3a%2f%2fwww.googleapis.com%2fauth%2fdrive.photos.readonly%20https%3a%2f%2fwww.googleapis.com%2fauth%2fpeopleapi.readonly\n",
      "\n",
      "Enter your authorization code:\n",
      "··········\n",
      "Mounted at /content/drive\n"
     ]
    }
   ],
   "source": [
    "from google.colab import drive\n",
    "drive.mount('/content/drive')"
   ]
  },
  {
   "cell_type": "code",
   "execution_count": 0,
   "metadata": {
    "colab": {},
    "colab_type": "code",
    "id": "HBoCxeykSwNm"
   },
   "outputs": [],
   "source": [
    "file_name = 'categories_places365.txt'\n",
    "if not os.access(file_name, os.W_OK):\n",
    "    synset_url = 'https://raw.githubusercontent.com/csailvision/places365/master/categories_places365.txt'\n",
    "    os.system('wget ' + synset_url)\n",
    "classes = list()\n",
    "with open(file_name) as class_file:\n",
    "    for line in class_file:\n",
    "        classes.append(line.strip().split(' ')[0][3:])\n",
    "classes = np.array(classes)"
   ]
  },
  {
   "cell_type": "code",
   "execution_count": 0,
   "metadata": {
    "colab": {
     "base_uri": "https://localhost:8080/",
     "height": 34
    },
    "colab_type": "code",
    "executionInfo": {
     "elapsed": 3031,
     "status": "ok",
     "timestamp": 1583356143728,
     "user": {
      "displayName": "Youssef Mansour",
      "photoUrl": "",
      "userId": "12155639947958617468"
     },
     "user_tz": -120
    },
    "id": "gUM0jV2TdNVO",
    "outputId": "c8b34931-10e7-422c-c238-b456de65f67a"
   },
   "outputs": [
    {
     "data": {
      "text/plain": [
       "<All keys matched successfully>"
      ]
     },
     "execution_count": 6,
     "metadata": {
      "tags": []
     },
     "output_type": "execute_result"
    }
   ],
   "source": [
    "arch = 'resnet50'\n",
    "model_file = f'{arch}_places365.pth.tar'\n",
    "if not os.access(model_file, os.W_OK):\n",
    "    weight_url = 'http://places2.csail.mit.edu/models_places365/' + model_file\n",
    "    os.system('wget ' + weight_url)\n",
    "\n",
    "model = models.__dict__[arch](num_classes=365)\n",
    "checkpoint = torch.load(model_file, map_location=lambda storage, loc: storage)\n",
    "state_dict = {str.replace(k,'module.',''): v for k,v in checkpoint['state_dict'].items()}\n",
    "model.load_state_dict(state_dict)"
   ]
  },
  {
   "cell_type": "code",
   "execution_count": 0,
   "metadata": {
    "colab": {
     "base_uri": "https://localhost:8080/",
     "height": 34
    },
    "colab_type": "code",
    "executionInfo": {
     "elapsed": 2721,
     "status": "ok",
     "timestamp": 1583356143730,
     "user": {
      "displayName": "Youssef Mansour",
      "photoUrl": "",
      "userId": "12155639947958617468"
     },
     "user_tz": -120
    },
    "id": "UODGZRdVfMn1",
    "outputId": "2573c1cc-4aa0-4d91-8475-fb47d120ad69"
   },
   "outputs": [
    {
     "data": {
      "text/plain": [
       "'convert model to evaluation mode with no grad'"
      ]
     },
     "execution_count": 7,
     "metadata": {
      "tags": []
     },
     "output_type": "execute_result"
    }
   ],
   "source": [
    "model.eval()\n",
    "for param in model.parameters():\n",
    "    param.requires_grad = False\n",
    "'convert model to evaluation mode with no grad'"
   ]
  },
  {
   "cell_type": "code",
   "execution_count": 0,
   "metadata": {
    "colab": {},
    "colab_type": "code",
    "id": "sVhMbksliCuX"
   },
   "outputs": [],
   "source": [
    "device = torch.device(\"cuda:0\" if torch.cuda.is_available() else \"cpu\")"
   ]
  },
  {
   "cell_type": "code",
   "execution_count": 0,
   "metadata": {
    "colab": {},
    "colab_type": "code",
    "id": "yrlLe_Xt00PC"
   },
   "outputs": [],
   "source": [
    "feature_extractor = nn.Sequential(*list(model.children())[:-2], nn.AdaptiveAvgPool2d(1)).eval().to(device)"
   ]
  },
  {
   "cell_type": "code",
   "execution_count": 0,
   "metadata": {
    "colab": {},
    "colab_type": "code",
    "id": "mmtJrDuPWcdG"
   },
   "outputs": [],
   "source": [
    "!cp drive/'My Drive'/'Colab Notebooks'/'Automate local TCAV'/'final notebooks'/resized_imgs.pkl  /content/\n",
    "!cp drive/'My Drive'/'Colab Notebooks'/'Automate local TCAV'/'final notebooks'/masks.pkl  /content/\n",
    "!cp drive/'My Drive'/'Colab Notebooks'/'Automate local TCAV'/'final notebooks'/classes.pkl  /content/"
   ]
  },
  {
   "cell_type": "code",
   "execution_count": 0,
   "metadata": {
    "colab": {},
    "colab_type": "code",
    "id": "xUljBU4CXgt2"
   },
   "outputs": [],
   "source": [
    "import pickle\n",
    "with open('masks.pkl', 'rb') as f:\n",
    "  masks = pickle.load(f)\n",
    "with open('resized_imgs.pkl', 'rb') as f:\n",
    "  imgs = pickle.load(f)\n",
    "with open('classes.pkl', 'rb') as f:\n",
    "  labels = np.array(pickle.load(f))"
   ]
  },
  {
   "cell_type": "code",
   "execution_count": 0,
   "metadata": {
    "colab": {},
    "colab_type": "code",
    "id": "uwe-ECozYS2v"
   },
   "outputs": [],
   "source": [
    "def get_segments(img, mask, threshold = 0.05):\n",
    "  ade_classes = pd.read_csv('https://raw.githubusercontent.com/CSAILVision/sceneparsing/master/objectInfo150.csv')\n",
    "  segs = np.unique(mask)\n",
    "  segments = []\n",
    "  total = mask.shape[0]*mask.shape[1]\n",
    "  segments_classes = []\n",
    "  for seg in segs:\n",
    "    idxs = mask==seg\n",
    "    sz = np.sum(idxs)\n",
    "    if sz < threshold*total:\n",
    "      continue\n",
    "    segment = img*idxs[..., None]\n",
    "    w, h, _ = np.nonzero(segment)\n",
    "    segment = segment[np.min(w):np.max(w),np.min(h):np.max(h),:]\n",
    "    segments.append(segment)\n",
    "    segments_classes.append(ade_classes['Name'].loc[ade_classes['Idx']==seg].iloc[0])\n",
    "  return segments, segments_classes"
   ]
  },
  {
   "cell_type": "code",
   "execution_count": 0,
   "metadata": {
    "colab": {},
    "colab_type": "code",
    "id": "AXSQxAQtj8lZ"
   },
   "outputs": [],
   "source": [
    "img_segments = []\n",
    "img_segments_classes = []\n",
    "for img, msk in zip(imgs, masks):\n",
    "  segss, seg_class = get_segments(np.array(img), msk, threshold = 0.005)\n",
    "  img_segments_classes.append(seg_class)\n",
    "  img_segments.append(segss)\n",
    "img_segments_classes_flattened = np.array([v for vec in img_segments_classes for v in vec])"
   ]
  },
  {
   "cell_type": "code",
   "execution_count": 0,
   "metadata": {
    "colab": {},
    "colab_type": "code",
    "id": "zi7XrhzdRnSZ"
   },
   "outputs": [],
   "source": [
    "centre_crop = trn.Compose([\n",
    "        trn.Resize((256,256)),\n",
    "        trn.CenterCrop(224),\n",
    "        trn.ToTensor(),\n",
    "        # trn.Normalize([0, 0, 0], [255, 255, 225]),\n",
    "        trn.Normalize([0.485, 0.456, 0.406], [0.229, 0.224, 0.225])\n",
    "])"
   ]
  },
  {
   "cell_type": "code",
   "execution_count": 0,
   "metadata": {
    "colab": {
     "base_uri": "https://localhost:8080/",
     "height": 34
    },
    "colab_type": "code",
    "executionInfo": {
     "elapsed": 592,
     "status": "ok",
     "timestamp": 1583356524109,
     "user": {
      "displayName": "Youssef Mansour",
      "photoUrl": "",
      "userId": "12155639947958617468"
     },
     "user_tz": -120
    },
    "id": "GQXp0ePxS90Z",
    "outputId": "9f43b8e5-9f89-4d65-ec3f-60f8d7a6dc7d"
   },
   "outputs": [
    {
     "data": {
      "text/plain": [
       "'finished the full model with hook attached'"
      ]
     },
     "execution_count": 15,
     "metadata": {
      "tags": []
     },
     "output_type": "execute_result"
    }
   ],
   "source": [
    "outputs = []\n",
    "def hook(module, input, output):\n",
    "    x = nn.AdaptiveAvgPool2d(1)(output)\n",
    "    outputs.append(x.cpu().numpy().squeeze())\n",
    "full_model = model\n",
    "handle = full_model.layer4[2].register_forward_hook(hook)\n",
    "full_model.to(device)\n",
    "'finished the full model with hook attached'"
   ]
  },
  {
   "cell_type": "code",
   "execution_count": 0,
   "metadata": {
    "colab": {},
    "colab_type": "code",
    "id": "UAB4lE3xTGjn"
   },
   "outputs": [],
   "source": [
    "chosen_classes = ['street', 'bedroom', 'living_room', 'bathroom', 'kitchen', \n",
    "            'skyscraper', 'highway', 'conference_room', 'mountain_snowy', 'office',\n",
    "            'corridor', 'airport_terminal', 'attic', 'mountain', 'park', 'coast', \n",
    "            'alley','beach', 'childs_room', 'art_gallery','castle', 'dorm_room', \n",
    "            'nursery', 'lobby', 'reception', 'bar', 'house', 'bridge', 'classroom']\n",
    "num_classes = len(chosen_classes)\n",
    "idxs = []\n",
    "for ccls in chosen_classes:\n",
    "  idx = np.argwhere(classes == ccls)\n",
    "  if len(idx) == 0:\n",
    "    print(f'class {ccls} is not found in places365, so we will use places365 alternate')\n",
    "  else:\n",
    "    idxs.append(idx[0][0])"
   ]
  },
  {
   "cell_type": "code",
   "execution_count": 0,
   "metadata": {
    "colab": {},
    "colab_type": "code",
    "id": "IPAYjb9kTIig"
   },
   "outputs": [],
   "source": [
    "del outputs\n",
    "outputs = []\n",
    "y_model = []\n",
    "for img in imgs:\n",
    "  input_img = V(centre_crop(img).unsqueeze(0))\n",
    "  input_img = input_img.to(device)\n",
    "  pred = full_model.forward(input_img)\n",
    "  y_model.append(classes[idxs][np.argmax((pred.cpu().detach().numpy()[:,idxs]))])\n",
    "outputs = np.array(outputs)\n",
    "img_vectors = np.copy(outputs)"
   ]
  },
  {
   "cell_type": "code",
   "execution_count": 0,
   "metadata": {
    "colab": {},
    "colab_type": "code",
    "id": "f_UCa5EuTJl9"
   },
   "outputs": [],
   "source": [
    "del outputs\n",
    "outputs = []\n",
    "img_segmentsid = []\n",
    "segments_classes = []\n",
    "for i, img_seg in enumerate(img_segments):\n",
    "    img_segmentsid.append((img_segmentsid[-1] if i>0 else 0) + len(img_seg))\n",
    "    for seg in img_seg:\n",
    "      img = Image.fromarray(seg, 'RGB')\n",
    "      input_img = V(centre_crop(img).unsqueeze(0))\n",
    "      input_img = input_img.to(device)\n",
    "      pred = full_model.forward(input_img)\n",
    "      segments_classes.append(classes[idxs][np.argmax((pred.cpu().detach().numpy()[:,idxs]))])\n",
    "outputs = np.array(outputs)\n",
    "all_vectors = np.copy(outputs)\n",
    "segments_classes = np.array(segments_classes)\n",
    "\n",
    "feature_vectors = []\n",
    "for i in range(len(img_segmentsid)):\n",
    "  feature_vectors.append(all_vectors[(img_segmentsid[i-1] if i>0 else 0):img_segmentsid[i]])\n",
    "\n",
    "segment_img = {}\n",
    "c = 0\n",
    "for j, fvec in enumerate(feature_vectors): \n",
    "  c_old = c\n",
    "  c += len(fvec) if len(fvec) != 1024 else 1\n",
    "  for i in range(c_old, c):\n",
    "    segment_img[i] = j"
   ]
  },
  {
   "cell_type": "code",
   "execution_count": 0,
   "metadata": {
    "colab": {},
    "colab_type": "code",
    "id": "WqX26eghzYrr"
   },
   "outputs": [],
   "source": [
    "import sklearn.metrics\n",
    "from sklearn.cluster import KMeans\n",
    "from sklearn.model_selection import train_test_split\n",
    "from sklearn.linear_model import LogisticRegression\n",
    "from sklearn.decomposition import PCA\n",
    "from sklearn.pipeline import Pipeline\n",
    "from sklearn.tree import DecisionTreeClassifier\n",
    "from sklearn.ensemble import RandomForestClassifier"
   ]
  },
  {
   "cell_type": "code",
   "execution_count": 0,
   "metadata": {
    "colab": {
     "base_uri": "https://localhost:8080/",
     "height": 34
    },
    "colab_type": "code",
    "executionInfo": {
     "elapsed": 539,
     "status": "ok",
     "timestamp": 1583358252662,
     "user": {
      "displayName": "Youssef Mansour",
      "photoUrl": "",
      "userId": "12155639947958617468"
     },
     "user_tz": -120
    },
    "id": "ZfTIOCKjgUiv",
    "outputId": "b271d67b-7fa8-471d-cd42-3815b64720dc"
   },
   "outputs": [
    {
     "data": {
      "text/plain": [
       "(3183,)"
      ]
     },
     "execution_count": 44,
     "metadata": {
      "tags": []
     },
     "output_type": "execute_result"
    }
   ],
   "source": [
    "clusters_labels.shape"
   ]
  },
  {
   "cell_type": "code",
   "execution_count": 0,
   "metadata": {
    "colab": {},
    "colab_type": "code",
    "id": "NmotGiDzSjMa"
   },
   "outputs": [],
   "source": [
    "def cluster_top_k(cluster_id, k = 40):\n",
    "  instances_ids = np.argwhere(clusters_labels==cluster_id).squeeze()\n",
    "  instances = X[instances_ids]\n",
    "  scores = []\n",
    "  for inst in instances:\n",
    "    scores.append(-kmeans.score([inst]))\n",
    "  final_ids = np.argsort(scores)[:k]\n",
    "  return instances_ids[final_ids]\n",
    "\n",
    "cluster_instances_id = lambda cid:  np.argwhere(clusters_labels==cid).squeeze()\n",
    "\n",
    "def is_single_img_clusters(cls_id):\n",
    "  instances_ids = cluster_instances_id(cls_id)\n",
    "  # instances_ids = cluster_representatives[cls_id]\n",
    "  source_imgs = [segment_img[inst_id] for inst_id in instances_ids]\n",
    "  unique_imgs = len(np.unique(source_imgs))\n",
    "  return 0 if unique_imgs > 1 else 1"
   ]
  },
  {
   "cell_type": "code",
   "execution_count": 0,
   "metadata": {
    "colab": {},
    "colab_type": "code",
    "id": "xYH7_Ov1Ji3e"
   },
   "outputs": [],
   "source": [
    "all_img_segments = [v for vec in img_segments for v in vec]"
   ]
  },
  {
   "cell_type": "code",
   "execution_count": 0,
   "metadata": {
    "colab": {},
    "colab_type": "code",
    "id": "La9IGP4sDZs5"
   },
   "outputs": [],
   "source": [
    "img_distances = sklearn.metrics.pairwise.euclidean_distances(img_vectors)"
   ]
  },
  {
   "cell_type": "code",
   "execution_count": 0,
   "metadata": {
    "colab": {},
    "colab_type": "code",
    "id": "kf8rsPVqeKV7"
   },
   "outputs": [],
   "source": [
    "instance_id = 77\n",
    "num_neighbors = 1000\n",
    "neighbors = np.argsort(img_distances[instance_id])[:num_neighbors]\n",
    "neighbor_vectors = img_vectors[neighbors]\n",
    "neighbor_segments = np.array([v for i in neighbors for v in img_segments[i]])\n",
    "neighbor_segments_classes = np.array([v for i in neighbors for v in img_segments_classes[i]])\n",
    "neighbor_labels = np.array(y_model)[neighbors]\n",
    "X =  np.array([v for i in neighbors for v in feature_vectors[i]])\n",
    "# X = np.array(all_vectors)\n",
    "num_segs = X.shape[0]\n",
    "k = int(num_segs**0.5)\n",
    "kmeans = KMeans(n_clusters=k).fit(X)\n",
    "clusters_labels = kmeans.labels_\n",
    "cluster_names, cluster_counts = np.unique(clusters_labels, return_counts=1)"
   ]
  },
  {
   "cell_type": "code",
   "execution_count": 0,
   "metadata": {
    "colab": {
     "base_uri": "https://localhost:8080/",
     "height": 51
    },
    "colab_type": "code",
    "executionInfo": {
     "elapsed": 142166,
     "status": "ok",
     "timestamp": 1583361818775,
     "user": {
      "displayName": "Youssef Mansour",
      "photoUrl": "",
      "userId": "12155639947958617468"
     },
     "user_tz": -120
    },
    "id": "-AOr0hcGeiuW",
    "outputId": "5954fc84-0e79-4389-ec14-1fa73c75f408"
   },
   "outputs": [
    {
     "name": "stdout",
     "output_type": "stream",
     "text": [
      "total number of clusters 89\n",
      "total number of good clusters 71\n"
     ]
    }
   ],
   "source": [
    "count_threshold = int(k*0.6)\n",
    "ids = cluster_counts > count_threshold\n",
    "good_clusters = cluster_names[ids]\n",
    "cluster_counts = cluster_counts[ids]\n",
    "print(f'total number of clusters {len(cluster_names)}')\n",
    "print(f'total number of good clusters {len(good_clusters)}')"
   ]
  },
  {
   "cell_type": "code",
   "execution_count": 0,
   "metadata": {
    "colab": {},
    "colab_type": "code",
    "id": "86OdDpt-fFqO"
   },
   "outputs": [],
   "source": [
    "cluster_scores = []\n",
    "for cls in good_clusters:\n",
    "  cluster_scores.append(kmeans.score(X[np.argwhere(clusters_labels==cls).squeeze()]))\n",
    "cluster_scores = np.array(cluster_scores)\n",
    "cluster_importance = [cluster_counts, cluster_scores]\n",
    "cluster_importance.append(cluster_importance[1]/cluster_importance[0])"
   ]
  },
  {
   "cell_type": "code",
   "execution_count": 0,
   "metadata": {
    "colab": {},
    "colab_type": "code",
    "id": "WTVL27pnfz9R"
   },
   "outputs": [],
   "source": [
    "final_clusters = []\n",
    "to_remove = []\n",
    "for j, cluster_id in enumerate(good_clusters):\n",
    "  if is_single_img_clusters(cluster_id):\n",
    "    to_remove.append(j)\n",
    "    continue\n",
    "  final_clusters.append(cluster_id)\n",
    "for i in range(len(cluster_importance)):\n",
    "  cluster_importance[i] = np.delete(cluster_importance[i],to_remove)\n",
    "final_clusters = np.array(final_clusters)"
   ]
  },
  {
   "cell_type": "code",
   "execution_count": 0,
   "metadata": {
    "colab": {},
    "colab_type": "code",
    "id": "jyUzAbSIgBcI"
   },
   "outputs": [],
   "source": [
    "cluster_representatives = {}\n",
    "cluster_labels = {}\n",
    "for cluster_id in final_clusters:\n",
    "  cluster_representatives[cluster_id] = cluster_top_k(cluster_id, k=40)\n",
    "  classes, counts = np.unique(neighbor_segments_classes[cluster_representatives[cluster_id]], return_counts=1)\n",
    "  cluster_labels[cluster_id] = classes[np.argmax(counts)].split(';')[0]"
   ]
  },
  {
   "cell_type": "code",
   "execution_count": 0,
   "metadata": {
    "colab": {},
    "colab_type": "code",
    "id": "TxAd8lxcgHIw"
   },
   "outputs": [],
   "source": [
    "linear_models = {}\n",
    "model_score = {}\n",
    "for cluster in final_clusters:\n",
    "  positive_instances = cluster_instances_id(cluster)\n",
    "  negative_instances = np.argwhere(clusters_labels!=cluster).squeeze()\n",
    "  num_samples = min(len(positive_instances), len(negative_instances))\n",
    "  selected_pos = np.random.choice(positive_instances, num_samples, replace=False)\n",
    "  selected_neg = np.random.choice(negative_instances, num_samples, replace=False)\n",
    "  train_x = np.append(X[selected_pos], X[selected_neg], axis=0)\n",
    "  train_y = np.array([1] * num_samples + [0] * num_samples)\n",
    "  train_x, val_x, train_y, val_y = train_test_split(train_x, train_y)\n",
    "  n_components = min(256, len(train_x))\n",
    "  pca_model = PCA(n_components=n_components)\n",
    "  lr_model = LogisticRegression()\n",
    "  pca_lr_model = Pipeline(steps = [('pca', pca_model), ('lr', lr_model)])\n",
    "  # pca_lr_model.set_params(pca__n_components=256, lr__penalty='l2')\n",
    "  pca_lr_model.fit(train_x, train_y)\n",
    "  linear_models[cluster] = pca_lr_model\n",
    "  model_score[cluster] = pca_lr_model.score(val_x, val_y)"
   ]
  },
  {
   "cell_type": "code",
   "execution_count": 0,
   "metadata": {
    "colab": {
     "base_uri": "https://localhost:8080/",
     "height": 102
    },
    "colab_type": "code",
    "executionInfo": {
     "elapsed": 158013,
     "status": "ok",
     "timestamp": 1583361835826,
     "user": {
      "displayName": "Youssef Mansour",
      "photoUrl": "",
      "userId": "12155639947958617468"
     },
     "user_tz": -120
    },
    "id": "1PWNM5BcnESI",
    "outputId": "e4234b6b-48aa-4c7d-a834-d3faeb178249"
   },
   "outputs": [
    {
     "name": "stdout",
     "output_type": "stream",
     "text": [
      "removing low scoring clusters based on holdout accuracy .............\n",
      "\n",
      "\n",
      "done\n",
      "removed 0 clusters\n"
     ]
    }
   ],
   "source": [
    "print('removing low scoring clusters based on holdout accuracy .............\\n')\n",
    "c = 0\n",
    "to_remove = []\n",
    "for k, v in list(model_score.items()):\n",
    "  if v < 0.75:\n",
    "    c+=1\n",
    "    print(f'removed cluster {k}')\n",
    "    linear_models.pop(k, 'None')\n",
    "    model_score.pop(k, 'None')\n",
    "    cluster_labels.pop(k,'None')\n",
    "    to_remove.append(np.argwhere(final_clusters==k)[0][0])\n",
    "for i in range(len(cluster_importance)):\n",
    "  cluster_importance[i] = np.delete(cluster_importance[i],to_remove)\n",
    "print(f'\\ndone\\nremoved {c} clusters')"
   ]
  },
  {
   "cell_type": "code",
   "execution_count": 0,
   "metadata": {
    "colab": {},
    "colab_type": "code",
    "id": "Mtthd-qdoByu"
   },
   "outputs": [],
   "source": []
  },
  {
   "cell_type": "code",
   "execution_count": 0,
   "metadata": {
    "colab": {},
    "colab_type": "code",
    "id": "79i4Yoi_mbb_"
   },
   "outputs": [],
   "source": [
    "# np.array(list(linear_models.keys()))[np.argsort(cluster_importance[2])]"
   ]
  },
  {
   "cell_type": "code",
   "execution_count": 0,
   "metadata": {
    "colab": {},
    "colab_type": "code",
    "id": "RYGqcg7smbbt"
   },
   "outputs": [],
   "source": [
    "# ccid = 48\n",
    "# print(cluster_representatives[ccid])\n",
    "# cluster_labels[ccid]"
   ]
  },
  {
   "cell_type": "code",
   "execution_count": 0,
   "metadata": {
    "colab": {},
    "colab_type": "code",
    "id": "GGucHxenmbbc"
   },
   "outputs": [],
   "source": [
    "# for i in cluster_representatives[ccid][:20]:\n",
    "#   plt.imshow(neighbor_segments[i])\n",
    "#   plt.show()"
   ]
  },
  {
   "cell_type": "code",
   "execution_count": 0,
   "metadata": {
    "colab": {},
    "colab_type": "code",
    "id": "7wcjsmh_oDBo"
   },
   "outputs": [],
   "source": []
  },
  {
   "cell_type": "code",
   "execution_count": 0,
   "metadata": {
    "colab": {
     "base_uri": "https://localhost:8080/",
     "height": 34
    },
    "colab_type": "code",
    "executionInfo": {
     "elapsed": 154711,
     "status": "ok",
     "timestamp": 1583361837096,
     "user": {
      "displayName": "Youssef Mansour",
      "photoUrl": "",
      "userId": "12155639947958617468"
     },
     "user_tz": -120
    },
    "id": "vjRGwPgeniAa",
    "outputId": "91bf4151-26ef-471e-b8c4-8ba1788b938e"
   },
   "outputs": [
    {
     "name": "stdout",
     "output_type": "stream",
     "text": [
      "converting feature vectors to binary concept vectors ..................\n"
     ]
    }
   ],
   "source": [
    "print('converting feature vectors to binary concept vectors ..................')\n",
    "for i, lm in enumerate(linear_models.keys()):\n",
    "  if i == 0:\n",
    "    concept_vecs = linear_models[lm].predict(neighbor_vectors)[:, None]\n",
    "#     concept_vecs = linear_models[lm].predict(img_vectors)[:, None]\n",
    "  else:\n",
    "    concept_vecs = np.concatenate((concept_vecs, linear_models[lm].predict(neighbor_vectors)[:, None]), axis = -1)\n",
    "#     concept_vecs = np.concatenate((concept_vecs, linear_models[lm].predict(img_vectors)[:, None]), axis = -1)"
   ]
  },
  {
   "cell_type": "code",
   "execution_count": 0,
   "metadata": {
    "colab": {
     "base_uri": "https://localhost:8080/",
     "height": 51
    },
    "colab_type": "code",
    "executionInfo": {
     "elapsed": 154305,
     "status": "ok",
     "timestamp": 1583361837103,
     "user": {
      "displayName": "Youssef Mansour",
      "photoUrl": "",
      "userId": "12155639947958617468"
     },
     "user_tz": -120
    },
    "id": "Cvm6_ySNnHZ0",
    "outputId": "9a49af71-5422-4773-9d02-faae3ccdcdf7"
   },
   "outputs": [
    {
     "name": "stdout",
     "output_type": "stream",
     "text": [
      "0.24125\n",
      "0.27\n"
     ]
    }
   ],
   "source": [
    "# random_seed = 0\n",
    "cluster_names = np.array(list(linear_models.keys()))\n",
    "train_x, val_x, train_y, val_y = train_test_split(concept_vecs, neighbor_labels, test_size=0.2)\n",
    "# train_x, val_x, train_y, val_y = train_test_split(concept_vecs, y_model, test_size=0.2, random_state=random_seed)\n",
    "surrogate_tree = DecisionTreeClassifier(max_depth = 3)\n",
    "surrogate_tree.fit(train_x, train_y)\n",
    "print(surrogate_tree.score(train_x, train_y))\n",
    "print(surrogate_tree.score(val_x, val_y))"
   ]
  },
  {
   "cell_type": "code",
   "execution_count": 0,
   "metadata": {
    "colab": {
     "base_uri": "https://localhost:8080/",
     "height": 392
    },
    "colab_type": "code",
    "executionInfo": {
     "elapsed": 154529,
     "status": "ok",
     "timestamp": 1583361838023,
     "user": {
      "displayName": "Youssef Mansour",
      "photoUrl": "",
      "userId": "12155639947958617468"
     },
     "user_tz": -120
    },
    "id": "5Lxd3Zk_o08D",
    "outputId": "a2fb78c1-eaea-4597-a487-18e2f586ddd5"
   },
   "outputs": [
    {
     "data": {
      "image/png": "[encoded data removed]",
      "text/plain": [
       "<IPython.core.display.Image object>"
      ]
     },
     "metadata": {
      "tags": []
     },
     "output_type": "display_data"
    }
   ],
   "source": [
    "import graphviz\n",
    "import pydotplus\n",
    "import re\n",
    "dot_data = sklearn.tree.export_graphviz(surrogate_tree, out_file='tree.dot',\n",
    "                                feature_names=list(cluster_labels.values()),  \n",
    "                                class_names=surrogate_tree.classes_, \n",
    "                                impurity = False,\n",
    "                                # label = None,\n",
    "                                proportion = False, \n",
    "                                filled=True,\n",
    "                                # rounded=True, \n",
    "                                special_characters=False) \n",
    "f = pydotplus.graph_from_dot_file('tree.dot').to_string()\n",
    "f = re.sub('(\\\\\\\\nsamples = [0-9]+)', '', f)\n",
    "f = re.sub('(\\\\\\\\nvalue = \\[.*[0-9]\\])', '', f)\n",
    "f = re.sub('(samples = [0-9]+)\\\\\\\\n', '', f)\n",
    "with open('tree_modified.dot', 'w') as file:\n",
    "    file.write(f)\n",
    "graph = pydotplus.graphviz.graph_from_dot_file('tree_modified.dot')\n",
    "# graph = graphviz.Source(dot_data)\n",
    "from IPython.display import Image\n",
    "display(Image(graph.create_png()))"
   ]
  },
  {
   "cell_type": "code",
   "execution_count": 0,
   "metadata": {
    "colab": {},
    "colab_type": "code",
    "id": "kzzZs_ab-2q9"
   },
   "outputs": [],
   "source": [
    "from queue import Queue"
   ]
  },
  {
   "cell_type": "code",
   "execution_count": 0,
   "metadata": {
    "colab": {},
    "colab_type": "code",
    "id": "sh5F5sE_ewrm"
   },
   "outputs": [],
   "source": [
    "n_nodes = surrogate_tree.tree_.node_count\n",
    "children_left = surrogate_tree.tree_.children_left\n",
    "children_right = surrogate_tree.tree_.children_right\n",
    "feature = surrogate_tree.tree_.feature\n",
    "threshold = surrogate_tree.tree_.threshold\n",
    "nodes_classes = []\n",
    "is_leave = []\n",
    "for i in range(n_nodes):\n",
    "  nodes_classes.append(surrogate_tree.classes_[np.argmax(surrogate_tree.tree_.value[i])])\n",
    "  is_leave.append(1 if children_left[i]==children_right[i] else 0)\n",
    "nodes_classes = np.array(nodes_classes)\n",
    "is_leave = np.array(is_leave)\n",
    "\n",
    "parent = -np.ones_like(children_right)\n",
    "q = Queue()\n",
    "q.put(0)\n",
    "while not q.empty():\n",
    "  u = q.get()\n",
    "  if children_right[u] == children_left[u]:\n",
    "    continue\n",
    "  q.put(children_right[u])\n",
    "  q.put(children_left[u])\n",
    "  parent[children_right[u]] = u\n",
    "  parent[children_left[u]] = u"
   ]
  },
  {
   "cell_type": "code",
   "execution_count": 0,
   "metadata": {
    "colab": {},
    "colab_type": "code",
    "id": "cQrrIZGVrbvi"
   },
   "outputs": [],
   "source": [
    "node_indicator = surrogate_tree.decision_path(val_x)\n",
    "predictions = surrogate_tree.predict(val_x)"
   ]
  },
  {
   "cell_type": "code",
   "execution_count": 0,
   "metadata": {
    "colab": {},
    "colab_type": "code",
    "id": "ENp3CMYus8t9"
   },
   "outputs": [],
   "source": [
    "def print_rule(sample_id):\n",
    "  node_index = node_indicator.indices[node_indicator.indptr[sample_id]:\n",
    "                                      node_indicator.indptr[sample_id + 1]]\n",
    "  print(f'instance number {sample_id} is {predictions[sample_id]}')\n",
    "  for node_id in node_index:\n",
    "    if is_leave[node_id]:\n",
    "      continue\n",
    "    if (val_x[sample_id, feature[node_id]] <= threshold[node_id]):\n",
    "      threshold_sign = \"<=\"\n",
    "    else:\n",
    "      threshold_sign = \">\"\n",
    "    # print(f\"decision id node {node_id} : (X_test[{sample_id}, {feature[node_id]}] (= {val_x[sample_id, feature[node_id]]}) {threshold_sign} {threshold[node_id]})\")\n",
    "    print(f\"decision id node {node_id} : ({list(cluster_labels.values())[feature[node_id]]} (= {val_x[sample_id, feature[node_id]]}) {threshold_sign} {threshold[node_id]})\")\n",
    "    list(cluster_labels.values())"
   ]
  },
  {
   "cell_type": "code",
   "execution_count": 0,
   "metadata": {
    "colab": {
     "base_uri": "https://localhost:8080/",
     "height": 34
    },
    "colab_type": "code",
    "executionInfo": {
     "elapsed": 572,
     "status": "ok",
     "timestamp": 1583362262829,
     "user": {
      "displayName": "Youssef Mansour",
      "photoUrl": "",
      "userId": "12155639947958617468"
     },
     "user_tz": -120
    },
    "id": "XzzB_m3RupNo",
    "outputId": "8ec11249-f847-421f-c7a9-73aa4dcfcab1"
   },
   "outputs": [
    {
     "data": {
      "text/plain": [
       "'living_room'"
      ]
     },
     "execution_count": 143,
     "metadata": {
      "tags": []
     },
     "output_type": "execute_result"
    }
   ],
   "source": [
    "predictions[7]"
   ]
  },
  {
   "cell_type": "code",
   "execution_count": 0,
   "metadata": {
    "colab": {
     "base_uri": "https://localhost:8080/",
     "height": 85
    },
    "colab_type": "code",
    "executionInfo": {
     "elapsed": 426,
     "status": "ok",
     "timestamp": 1583362263872,
     "user": {
      "displayName": "Youssef Mansour",
      "photoUrl": "",
      "userId": "12155639947958617468"
     },
     "user_tz": -120
    },
    "id": "Weg6OqhytvaA",
    "outputId": "cb527f06-0ab0-4e25-f416-9d69155abc42"
   },
   "outputs": [
    {
     "name": "stdout",
     "output_type": "stream",
     "text": [
      "instance number 7 is living_room\n",
      "decision id node 0 : (mountain (= 0) <= 0.5)\n",
      "decision id node 1 : (bed (= 0) <= 0.5)\n",
      "decision id node 2 : (sink (= 0) <= 0.5)\n"
     ]
    }
   ],
   "source": [
    "print_rule(7)"
   ]
  },
  {
   "cell_type": "code",
   "execution_count": 0,
   "metadata": {
    "colab": {},
    "colab_type": "code",
    "id": "WM2-jKzw2yhh"
   },
   "outputs": [],
   "source": [
    "def print_counterfactual(sample_id):\n",
    "  node_index = node_indicator.indices[node_indicator.indptr[sample_id]:node_indicator.indptr[sample_id + 1]]\n",
    "  pred = predictions[sample_id]\n",
    "  counter_path = np.copy(node_index)\n",
    "  child = counter_path[-1]\n",
    "  par = parent[child]\n",
    "  visited = np.zeros_like(parent)\n",
    "  while par!=-1:\n",
    "    if (is_leave[child] and nodes_classes[child]!=pred):\n",
    "      break\n",
    "    if (is_leave[child] and nodes_classes[child]==pred):\n",
    "      visited[child] = 1\n",
    "      child = par\n",
    "      par = parent[child]\n",
    "      counter_path = counter_path[:-1]\n",
    "      continue\n",
    "    if (visited[children_left[child]] == 1 and visited[children_right[child]] == 1):\n",
    "      visited[child] = 1\n",
    "      child = par\n",
    "      par = parent[child]\n",
    "      counter_path = counter_path[:-1]\n",
    "      continue\n",
    "    par = child \n",
    "    child = children_left[par] if visited[children_right[par]] else children_right[par]\n",
    "    counter_path = np.append(counter_path, child)\n",
    "  # print(counter_path)\n",
    "  print(f'counter example class is {nodes_classes[child]}')\n",
    "  old_node_id = 0\n",
    "  for node_id in counter_path[1:]:\n",
    "    if (node_id == children_left[old_node_id]):\n",
    "      threshold_sign = \"<=\"\n",
    "    else:\n",
    "      threshold_sign = \">\"\n",
    "    print(f\"decision id node {old_node_id} : ({list(cluster_labels.values())[feature[old_node_id]]} {threshold_sign} {threshold[old_node_id]})\")\n",
    "    old_node_id = node_id\n",
    "    if is_leave[node_id]:\n",
    "      continue"
   ]
  },
  {
   "cell_type": "code",
   "execution_count": 0,
   "metadata": {
    "colab": {
     "base_uri": "https://localhost:8080/",
     "height": 102
    },
    "colab_type": "code",
    "executionInfo": {
     "elapsed": 438,
     "status": "ok",
     "timestamp": 1583362436832,
     "user": {
      "displayName": "Youssef Mansour",
      "photoUrl": "",
      "userId": "12155639947958617468"
     },
     "user_tz": -120
    },
    "id": "imOD0SItwJ3x",
    "outputId": "a33996eb-a1b0-49d4-b3db-0321f52c1426"
   },
   "outputs": [
    {
     "name": "stdout",
     "output_type": "stream",
     "text": [
      "[0 1 2 4]\n",
      "counter example class is bathroom\n",
      "decision id node 0 : (mountain <= 0.5)\n",
      "decision id node 1 : (bed <= 0.5)\n",
      "decision id node 2 : (sink > 0.5)\n"
     ]
    }
   ],
   "source": [
    "print_counterfactual(7)"
   ]
  },
  {
   "cell_type": "code",
   "execution_count": 0,
   "metadata": {
    "colab": {
     "base_uri": "https://localhost:8080/",
     "height": 289
    },
    "colab_type": "code",
    "executionInfo": {
     "elapsed": 517,
     "status": "ok",
     "timestamp": 1583362615656,
     "user": {
      "displayName": "Youssef Mansour",
      "photoUrl": "",
      "userId": "12155639947958617468"
     },
     "user_tz": -120
    },
    "id": "GGJ32pemwfKO",
    "outputId": "902c877e-bd57-4606-c348-e2deb647c717"
   },
   "outputs": [
    {
     "data": {
      "text/plain": [
       "array([[ 21],\n",
       "       [ 33],\n",
       "       [ 34],\n",
       "       [ 63],\n",
       "       [ 69],\n",
       "       [ 80],\n",
       "       [ 95],\n",
       "       [111],\n",
       "       [123],\n",
       "       [128],\n",
       "       [136],\n",
       "       [144],\n",
       "       [145],\n",
       "       [182],\n",
       "       [186],\n",
       "       [192]])"
      ]
     },
     "execution_count": 163,
     "metadata": {
      "tags": []
     },
     "output_type": "execute_result"
    }
   ],
   "source": [
    "np.argwhere(predictions=='bedroom')"
   ]
  },
  {
   "cell_type": "code",
   "execution_count": 0,
   "metadata": {
    "colab": {},
    "colab_type": "code",
    "id": "BM8_B5dbw1TR"
   },
   "outputs": [],
   "source": [
    "# 2 is very good instance shows coast and how to go to mountain\n",
    "# 31 is bathroom\n",
    "# 21 is bedroom"
   ]
  },
  {
   "cell_type": "code",
   "execution_count": 0,
   "metadata": {
    "colab": {
     "base_uri": "https://localhost:8080/",
     "height": 85
    },
    "colab_type": "code",
    "executionInfo": {
     "elapsed": 591,
     "status": "ok",
     "timestamp": 1583362787106,
     "user": {
      "displayName": "Youssef Mansour",
      "photoUrl": "",
      "userId": "12155639947958617468"
     },
     "user_tz": -120
    },
    "id": "twkITcgXUyK5",
    "outputId": "aa258e0b-9fc1-4e8f-854e-ee9fa5f37c61"
   },
   "outputs": [
    {
     "name": "stdout",
     "output_type": "stream",
     "text": [
      "instance number 31 is bathroom\n",
      "decision id node 0 : (mountain (= 0) <= 0.5)\n",
      "decision id node 1 : (bed (= 0) <= 0.5)\n",
      "decision id node 2 : (sink (= 1) > 0.5)\n"
     ]
    }
   ],
   "source": [
    "print_rule(31)"
   ]
  },
  {
   "cell_type": "code",
   "execution_count": 0,
   "metadata": {
    "colab": {
     "base_uri": "https://localhost:8080/",
     "height": 85
    },
    "colab_type": "code",
    "executionInfo": {
     "elapsed": 610,
     "status": "ok",
     "timestamp": 1583362789597,
     "user": {
      "displayName": "Youssef Mansour",
      "photoUrl": "",
      "userId": "12155639947958617468"
     },
     "user_tz": -120
    },
    "id": "igWGXpA1wcLZ",
    "outputId": "54de7269-1be3-4f2c-815a-a4c6892ea178"
   },
   "outputs": [
    {
     "name": "stdout",
     "output_type": "stream",
     "text": [
      "counter example class is living_room\n",
      "decision id node 0 : (mountain <= 0.5)\n",
      "decision id node 1 : (bed <= 0.5)\n",
      "decision id node 2 : (sink <= 0.5)\n"
     ]
    }
   ],
   "source": [
    "print_counterfactual(31)"
   ]
  },
  {
   "cell_type": "code",
   "execution_count": 0,
   "metadata": {
    "colab": {},
    "colab_type": "code",
    "id": "w8ddI9gVwmFI"
   },
   "outputs": [],
   "source": []
  }
 ],
 "metadata": {
  "accelerator": "GPU",
  "colab": {
   "collapsed_sections": [],
   "machine_shape": "hm",
   "name": "counterfactual.ipynb",
   "provenance": [
    {
     "file_id": "1ur4WG1qnSDVEJku7Yp5Uq4ypBQQrzvUe",
     "timestamp": 1583011063930
    }
   ]
  },
  "kernelspec": {
   "display_name": "Python 3",
   "language": "python",
   "name": "python3"
  },
  "language_info": {
   "codemirror_mode": {
    "name": "ipython",
    "version": 3
   },
   "file_extension": ".py",
   "mimetype": "text/x-python",
   "name": "python",
   "nbconvert_exporter": "python",
   "pygments_lexer": "ipython3",
   "version": "3.7.4"
  }
 },
 "nbformat": 4,
 "nbformat_minor": 1
}
