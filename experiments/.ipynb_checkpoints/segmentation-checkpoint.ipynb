{
 "cells": [
  {
   "cell_type": "code",
   "execution_count": 0,
   "metadata": {
    "colab": {},
    "colab_type": "code",
    "id": "Kgwa2llndClT"
   },
   "outputs": [],
   "source": [
    "%tensorflow_version 1.x"
   ]
  },
  {
   "cell_type": "code",
   "execution_count": 0,
   "metadata": {
    "colab": {
     "base_uri": "https://localhost:8080/",
     "height": 391
    },
    "colab_type": "code",
    "executionInfo": {
     "elapsed": 42743,
     "status": "ok",
     "timestamp": 1575808002704,
     "user": {
      "displayName": "Youssef Mansour",
      "photoUrl": "",
      "userId": "12155639947958617468"
     },
     "user_tz": -120
    },
    "id": "SJz6AGFZygG4",
    "outputId": "57547ce9-97ba-4eee-f9b4-591cfad37010"
   },
   "outputs": [
    {
     "name": "stdout",
     "output_type": "stream",
     "text": [
      "--2019-12-08 12:26:00--  http://data.csail.mit.edu/places/ADEchallenge/ADEChallengeData2016.zip\n",
      "Resolving data.csail.mit.edu (data.csail.mit.edu)... 128.52.129.40\n",
      "Connecting to data.csail.mit.edu (data.csail.mit.edu)|128.52.129.40|:80... connected.\n",
      "HTTP request sent, awaiting response... 200 OK\n",
      "Length: 967382037 (923M) [application/zip]\n",
      "Saving to: ‘ADEChallengeData2016.zip’\n",
      "\n",
      "ADEChallengeData201 100%[===================>] 922.57M  27.9MB/s    in 34s     \n",
      "\n",
      "2019-12-08 12:26:33 (27.5 MB/s) - ‘ADEChallengeData2016.zip’ saved [967382037/967382037]\n",
      "\n",
      "--2019-12-08 12:26:34--  http://data.csail.mit.edu/places/ADEchallenge/release_test.zip\n",
      "Resolving data.csail.mit.edu (data.csail.mit.edu)... 128.52.129.40\n",
      "Connecting to data.csail.mit.edu (data.csail.mit.edu)|128.52.129.40|:80... connected.\n",
      "HTTP request sent, awaiting response... 200 OK\n",
      "Length: 211820497 (202M) [application/zip]\n",
      "Saving to: ‘release_test.zip’\n",
      "\n",
      "release_test.zip    100%[===================>] 202.01M  29.4MB/s    in 6.4s    \n",
      "\n",
      "2019-12-08 12:26:41 (31.4 MB/s) - ‘release_test.zip’ saved [211820497/211820497]\n",
      "\n"
     ]
    }
   ],
   "source": [
    "!wget http://data.csail.mit.edu/places/ADEchallenge/ADEChallengeData2016.zip\n",
    "!wget http://data.csail.mit.edu/places/ADEchallenge/release_test.zip"
   ]
  },
  {
   "cell_type": "code",
   "execution_count": 0,
   "metadata": {
    "colab": {
     "base_uri": "https://localhost:8080/",
     "height": 122
    },
    "colab_type": "code",
    "executionInfo": {
     "elapsed": 62382,
     "status": "ok",
     "timestamp": 1575808025704,
     "user": {
      "displayName": "Youssef Mansour",
      "photoUrl": "",
      "userId": "12155639947958617468"
     },
     "user_tz": -120
    },
    "id": "_5v_ZXTQBIw-",
    "outputId": "93dab1e6-5733-492c-c458-089b89ae84c4"
   },
   "outputs": [
    {
     "name": "stdout",
     "output_type": "stream",
     "text": [
      "Go to this URL in a browser: https://accounts.google.com/o/oauth2/auth?client_id=947318989803-6bn6qk8qdgf4n4g3pfee6491hc0brc4i.apps.googleusercontent.com&redirect_uri=urn%3aietf%3awg%3aoauth%3a2.0%3aoob&response_type=code&scope=email%20https%3a%2f%2fwww.googleapis.com%2fauth%2fdocs.test%20https%3a%2f%2fwww.googleapis.com%2fauth%2fdrive%20https%3a%2f%2fwww.googleapis.com%2fauth%2fdrive.photos.readonly%20https%3a%2f%2fwww.googleapis.com%2fauth%2fpeopleapi.readonly\n",
      "\n",
      "Enter your authorization code:\n",
      "··········\n",
      "Mounted at /content/drive\n"
     ]
    }
   ],
   "source": [
    "from google.colab import drive\n",
    "drive.mount('/content/drive')"
   ]
  },
  {
   "cell_type": "code",
   "execution_count": 0,
   "metadata": {
    "colab": {},
    "colab_type": "code",
    "id": "SpL5r61ey5Cw"
   },
   "outputs": [],
   "source": [
    "!unzip -q ADEChallengeData2016.zip\n",
    "!unzip -q release_test.zip"
   ]
  },
  {
   "cell_type": "code",
   "execution_count": 0,
   "metadata": {
    "colab": {},
    "colab_type": "code",
    "id": "IHY7ghAT1dvM"
   },
   "outputs": [],
   "source": [
    "import os\n",
    "import numpy as np\n",
    "from matplotlib import pyplot as plt\n",
    "%load_ext autoreload\n",
    "%autoreload 2"
   ]
  },
  {
   "cell_type": "code",
   "execution_count": 0,
   "metadata": {
    "colab": {
     "base_uri": "https://localhost:8080/",
     "height": 51
    },
    "colab_type": "code",
    "executionInfo": {
     "elapsed": 16278,
     "status": "ok",
     "timestamp": 1575808041319,
     "user": {
      "displayName": "Youssef Mansour",
      "photoUrl": "",
      "userId": "12155639947958617468"
     },
     "user_tz": -120
    },
    "id": "aI9uWptBzQ1M",
    "outputId": "003a154c-3367-4004-d06b-9bda405ac6a0"
   },
   "outputs": [
    {
     "name": "stdout",
     "output_type": "stream",
     "text": [
      "Training images: 20210\n",
      "Validation images: 2000\n"
     ]
    }
   ],
   "source": [
    "from DataLoader import ADE20KLoader\n",
    "train_dataset = ADE20KLoader(root=os.getcwd(), split='train')\n",
    "val_dataset = ADE20KLoader(root=os.getcwd(),split='val')\n",
    "print('Training images:', len(train_dataset))\n",
    "print('Validation images:', len(val_dataset))"
   ]
  },
  {
   "cell_type": "code",
   "execution_count": 0,
   "metadata": {
    "colab": {
     "base_uri": "https://localhost:8080/",
     "height": 34
    },
    "colab_type": "code",
    "executionInfo": {
     "elapsed": 550,
     "status": "ok",
     "timestamp": 1575808051421,
     "user": {
      "displayName": "Youssef Mansour",
      "photoUrl": "",
      "userId": "12155639947958617468"
     },
     "user_tz": -120
    },
    "id": "f7Yr2-kOGfRh",
    "outputId": "19dd9a65-693d-4b33-c09a-c29132e7cb25"
   },
   "outputs": [
    {
     "data": {
      "text/plain": [
       "32"
      ]
     },
     "execution_count": 9,
     "metadata": {
      "tags": []
     },
     "output_type": "execute_result"
    }
   ],
   "source": [
    "classes = ['street', 'bedroom', 'living_room', 'bathroom', 'kitchen', \n",
    "            'skyscraper', 'highway', 'conference_room', 'mountain_snowy', 'office',\n",
    "            'corridor', 'airport_terminal', 'game_room', 'attic',\n",
    "            'mountain', 'park', 'coast', 'alley',\n",
    "            'beach', 'childs_room', 'art_gallery','castle',\n",
    "            'dorm_room', 'nursery', 'lobby',\n",
    "            'reception', 'bar', 'roundabout',\n",
    "            'shop', 'house', 'bridge', 'classroom']\n",
    "num_classes = len(classes)\n",
    "num_classes"
   ]
  },
  {
   "cell_type": "code",
   "execution_count": 0,
   "metadata": {
    "colab": {},
    "colab_type": "code",
    "id": "OUG6guiSIr8P"
   },
   "outputs": [],
   "source": [
    "np.random.seed(0)\n",
    "num_samples = 50\n",
    "X_train = np.array([])\n",
    "y_train = []\n",
    "for cls in classes:\n",
    "  ids = np.where(train_dataset.labels==cls)[0]\n",
    "  ids = np.random.choice(ids, num_samples) if len(ids)>=50 else ids\n",
    "  X_train = np.concatenate((X_train, ids)).astype(int)\n",
    "  y_train += [cls]*len(ids)"
   ]
  },
  {
   "cell_type": "code",
   "execution_count": 0,
   "metadata": {
    "colab": {
     "base_uri": "https://localhost:8080/",
     "height": 51
    },
    "colab_type": "code",
    "executionInfo": {
     "elapsed": 613,
     "status": "ok",
     "timestamp": 1575808057837,
     "user": {
      "displayName": "Youssef Mansour",
      "photoUrl": "",
      "userId": "12155639947958617468"
     },
     "user_tz": -120
    },
    "id": "zNrMea-cMUIS",
    "outputId": "5961edcd-fae2-4b47-ac3c-507305203d22"
   },
   "outputs": [
    {
     "name": "stdout",
     "output_type": "stream",
     "text": [
      "1592\n"
     ]
    },
    {
     "data": {
      "text/plain": [
       "1592"
      ]
     },
     "execution_count": 11,
     "metadata": {
      "tags": []
     },
     "output_type": "execute_result"
    }
   ],
   "source": [
    "print(len(X_train))\n",
    "print(len(y_train))"
   ]
  },
  {
   "cell_type": "code",
   "execution_count": 0,
   "metadata": {
    "colab": {},
    "colab_type": "code",
    "id": "aTx6W2DPNEzY"
   },
   "outputs": [],
   "source": [
    "from io import BytesIO\n",
    "import tempfile\n",
    "from six.moves import urllib\n",
    "from PIL import Image\n",
    "import tensorflow as tf\n",
    "\n",
    "from DeepLab import DeepLabModel"
   ]
  },
  {
   "cell_type": "code",
   "execution_count": 0,
   "metadata": {
    "colab": {
     "base_uri": "https://localhost:8080/",
     "height": 51
    },
    "colab_type": "code",
    "executionInfo": {
     "elapsed": 4866,
     "status": "ok",
     "timestamp": 1575808066250,
     "user": {
      "displayName": "Youssef Mansour",
      "photoUrl": "",
      "userId": "12155639947958617468"
     },
     "user_tz": -120
    },
    "id": "xnuDb9ppc3ol",
    "outputId": "89ae3eb6-5604-495f-8cfb-f9e512caa729"
   },
   "outputs": [
    {
     "name": "stdout",
     "output_type": "stream",
     "text": [
      "downloading model, this might take a while...\n",
      "download completed!\n"
     ]
    }
   ],
   "source": [
    "# get models from https://github.com/tensorflow/models/blob/master/research/deeplab/g3doc/model_zoo.md\n",
    "MODEL_NAME = 'xception65_ade20k_train' #['mobilenetv2_coco_voctrainaug', 'mobilenetv2_coco_voctrainval', 'xception_coco_voctrainaug', 'xception_coco_voctrainval', 'mobilenetv2_ade20k_train', 'xception65_ade20k_train']\n",
    "DOWNLOAD_URL_PREFIX = 'http://download.tensorflow.org/models/'\n",
    "MODEL_URLS = {\n",
    "    'xception65_ade20k_train':\n",
    "        'deeplabv3_xception_ade20k_train_2018_05_29.tar.gz',\n",
    "    'mobilenetv2_ade20k_train':\n",
    "        'deeplabv3_mnv2_ade20k_train_2018_12_03.tar.gz',\n",
    "    'xception_coco_voctrainval':\n",
    "        'deeplabv3_pascal_trainval_2018_01_04.tar.gz',\n",
    "}\n",
    "TARBALL_NAME = 'deeplab_model.tar.gz'\n",
    "model_dir = tempfile.mkdtemp()\n",
    "tf.gfile.MakeDirs(model_dir)\n",
    "download_path = os.path.join(model_dir, TARBALL_NAME)\n",
    "print('downloading model, this might take a while...')\n",
    "urllib.request.urlretrieve(DOWNLOAD_URL_PREFIX + MODEL_URLS[MODEL_NAME], download_path)\n",
    "print('download completed!')"
   ]
  },
  {
   "cell_type": "code",
   "execution_count": 0,
   "metadata": {
    "colab": {
     "base_uri": "https://localhost:8080/",
     "height": 34
    },
    "colab_type": "code",
    "executionInfo": {
     "elapsed": 10129,
     "status": "ok",
     "timestamp": 1575808072714,
     "user": {
      "displayName": "Youssef Mansour",
      "photoUrl": "",
      "userId": "12155639947958617468"
     },
     "user_tz": -120
    },
    "id": "1Mw5J7pMd36l",
    "outputId": "20ec761a-d9b9-48cb-927c-c0b1d6d9c37e"
   },
   "outputs": [
    {
     "name": "stdout",
     "output_type": "stream",
     "text": [
      "model loaded successfully!\n"
     ]
    }
   ],
   "source": [
    "MODEL = DeepLabModel(download_path)\n",
    "print('model loaded successfully!')"
   ]
  },
  {
   "cell_type": "code",
   "execution_count": 0,
   "metadata": {
    "colab": {
     "base_uri": "https://localhost:8080/",
     "height": 51
    },
    "colab_type": "code",
    "executionInfo": {
     "elapsed": 13082,
     "status": "ok",
     "timestamp": 1575808080123,
     "user": {
      "displayName": "Youssef Mansour",
      "photoUrl": "",
      "userId": "12155639947958617468"
     },
     "user_tz": -120
    },
    "id": "GKFtkPXMobms",
    "outputId": "43dfdb7e-6507-49bd-c87a-008c3012a38d"
   },
   "outputs": [
    {
     "name": "stdout",
     "output_type": "stream",
     "text": [
      "CPU times: user 3.07 s, sys: 617 ms, total: 3.69 s\n",
      "Wall time: 7.26 s\n"
     ]
    }
   ],
   "source": [
    "%%time\n",
    "resized_im, seg_map = MODEL.run(train_dataset[X_train[0]])"
   ]
  },
  {
   "cell_type": "code",
   "execution_count": 0,
   "metadata": {
    "colab": {
     "base_uri": "https://localhost:8080/",
     "height": 51
    },
    "colab_type": "code",
    "executionInfo": {
     "elapsed": 267057,
     "status": "ok",
     "timestamp": 1575808337470,
     "user": {
      "displayName": "Youssef Mansour",
      "photoUrl": "",
      "userId": "12155639947958617468"
     },
     "user_tz": -120
    },
    "id": "U-4Cv1DuprCL",
    "outputId": "50ba7ec2-b2c1-4832-d19f-eaf45bcb8de5"
   },
   "outputs": [
    {
     "name": "stdout",
     "output_type": "stream",
     "text": [
      "CPU times: user 46.2 s, sys: 12 s, total: 58.2 s\n",
      "Wall time: 4min 17s\n"
     ]
    }
   ],
   "source": [
    "%%time\n",
    "resized_imgs = []\n",
    "masks = []\n",
    "for i, img_id in enumerate(X_train):\n",
    "  img = train_dataset[img_id]\n",
    "  resized_im, seg_map = MODEL.run(img)\n",
    "  resized_imgs.append(resized_im)\n",
    "  masks.append(seg_map)\n",
    "  if i%10==0:\n",
    "    print(f'finished instance {i}', end='\\r')"
   ]
  },
  {
   "cell_type": "code",
   "execution_count": 0,
   "metadata": {
    "colab": {},
    "colab_type": "code",
    "id": "Lt3AhrXosg3Q"
   },
   "outputs": [],
   "source": [
    "import pickle\n",
    "with open('drive/My Drive/Colab Notebooks/Automate local TCAV/resized_imgs.pkl', 'wb') as f:\n",
    "  pickle.dump(resized_imgs, f)\n",
    "with open('drive/My Drive/Colab Notebooks/Automate local TCAV/classes.pkl', 'wb') as f:\n",
    "  pickle.dump(y_train, f)\n",
    "with open('drive/My Drive/Colab Notebooks/Automate local TCAV/masks.pkl', 'wb') as f:\n",
    "  pickle.dump(masks, f)"
   ]
  }
 ],
 "metadata": {
  "accelerator": "GPU",
  "colab": {
   "collapsed_sections": [],
   "machine_shape": "hm",
   "name": "segmentation.ipynb",
   "provenance": []
  },
  "kernelspec": {
   "display_name": "Python 3",
   "language": "python",
   "name": "python3"
  },
  "language_info": {
   "codemirror_mode": {
    "name": "ipython",
    "version": 3
   },
   "file_extension": ".py",
   "mimetype": "text/x-python",
   "name": "python",
   "nbconvert_exporter": "python",
   "pygments_lexer": "ipython3",
   "version": "3.8.0"
  }
 },
 "nbformat": 4,
 "nbformat_minor": 1
}
