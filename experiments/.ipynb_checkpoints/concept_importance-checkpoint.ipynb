{
 "cells": [
  {
   "cell_type": "code",
   "execution_count": 0,
   "metadata": {
    "colab": {},
    "colab_type": "code",
    "id": "F2ytSeOCVDYB"
   },
   "outputs": [],
   "source": [
    "%tensorflow_version 1.x"
   ]
  },
  {
   "cell_type": "code",
   "execution_count": 0,
   "metadata": {
    "colab": {},
    "colab_type": "code",
    "id": "lBdFkQlib-7_"
   },
   "outputs": [],
   "source": [
    "import numpy as np\n",
    "from matplotlib import pyplot as plt\n",
    "\n",
    "%load_ext autoreload\n",
    "%autoreload 2\n",
    "\n",
    "import torch\n",
    "from torch.autograd import Variable as V\n",
    "import torchvision.models as models\n",
    "from torchvision import transforms as trn\n",
    "from torch.nn import functional as F\n",
    "import torch.nn as nn\n",
    "import os\n",
    "from PIL import Image\n",
    "import matplotlib.pyplot as plt"
   ]
  },
  {
   "cell_type": "code",
   "execution_count": 0,
   "metadata": {
    "colab": {
     "base_uri": "https://localhost:8080/",
     "height": 122
    },
    "colab_type": "code",
    "executionInfo": {
     "elapsed": 48389,
     "status": "ok",
     "timestamp": 1581266561053,
     "user": {
      "displayName": "Youssef Mansour",
      "photoUrl": "",
      "userId": "12155639947958617468"
     },
     "user_tz": -120
    },
    "id": "-aRW1L4v3FQX",
    "outputId": "10a75acb-2156-47a9-c078-d3f62e5fa7d7"
   },
   "outputs": [
    {
     "name": "stdout",
     "output_type": "stream",
     "text": [
      "Go to this URL in a browser: https://accounts.google.com/o/oauth2/auth?client_id=947318989803-6bn6qk8qdgf4n4g3pfee6491hc0brc4i.apps.googleusercontent.com&redirect_uri=urn%3aietf%3awg%3aoauth%3a2.0%3aoob&response_type=code&scope=email%20https%3a%2f%2fwww.googleapis.com%2fauth%2fdocs.test%20https%3a%2f%2fwww.googleapis.com%2fauth%2fdrive%20https%3a%2f%2fwww.googleapis.com%2fauth%2fdrive.photos.readonly%20https%3a%2f%2fwww.googleapis.com%2fauth%2fpeopleapi.readonly\n",
      "\n",
      "Enter your authorization code:\n",
      "··········\n",
      "Mounted at /content/drive\n"
     ]
    }
   ],
   "source": [
    "from google.colab import drive\n",
    "drive.mount('/content/drive')"
   ]
  },
  {
   "cell_type": "code",
   "execution_count": 0,
   "metadata": {
    "colab": {
     "base_uri": "https://localhost:8080/",
     "height": 34
    },
    "colab_type": "code",
    "executionInfo": {
     "elapsed": 2977,
     "status": "ok",
     "timestamp": 1581266564133,
     "user": {
      "displayName": "Youssef Mansour",
      "photoUrl": "",
      "userId": "12155639947958617468"
     },
     "user_tz": -120
    },
    "id": "gUM0jV2TdNVO",
    "outputId": "acabba4c-9f5f-405e-b06e-25bc5e63f785"
   },
   "outputs": [
    {
     "data": {
      "text/plain": [
       "<All keys matched successfully>"
      ]
     },
     "execution_count": 5,
     "metadata": {
      "tags": []
     },
     "output_type": "execute_result"
    }
   ],
   "source": [
    "arch = 'resnet50'\n",
    "model_file = f'{arch}_places365.pth.tar'\n",
    "if not os.access(model_file, os.W_OK):\n",
    "    weight_url = 'http://places2.csail.mit.edu/models_places365/' + model_file\n",
    "    os.system('wget ' + weight_url)\n",
    "\n",
    "model = models.__dict__[arch](num_classes=365)\n",
    "checkpoint = torch.load(model_file, map_location=lambda storage, loc: storage)\n",
    "state_dict = {str.replace(k,'module.',''): v for k,v in checkpoint['state_dict'].items()}\n",
    "model.load_state_dict(state_dict)"
   ]
  },
  {
   "cell_type": "code",
   "execution_count": 0,
   "metadata": {
    "colab": {
     "base_uri": "https://localhost:8080/",
     "height": 34
    },
    "colab_type": "code",
    "executionInfo": {
     "elapsed": 2949,
     "status": "ok",
     "timestamp": 1581266564144,
     "user": {
      "displayName": "Youssef Mansour",
      "photoUrl": "",
      "userId": "12155639947958617468"
     },
     "user_tz": -120
    },
    "id": "UODGZRdVfMn1",
    "outputId": "1ff765c5-1027-48df-8623-a9d56526c3e6"
   },
   "outputs": [
    {
     "data": {
      "text/plain": [
       "'convert model to evaluation mode with no grad'"
      ]
     },
     "execution_count": 6,
     "metadata": {
      "tags": []
     },
     "output_type": "execute_result"
    }
   ],
   "source": [
    "model.eval()\n",
    "for param in model.parameters():\n",
    "    param.requires_grad = False\n",
    "'convert model to evaluation mode with no grad'"
   ]
  },
  {
   "cell_type": "code",
   "execution_count": 0,
   "metadata": {
    "colab": {},
    "colab_type": "code",
    "id": "sVhMbksliCuX"
   },
   "outputs": [],
   "source": [
    "device = torch.device(\"cuda:0\" if torch.cuda.is_available() else \"cpu\")"
   ]
  },
  {
   "cell_type": "code",
   "execution_count": 0,
   "metadata": {
    "colab": {},
    "colab_type": "code",
    "id": "yrlLe_Xt00PC"
   },
   "outputs": [],
   "source": [
    "feature_extractor = nn.Sequential(*list(model.children())[:-2], nn.AdaptiveAvgPool2d(1)).eval().to(device)"
   ]
  },
  {
   "cell_type": "code",
   "execution_count": 0,
   "metadata": {
    "colab": {},
    "colab_type": "code",
    "id": "mmtJrDuPWcdG"
   },
   "outputs": [],
   "source": [
    "!cp drive/'My Drive'/'Colab Notebooks'/'Automate local TCAV'/'final notebooks'/resized_imgs.pkl  /content/\n",
    "!cp drive/'My Drive'/'Colab Notebooks'/'Automate local TCAV'/'final notebooks'/masks.pkl  /content/\n",
    "!cp drive/'My Drive'/'Colab Notebooks'/'Automate local TCAV'/'final notebooks'/classes.pkl  /content/"
   ]
  },
  {
   "cell_type": "code",
   "execution_count": 0,
   "metadata": {
    "colab": {},
    "colab_type": "code",
    "id": "xUljBU4CXgt2"
   },
   "outputs": [],
   "source": [
    "import pickle\n",
    "with open('masks.pkl', 'rb') as f:\n",
    "  masks = pickle.load(f)\n",
    "with open('resized_imgs.pkl', 'rb') as f:\n",
    "  imgs = pickle.load(f)\n",
    "with open('classes.pkl', 'rb') as f:\n",
    "  labels = np.array(pickle.load(f))"
   ]
  },
  {
   "cell_type": "code",
   "execution_count": 0,
   "metadata": {
    "colab": {},
    "colab_type": "code",
    "id": "uwe-ECozYS2v"
   },
   "outputs": [],
   "source": [
    "def get_segments(img, mask, threshold = 0.05):\n",
    "  segs = np.unique(mask)\n",
    "  segments = []\n",
    "  total = mask.shape[0]*mask.shape[1]\n",
    "  for seg in segs:\n",
    "    idxs = mask==seg\n",
    "    sz = np.sum(idxs)\n",
    "    if sz < threshold*total:\n",
    "      continue\n",
    "    segment = img*idxs[..., None]\n",
    "    w, h, _ = np.nonzero(segment)\n",
    "    segment = segment[np.min(w):np.max(w),np.min(h):np.max(h),:]\n",
    "    segments.append(segment)\n",
    "  return segments"
   ]
  },
  {
   "cell_type": "code",
   "execution_count": 0,
   "metadata": {
    "colab": {},
    "colab_type": "code",
    "id": "AXSQxAQtj8lZ"
   },
   "outputs": [],
   "source": [
    "img_segments = []\n",
    "for img, msk in zip(imgs, masks):\n",
    "  img_segments.append(get_segments(np.array(img), msk, threshold = 0.005))"
   ]
  },
  {
   "cell_type": "code",
   "execution_count": 0,
   "metadata": {
    "colab": {},
    "colab_type": "code",
    "id": "cfkTUVft0tqg"
   },
   "outputs": [],
   "source": [
    "del masks"
   ]
  },
  {
   "cell_type": "code",
   "execution_count": 0,
   "metadata": {
    "colab": {},
    "colab_type": "code",
    "id": "zi7XrhzdRnSZ"
   },
   "outputs": [],
   "source": [
    "centre_crop = trn.Compose([\n",
    "        trn.Resize((256,256)),\n",
    "        trn.CenterCrop(224),\n",
    "        trn.ToTensor(),\n",
    "        # trn.Normalize([0, 0, 0], [255, 255, 225]),\n",
    "        trn.Normalize([0.485, 0.456, 0.406], [0.229, 0.224, 0.225])\n",
    "])"
   ]
  },
  {
   "cell_type": "code",
   "execution_count": 0,
   "metadata": {
    "colab": {},
    "colab_type": "code",
    "id": "iQzO6k2m0rW1"
   },
   "outputs": [],
   "source": [
    "feature_vectors = []\n",
    "all_vectors = []\n",
    "for img_seg in img_segments:\n",
    "    vectors = []\n",
    "    for seg in img_seg:\n",
    "      img = Image.fromarray(seg, 'RGB')\n",
    "      input_img = V(centre_crop(img).unsqueeze(0))\n",
    "      input_img = input_img.to(device)\n",
    "      feature_tensor = feature_extractor.forward(input_img)\n",
    "      del input_img\n",
    "      feat_vec = feature_tensor.cpu().numpy().squeeze()\n",
    "      del feature_tensor\n",
    "      vectors.append(feat_vec)\n",
    "      all_vectors.append(feat_vec)\n",
    "    feature_vectors.append(vectors)"
   ]
  },
  {
   "cell_type": "code",
   "execution_count": 0,
   "metadata": {
    "colab": {},
    "colab_type": "code",
    "id": "J8M7L15Tmy5r"
   },
   "outputs": [],
   "source": [
    "del img_segments"
   ]
  },
  {
   "cell_type": "code",
   "execution_count": 0,
   "metadata": {
    "colab": {},
    "colab_type": "code",
    "id": "iWCEklXRxTlq"
   },
   "outputs": [],
   "source": [
    "segment_img = {}\n",
    "c = 0\n",
    "for j, fvec in enumerate(feature_vectors): \n",
    "  c_old = c\n",
    "  c += len(fvec) if len(fvec) != 1024 else 1\n",
    "  for i in range(c_old, c):\n",
    "    segment_img[i] = j"
   ]
  },
  {
   "cell_type": "code",
   "execution_count": 0,
   "metadata": {
    "colab": {},
    "colab_type": "code",
    "id": "0EF7xaxeR9T5"
   },
   "outputs": [],
   "source": [
    "del feature_vectors"
   ]
  },
  {
   "cell_type": "code",
   "execution_count": 0,
   "metadata": {
    "colab": {},
    "colab_type": "code",
    "id": "WqX26eghzYrr"
   },
   "outputs": [],
   "source": [
    "from sklearn.cluster import KMeans\n",
    "from sklearn.model_selection import train_test_split\n",
    "from sklearn.linear_model import LogisticRegression\n",
    "from sklearn.decomposition import PCA\n",
    "from sklearn.pipeline import Pipeline"
   ]
  },
  {
   "cell_type": "code",
   "execution_count": 0,
   "metadata": {
    "colab": {},
    "colab_type": "code",
    "id": "NmotGiDzSjMa"
   },
   "outputs": [],
   "source": [
    "def cluster_top_k(cluster_id, k = 40):\n",
    "  instances_ids = np.argwhere(clusters_labels==cluster_id).squeeze()\n",
    "  instances = X[instances_ids]\n",
    "  scores = []\n",
    "  for inst in instances:\n",
    "    scores.append(-kmeans.score([inst]))\n",
    "  final_ids = np.argsort(scores)[:k]\n",
    "  return instances_ids[final_ids]\n",
    "\n",
    "cluster_instances_id = lambda cid:  np.argwhere(clusters_labels==cid).squeeze()\n",
    "\n",
    "def is_single_img_clusters(cls_id):\n",
    "  instances_ids = cluster_instances_id(cls_id)\n",
    "  # instances_ids = cluster_representatives[cls_id]\n",
    "  source_imgs = [segment_img[inst_id] for inst_id in instances_ids]\n",
    "  unique_imgs = len(np.unique(source_imgs))\n",
    "  return 0 if unique_imgs > 1 else 1"
   ]
  },
  {
   "cell_type": "code",
   "execution_count": 0,
   "metadata": {
    "colab": {},
    "colab_type": "code",
    "id": "IbmTIZoHONpz"
   },
   "outputs": [],
   "source": [
    "X = np.array(all_vectors)\n",
    "num_segs = X.shape[0]\n",
    "k = int(num_segs**0.5)\n",
    "kmeans = KMeans(n_clusters=k, random_state=0).fit(X)\n",
    "clusters_labels = kmeans.labels_"
   ]
  },
  {
   "cell_type": "code",
   "execution_count": 0,
   "metadata": {
    "colab": {},
    "colab_type": "code",
    "id": "JtNMnVzxq7HW"
   },
   "outputs": [],
   "source": [
    "## calculating importances\n",
    "cluster_names, cluster_counts = np.unique(clusters_labels, return_counts=1)\n",
    "cluster_scores = []\n",
    "for cls in cluster_names:\n",
    "  cluster_scores.append(kmeans.score(X[np.argwhere(clusters_labels==cls).squeeze()]))\n",
    "cluster_scores = np.array(cluster_scores)\n",
    "cluster_importance = [cluster_counts, cluster_scores]"
   ]
  },
  {
   "cell_type": "code",
   "execution_count": 0,
   "metadata": {
    "colab": {
     "base_uri": "https://localhost:8080/",
     "height": 51
    },
    "colab_type": "code",
    "executionInfo": {
     "elapsed": 977,
     "status": "ok",
     "timestamp": 1581267326912,
     "user": {
      "displayName": "Youssef Mansour",
      "photoUrl": "",
      "userId": "12155639947958617468"
     },
     "user_tz": -120
    },
    "id": "rpXHtOWkqyF9",
    "outputId": "a976707b-c472-49f5-8a12-dfbda31000ce"
   },
   "outputs": [
    {
     "name": "stdout",
     "output_type": "stream",
     "text": [
      "total number of clusters 108\n",
      "total number of good clusters 104\n"
     ]
    }
   ],
   "source": [
    "count_threshold = int(k*0.4)\n",
    "ids = cluster_counts > count_threshold\n",
    "good_clusters = cluster_names[ids]\n",
    "for i in range(len(cluster_importance)):\n",
    "  cluster_importance[i] = cluster_importance[i][ids]\n",
    "print(f'total number of clusters {len(cluster_names)}')\n",
    "print(f'total number of good clusters {len(good_clusters)}')"
   ]
  },
  {
   "cell_type": "code",
   "execution_count": 0,
   "metadata": {
    "colab": {},
    "colab_type": "code",
    "id": "rcziR_zVLPOP"
   },
   "outputs": [],
   "source": [
    "final_clusters = []\n",
    "for j, cluster_id in enumerate(good_clusters):\n",
    "  if is_single_img_clusters(cluster_id):\n",
    "    for i in range(len(cluster_importance)):\n",
    "      cluster_importance[i] = np.delete(cluster_importance[i], j)\n",
    "    continue\n",
    "  final_clusters.append(cluster_id)\n",
    "final_clusters = np.array(final_clusters)"
   ]
  },
  {
   "cell_type": "code",
   "execution_count": 0,
   "metadata": {
    "colab": {},
    "colab_type": "code",
    "id": "h44lvNzIw1gE"
   },
   "outputs": [],
   "source": [
    "cluster_representatives = {}\n",
    "for cluster_id in final_clusters:\n",
    "  cluster_representatives[cluster_id] = cluster_top_k(cluster_id, k=40)"
   ]
  },
  {
   "cell_type": "code",
   "execution_count": 0,
   "metadata": {
    "colab": {},
    "colab_type": "code",
    "id": "7IjA9a6iQOP7"
   },
   "outputs": [],
   "source": [
    "linear_models = {}\n",
    "model_score = {}\n",
    "for cluster in final_clusters:\n",
    "  positive_instances = cluster_instances_id(cluster)\n",
    "  negative_instances = np.argwhere(clusters_labels!=cluster).squeeze()\n",
    "  num_samples = min(len(positive_instances), len(negative_instances))\n",
    "  selected_pos = np.random.choice(positive_instances, num_samples, replace=False)\n",
    "  selected_neg = np.random.choice(negative_instances, num_samples, replace=False)\n",
    "  train_x = np.append(X[selected_pos], X[selected_neg], axis=0)\n",
    "  train_y = np.array([1] * num_samples + [0] * num_samples)\n",
    "  train_x, val_x, train_y, val_y = train_test_split(train_x, train_y)\n",
    "  n_components = min(256, len(train_x))\n",
    "  pca_model = PCA(n_components=n_components)\n",
    "  lr_model = LogisticRegression()\n",
    "  pca_lr_model = Pipeline(steps = [('pca', pca_model), ('lr', lr_model)])\n",
    "  # pca_lr_model.set_params(pca__n_components=256, lr__penalty='l2')\n",
    "  pca_lr_model.fit(train_x, train_y)\n",
    "  linear_models[cluster] = pca_lr_model\n",
    "  model_score[cluster] = pca_lr_model.score(val_x, val_y)"
   ]
  },
  {
   "cell_type": "code",
   "execution_count": 0,
   "metadata": {
    "colab": {},
    "colab_type": "code",
    "id": "aDsQZFBt5R-J"
   },
   "outputs": [],
   "source": [
    "!wget -q http://data.csail.mit.edu/places/ADEchallenge/ADEChallengeData2016.zip\n",
    "!wget -q http://data.csail.mit.edu/places/ADEchallenge/release_test.zip"
   ]
  },
  {
   "cell_type": "code",
   "execution_count": 0,
   "metadata": {
    "colab": {},
    "colab_type": "code",
    "id": "7jEvDXCkefqJ"
   },
   "outputs": [],
   "source": [
    "!unzip -q ADEChallengeData2016.zip\n",
    "!unzip -q release_test.zip"
   ]
  },
  {
   "cell_type": "code",
   "execution_count": 0,
   "metadata": {
    "colab": {
     "base_uri": "https://localhost:8080/",
     "height": 51
    },
    "colab_type": "code",
    "executionInfo": {
     "elapsed": 60721,
     "status": "ok",
     "timestamp": 1581267469765,
     "user": {
      "displayName": "Youssef Mansour",
      "photoUrl": "",
      "userId": "12155639947958617468"
     },
     "user_tz": -120
    },
    "id": "iYiSUou1ehSj",
    "outputId": "166a2fad-aa9e-4e21-a607-35a1f84c2184"
   },
   "outputs": [
    {
     "name": "stdout",
     "output_type": "stream",
     "text": [
      "Training images: 20210\n",
      "Validation images: 2000\n"
     ]
    }
   ],
   "source": [
    "from DataLoader import ADE20KLoader\n",
    "train_dataset = ADE20KLoader(root=os.getcwd(), split='train')\n",
    "val_dataset = ADE20KLoader(root=os.getcwd(),split='val')\n",
    "print('Training images:', len(train_dataset))\n",
    "print('Validation images:', len(val_dataset))"
   ]
  },
  {
   "cell_type": "code",
   "execution_count": 0,
   "metadata": {
    "colab": {},
    "colab_type": "code",
    "id": "58QTBirPetB0"
   },
   "outputs": [],
   "source": [
    "# try also only the val set"
   ]
  },
  {
   "cell_type": "code",
   "execution_count": 0,
   "metadata": {
    "colab": {
     "base_uri": "https://localhost:8080/",
     "height": 34
    },
    "colab_type": "code",
    "executionInfo": {
     "elapsed": 56951,
     "status": "ok",
     "timestamp": 1581267469782,
     "user": {
      "displayName": "Youssef Mansour",
      "photoUrl": "",
      "userId": "12155639947958617468"
     },
     "user_tz": -120
    },
    "id": "-csnAQwBemMx",
    "outputId": "680fa4d7-57a1-488c-a9da-572031381bf5"
   },
   "outputs": [
    {
     "data": {
      "text/plain": [
       "29"
      ]
     },
     "execution_count": 33,
     "metadata": {
      "tags": []
     },
     "output_type": "execute_result"
    }
   ],
   "source": [
    "chosen_classes = ['street', 'bedroom', 'living_room', 'bathroom', 'kitchen', \n",
    "            'skyscraper', 'highway', 'conference_room', 'mountain_snowy', 'office',\n",
    "            'corridor', 'airport_terminal', 'attic', 'mountain', 'park', 'coast', \n",
    "            'alley','beach', 'childs_room', 'art_gallery','castle', 'dorm_room', \n",
    "            'nursery', 'lobby', 'reception', 'bar', 'house', 'bridge', 'classroom']\n",
    "num_classes = len(chosen_classes)\n",
    "num_classes"
   ]
  },
  {
   "cell_type": "code",
   "execution_count": 0,
   "metadata": {
    "colab": {},
    "colab_type": "code",
    "id": "oYjeL_NnepqR"
   },
   "outputs": [],
   "source": [
    "np.random.seed(0)\n",
    "num_samples = 50\n",
    "X_train = np.array([])\n",
    "y_train = []\n",
    "for cls in chosen_classes:\n",
    "  ids = np.where(train_dataset.labels==cls)[0]\n",
    "  ids = np.random.choice(ids, num_samples) if len(ids)>=50 else ids\n",
    "  X_train = np.concatenate((X_train, ids)).astype(int)\n",
    "  y_train += [cls]*len(ids)"
   ]
  },
  {
   "cell_type": "code",
   "execution_count": 0,
   "metadata": {
    "colab": {
     "base_uri": "https://localhost:8080/",
     "height": 51
    },
    "colab_type": "code",
    "executionInfo": {
     "elapsed": 21146,
     "status": "ok",
     "timestamp": 1581267469786,
     "user": {
      "displayName": "Youssef Mansour",
      "photoUrl": "",
      "userId": "12155639947958617468"
     },
     "user_tz": -120
    },
    "id": "ESilCeOwe4yW",
    "outputId": "3c6bc64e-32ab-45cf-dd2d-fe0ae6f78363"
   },
   "outputs": [
    {
     "name": "stdout",
     "output_type": "stream",
     "text": [
      "1442\n"
     ]
    },
    {
     "data": {
      "text/plain": [
       "1442"
      ]
     },
     "execution_count": 35,
     "metadata": {
      "tags": []
     },
     "output_type": "execute_result"
    }
   ],
   "source": [
    "print(len(X_train))\n",
    "len(y_train)"
   ]
  },
  {
   "cell_type": "code",
   "execution_count": 0,
   "metadata": {
    "colab": {},
    "colab_type": "code",
    "id": "cj7R7i1soNKt"
   },
   "outputs": [],
   "source": [
    "# I can use batch size here to speed things up"
   ]
  },
  {
   "cell_type": "code",
   "execution_count": 0,
   "metadata": {
    "colab": {},
    "colab_type": "code",
    "id": "jPjOzf6xomu5"
   },
   "outputs": [],
   "source": [
    "file_name = 'categories_places365.txt'\n",
    "if not os.access(file_name, os.W_OK):\n",
    "    synset_url = 'https://raw.githubusercontent.com/csailvision/places365/master/categories_places365.txt'\n",
    "    os.system('wget ' + synset_url)\n",
    "classes = list()\n",
    "with open(file_name) as class_file:\n",
    "    for line in class_file:\n",
    "        classes.append(line.strip().split(' ')[0][3:])\n",
    "classes = np.array(classes)"
   ]
  },
  {
   "cell_type": "code",
   "execution_count": 0,
   "metadata": {
    "colab": {},
    "colab_type": "code",
    "id": "UHB55UcpxA6s"
   },
   "outputs": [],
   "source": [
    "idxs = []\n",
    "c = 0\n",
    "for ccls in chosen_classes:\n",
    "  idx = np.argwhere(classes == ccls)\n",
    "  if len(idx) == 0:\n",
    "    print(f'class {ccls} is not found in places365, so we will use places365 alternate')\n",
    "    c+=1\n",
    "  else:\n",
    "    idxs.append(idx[0][0])"
   ]
  },
  {
   "cell_type": "code",
   "execution_count": 0,
   "metadata": {
    "colab": {
     "base_uri": "https://localhost:8080/",
     "height": 34
    },
    "colab_type": "code",
    "executionInfo": {
     "elapsed": 6786,
     "status": "ok",
     "timestamp": 1581267470493,
     "user": {
      "displayName": "Youssef Mansour",
      "photoUrl": "",
      "userId": "12155639947958617468"
     },
     "user_tz": -120
    },
    "id": "aUZv6k-7XYfg",
    "outputId": "28f4fa36-0c08-426c-81b4-5c3889363ce4"
   },
   "outputs": [
    {
     "data": {
      "text/plain": [
       "'finished the full model with hook attached'"
      ]
     },
     "execution_count": 39,
     "metadata": {
      "tags": []
     },
     "output_type": "execute_result"
    }
   ],
   "source": [
    "outputs= []\n",
    "def hook(module, input, output):\n",
    "    x = nn.AdaptiveAvgPool2d(1)(output)\n",
    "    outputs.append(x.cpu().numpy().squeeze())\n",
    "full_model = model\n",
    "handle = full_model.layer4[2].register_forward_hook(hook)\n",
    "full_model.to(device)\n",
    "'finished the full model with hook attached'"
   ]
  },
  {
   "cell_type": "code",
   "execution_count": 0,
   "metadata": {
    "colab": {},
    "colab_type": "code",
    "id": "vA4SKPoIk3am"
   },
   "outputs": [],
   "source": [
    "del outputs\n",
    "outputs = []\n",
    "y_model = []\n",
    "for idx in X_train:\n",
    "  img = train_dataset[idx]\n",
    "  input_img = V(centre_crop(img).unsqueeze(0))\n",
    "  input_img = input_img.to(device)\n",
    "  pred = full_model.forward(input_img)\n",
    "  y_model.append(classes[idxs][np.argmax((pred.cpu().detach().numpy()[:,idxs]))])\n",
    "outputs = np.array(outputs)"
   ]
  },
  {
   "cell_type": "code",
   "execution_count": 0,
   "metadata": {
    "colab": {
     "base_uri": "https://localhost:8080/",
     "height": 34
    },
    "colab_type": "code",
    "executionInfo": {
     "elapsed": 23566,
     "status": "ok",
     "timestamp": 1581267495322,
     "user": {
      "displayName": "Youssef Mansour",
      "photoUrl": "",
      "userId": "12155639947958617468"
     },
     "user_tz": -120
    },
    "id": "B0wqbRgGUz8p",
    "outputId": "026b6b1e-19cc-4021-d061-dc9706085f61"
   },
   "outputs": [
    {
     "data": {
      "text/plain": [
       "(1442, 2048)"
      ]
     },
     "execution_count": 41,
     "metadata": {
      "tags": []
     },
     "output_type": "execute_result"
    }
   ],
   "source": [
    "outputs.shape"
   ]
  },
  {
   "cell_type": "code",
   "execution_count": 0,
   "metadata": {
    "colab": {},
    "colab_type": "code",
    "id": "-vzuM_psWzXJ"
   },
   "outputs": [],
   "source": [
    "for k, v in model_score.items():\n",
    "  if v < 0.75:\n",
    "    print(f'removed cluster {k}')\n",
    "    linear_models.pop(k, 'None')\n",
    "    model_score.pop(k, 'None')\n",
    "    for i in range(len(cluster_importance)):\n",
    "      cluster_importance[i] = np.delete(cluster_importance[i],\n",
    "                                        np.argwhere(final_clusters==k)[0][0])"
   ]
  },
  {
   "cell_type": "code",
   "execution_count": 0,
   "metadata": {
    "colab": {},
    "colab_type": "code",
    "id": "rDitCfiIgG0J"
   },
   "outputs": [],
   "source": [
    "for i, lm in enumerate(linear_models.keys()):\n",
    "  if i == 0:\n",
    "    concept_vecs = linear_models[lm].predict(outputs)[:, None]\n",
    "  else:\n",
    "    concept_vecs = np.concatenate((concept_vecs, linear_models[lm].predict(outputs)[:, None]), axis = -1)"
   ]
  },
  {
   "cell_type": "code",
   "execution_count": 0,
   "metadata": {
    "colab": {
     "base_uri": "https://localhost:8080/",
     "height": 34
    },
    "colab_type": "code",
    "executionInfo": {
     "elapsed": 4707,
     "status": "ok",
     "timestamp": 1581267497521,
     "user": {
      "displayName": "Youssef Mansour",
      "photoUrl": "",
      "userId": "12155639947958617468"
     },
     "user_tz": -120
    },
    "id": "PCtmSoIVjDsa",
    "outputId": "262a6c29-4720-427d-ef83-95b0d11d15ee"
   },
   "outputs": [
    {
     "data": {
      "text/plain": [
       "(1442, 104)"
      ]
     },
     "execution_count": 44,
     "metadata": {
      "tags": []
     },
     "output_type": "execute_result"
    }
   ],
   "source": [
    "concept_vecs.shape"
   ]
  },
  {
   "cell_type": "code",
   "execution_count": 0,
   "metadata": {
    "colab": {},
    "colab_type": "code",
    "id": "b9zHVsCsifTq"
   },
   "outputs": [],
   "source": [
    "from sklearn.tree import DecisionTreeClassifier\n",
    "from sklearn.ensemble import RandomForestClassifier"
   ]
  },
  {
   "cell_type": "code",
   "execution_count": 0,
   "metadata": {
    "colab": {},
    "colab_type": "code",
    "id": "nVpSIPYxtDS7"
   },
   "outputs": [],
   "source": [
    "random_seed = 0"
   ]
  },
  {
   "cell_type": "code",
   "execution_count": 0,
   "metadata": {
    "colab": {},
    "colab_type": "code",
    "id": "2EBUr5Pz5TII"
   },
   "outputs": [],
   "source": [
    "cluster_importance.append(cluster_importance[1]/cluster_importance[0])"
   ]
  },
  {
   "cell_type": "code",
   "execution_count": 0,
   "metadata": {
    "colab": {},
    "colab_type": "code",
    "id": "932zy7n1jc-i"
   },
   "outputs": [],
   "source": [
    "# random_seed = np.random.randint(99999999)\n",
    "random_seed = 0\n",
    "steps = np.arange(1,len(linear_models)+1,1)\n",
    "ii = -1\n",
    "all_train_accs = []\n",
    "all_test_accs = []\n",
    "for _ in range(2):\n",
    "  ii *= -1\n",
    "  new_concept_vecs = concept_vecs[:, np.argsort(cluster_importance[2])[::ii]]\n",
    "  # print(np.argsort(cluster_importance[2])[:])\n",
    "  train_accs = []\n",
    "  test_accs = []\n",
    "  for step in steps:\n",
    "    train_x, val_x, train_y, val_y = train_test_split(new_concept_vecs[:, :step], y_model, test_size=0.2, random_state=random_seed)\n",
    "    surrogate_tree = DecisionTreeClassifier(max_depth = 20, random_state=random_seed)\n",
    "    surrogate_tree.fit(train_x, train_y)\n",
    "    train_accs.append(surrogate_tree.score(train_x, train_y))\n",
    "    test_accs.append(surrogate_tree.score(val_x, val_y))\n",
    "  all_train_accs.append(train_accs)\n",
    "  all_test_accs.append(test_accs)"
   ]
  },
  {
   "cell_type": "code",
   "execution_count": 0,
   "metadata": {
    "colab": {
     "base_uri": "https://localhost:8080/",
     "height": 644
    },
    "colab_type": "code",
    "executionInfo": {
     "elapsed": 1102,
     "status": "ok",
     "timestamp": 1581268276287,
     "user": {
      "displayName": "Youssef Mansour",
      "photoUrl": "",
      "userId": "12155639947958617468"
     },
     "user_tz": -120
    },
    "id": "2gHT53Jt4_cR",
    "outputId": "5a7e3fd9-cd0b-4bb1-85e6-a6534be39eaf"
   },
   "outputs": [
    {
     "data": {
      "image/png": "[encoded data removed]",
      "text/plain": [
       "<Figure size 1008x720 with 1 Axes>"
      ]
     },
     "metadata": {
      "tags": []
     },
     "output_type": "display_data"
    }
   ],
   "source": [
    "plt.figure(figsize=(14,10))\n",
    "i = 0\n",
    "for train_accs, test_accs in zip(all_train_accs, all_test_accs):\n",
    "  plt.rcParams.update({'font.size': 18})\n",
    "  plt.plot(steps, train_accs, '-',label = 'Important concepts first' if i == 0 else 'Important concepts last')\n",
    "  # plt.plot(steps, test_accs, '-', label = 'test accuracy')\n",
    "  plt.xlabel('Number of Concepts')\n",
    "  plt.ylabel('Accuracy')\n",
    "  plt.title('Effects of adding concepts')\n",
    "  # plt.xticks(depths)\n",
    "  # plt.yticks(np.arange(0,1,0.15))\n",
    "  plt.legend()\n",
    "  i+=1\n",
    "plt.show()"
   ]
  },
  {
   "cell_type": "code",
   "execution_count": 0,
   "metadata": {
    "colab": {},
    "colab_type": "code",
    "id": "TXg5YiXo5NBK"
   },
   "outputs": [],
   "source": [
    "# random_seed = np.random.randint(99999999)\n",
    "# Here I am removing from the end of the feature vectors so ii is initialized as 1 not -1\n",
    "random_seed = 0\n",
    "steps = np.arange(1,len(linear_models)+1,1)\n",
    "ii = 1\n",
    "all_train_accs = []\n",
    "all_test_accs = []\n",
    "for cls_imp in cluster_importance[:2]:\n",
    "  ii *= -1\n",
    "  new_concept_vecs = concept_vecs[:, np.argsort(cluster_importance[2])[::ii]]\n",
    "  # print(np.argsort(cluster_importance[2])[:])\n",
    "  train_accs = []\n",
    "  test_accs = []\n",
    "  for step in steps[::-1]:\n",
    "    train_x, val_x, train_y, val_y = train_test_split(new_concept_vecs[:, :step], y_model, test_size=0.2, random_state=random_seed)\n",
    "    surrogate_tree = DecisionTreeClassifier(max_depth = 20, random_state=random_seed)\n",
    "    surrogate_tree.fit(train_x, train_y)\n",
    "    train_accs.append(surrogate_tree.score(train_x, train_y))\n",
    "    test_accs.append(surrogate_tree.score(val_x, val_y))\n",
    "  all_train_accs.append(train_accs)\n",
    "  all_test_accs.append(test_accs)"
   ]
  },
  {
   "cell_type": "code",
   "execution_count": 0,
   "metadata": {
    "colab": {
     "base_uri": "https://localhost:8080/",
     "height": 644
    },
    "colab_type": "code",
    "executionInfo": {
     "elapsed": 2364,
     "status": "ok",
     "timestamp": 1581268611564,
     "user": {
      "displayName": "Youssef Mansour",
      "photoUrl": "",
      "userId": "12155639947958617468"
     },
     "user_tz": -120
    },
    "id": "_DZFC0SU5NBT",
    "outputId": "9d3e29c0-7636-4f1b-f1eb-8feb67f6a7ef"
   },
   "outputs": [
    {
     "data": {
      "image/png": "[encoded data removed]",
      "text/plain": [
       "<Figure size 1008x720 with 1 Axes>"
      ]
     },
     "metadata": {
      "tags": []
     },
     "output_type": "display_data"
    }
   ],
   "source": [
    "plt.figure(figsize=(14,10))\n",
    "i = 0\n",
    "for train_accs, test_accs in zip(all_train_accs, all_test_accs):\n",
    "  plt.rcParams.update({'font.size': 18})\n",
    "  plt.plot(steps, train_accs, '-',label = 'Important concepts first' if i == 0 else 'Important concepts last')\n",
    "  # plt.plot(steps, test_accs, '-', label = 'test accuracy')\n",
    "  plt.xlabel('Number of Concepts')\n",
    "  plt.ylabel('Accuracy')\n",
    "  plt.title('Effects of adding concepts')\n",
    "  # plt.xticks(depths)\n",
    "  # plt.yticks(np.arange(0,1,0.15))\n",
    "  plt.legend()\n",
    "  i+=1\n",
    "plt.show()"
   ]
  },
  {
   "cell_type": "code",
   "execution_count": 0,
   "metadata": {
    "colab": {},
    "colab_type": "code",
    "id": "kGvHpk5F5UGM"
   },
   "outputs": [],
   "source": []
  }
 ],
 "metadata": {
  "accelerator": "GPU",
  "colab": {
   "collapsed_sections": [],
   "machine_shape": "hm",
   "name": "concept_importance.ipynb",
   "provenance": []
  },
  "kernelspec": {
   "display_name": "Python 3",
   "language": "python",
   "name": "python3"
  },
  "language_info": {
   "codemirror_mode": {
    "name": "ipython",
    "version": 3
   },
   "file_extension": ".py",
   "mimetype": "text/x-python",
   "name": "python",
   "nbconvert_exporter": "python",
   "pygments_lexer": "ipython3",
   "version": "3.7.4"
  }
 },
 "nbformat": 4,
 "nbformat_minor": 1
}
