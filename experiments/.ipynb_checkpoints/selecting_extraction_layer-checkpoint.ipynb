{
 "cells": [
  {
   "cell_type": "code",
   "execution_count": 0,
   "metadata": {
    "colab": {},
    "colab_type": "code",
    "id": "F2ytSeOCVDYB"
   },
   "outputs": [],
   "source": [
    "%tensorflow_version 1.x"
   ]
  },
  {
   "cell_type": "code",
   "execution_count": 0,
   "metadata": {
    "colab": {},
    "colab_type": "code",
    "id": "lBdFkQlib-7_"
   },
   "outputs": [],
   "source": [
    "import numpy as np\n",
    "from matplotlib import pyplot as plt\n",
    "\n",
    "%load_ext autoreload\n",
    "%autoreload 2\n",
    "\n",
    "import torch\n",
    "from torch.autograd import Variable as V\n",
    "import torchvision.models as models\n",
    "from torchvision import transforms as trn\n",
    "from torch.nn import functional as F\n",
    "import torch.nn as nn\n",
    "import os\n",
    "from PIL import Image\n",
    "import matplotlib.pyplot as plt"
   ]
  },
  {
   "cell_type": "code",
   "execution_count": 0,
   "metadata": {
    "colab": {
     "base_uri": "https://localhost:8080/",
     "height": 122
    },
    "colab_type": "code",
    "executionInfo": {
     "elapsed": 44036,
     "status": "ok",
     "timestamp": 1578753844925,
     "user": {
      "displayName": "Youssef Mansour",
      "photoUrl": "",
      "userId": "12155639947958617468"
     },
     "user_tz": -120
    },
    "id": "-aRW1L4v3FQX",
    "outputId": "12baff72-08c1-4f28-90fb-ec1f9e57f99b"
   },
   "outputs": [
    {
     "name": "stdout",
     "output_type": "stream",
     "text": [
      "Go to this URL in a browser: https://accounts.google.com/o/oauth2/auth?client_id=947318989803-6bn6qk8qdgf4n4g3pfee6491hc0brc4i.apps.googleusercontent.com&redirect_uri=urn%3aietf%3awg%3aoauth%3a2.0%3aoob&response_type=code&scope=email%20https%3a%2f%2fwww.googleapis.com%2fauth%2fdocs.test%20https%3a%2f%2fwww.googleapis.com%2fauth%2fdrive%20https%3a%2f%2fwww.googleapis.com%2fauth%2fdrive.photos.readonly%20https%3a%2f%2fwww.googleapis.com%2fauth%2fpeopleapi.readonly\n",
      "\n",
      "Enter your authorization code:\n",
      "··········\n",
      "Mounted at /content/drive\n"
     ]
    }
   ],
   "source": [
    "from google.colab import drive\n",
    "drive.mount('/content/drive')"
   ]
  },
  {
   "cell_type": "code",
   "execution_count": 0,
   "metadata": {
    "colab": {
     "base_uri": "https://localhost:8080/",
     "height": 34
    },
    "colab_type": "code",
    "executionInfo": {
     "elapsed": 48233,
     "status": "ok",
     "timestamp": 1578753849138,
     "user": {
      "displayName": "Youssef Mansour",
      "photoUrl": "",
      "userId": "12155639947958617468"
     },
     "user_tz": -120
    },
    "id": "gUM0jV2TdNVO",
    "outputId": "356fa0c5-e5dd-4441-8d57-87d4b89f901a"
   },
   "outputs": [
    {
     "data": {
      "text/plain": [
       "<All keys matched successfully>"
      ]
     },
     "execution_count": 5,
     "metadata": {
      "tags": []
     },
     "output_type": "execute_result"
    }
   ],
   "source": [
    "arch = 'resnet50'\n",
    "model_file = f'{arch}_places365.pth.tar'\n",
    "if not os.access(model_file, os.W_OK):\n",
    "    weight_url = 'http://places2.csail.mit.edu/models_places365/' + model_file\n",
    "    os.system('wget ' + weight_url)\n",
    "\n",
    "model = models.__dict__[arch](num_classes=365)\n",
    "checkpoint = torch.load(model_file, map_location=lambda storage, loc: storage)\n",
    "state_dict = {str.replace(k,'module.',''): v for k,v in checkpoint['state_dict'].items()}\n",
    "model.load_state_dict(state_dict)"
   ]
  },
  {
   "cell_type": "code",
   "execution_count": 0,
   "metadata": {
    "colab": {
     "base_uri": "https://localhost:8080/",
     "height": 34
    },
    "colab_type": "code",
    "executionInfo": {
     "elapsed": 48220,
     "status": "ok",
     "timestamp": 1578753849141,
     "user": {
      "displayName": "Youssef Mansour",
      "photoUrl": "",
      "userId": "12155639947958617468"
     },
     "user_tz": -120
    },
    "id": "UODGZRdVfMn1",
    "outputId": "47f3789d-f6bb-4b4e-9248-b16c5d5c505d"
   },
   "outputs": [
    {
     "data": {
      "text/plain": [
       "'convert model to evaluation mode with no grad'"
      ]
     },
     "execution_count": 6,
     "metadata": {
      "tags": []
     },
     "output_type": "execute_result"
    }
   ],
   "source": [
    "model.eval()\n",
    "for param in model.parameters():\n",
    "    param.requires_grad = False\n",
    "'convert model to evaluation mode with no grad'"
   ]
  },
  {
   "cell_type": "code",
   "execution_count": 0,
   "metadata": {
    "colab": {},
    "colab_type": "code",
    "id": "sVhMbksliCuX"
   },
   "outputs": [],
   "source": [
    "device = torch.device(\"cuda:0\" if torch.cuda.is_available() else \"cpu\")"
   ]
  },
  {
   "cell_type": "code",
   "execution_count": 0,
   "metadata": {
    "colab": {},
    "colab_type": "code",
    "id": "yrlLe_Xt00PC"
   },
   "outputs": [],
   "source": [
    "feature_extractors = []\n",
    "for i in range(2,6):\n",
    "  feature_extractors.append(nn.Sequential(*list(model.children())[:-i], nn.AdaptiveAvgPool2d(1)).eval().to(device))"
   ]
  },
  {
   "cell_type": "code",
   "execution_count": 0,
   "metadata": {
    "colab": {},
    "colab_type": "code",
    "id": "mmtJrDuPWcdG"
   },
   "outputs": [],
   "source": [
    "!cp drive/'My Drive'/'Colab Notebooks'/'Automate local TCAV'/'final notebooks'/resized_imgs.pkl  /content/\n",
    "!cp drive/'My Drive'/'Colab Notebooks'/'Automate local TCAV'/'final notebooks'/masks.pkl  /content/\n",
    "!cp drive/'My Drive'/'Colab Notebooks'/'Automate local TCAV'/'final notebooks'/classes.pkl  /content/"
   ]
  },
  {
   "cell_type": "code",
   "execution_count": 0,
   "metadata": {
    "colab": {},
    "colab_type": "code",
    "id": "xUljBU4CXgt2"
   },
   "outputs": [],
   "source": [
    "import pickle\n",
    "with open('masks.pkl', 'rb') as f:\n",
    "  masks = pickle.load(f)\n",
    "with open('resized_imgs.pkl', 'rb') as f:\n",
    "  imgs = pickle.load(f)\n",
    "with open('classes.pkl', 'rb') as f:\n",
    "  labels = np.array(pickle.load(f))"
   ]
  },
  {
   "cell_type": "code",
   "execution_count": 0,
   "metadata": {
    "colab": {},
    "colab_type": "code",
    "id": "uwe-ECozYS2v"
   },
   "outputs": [],
   "source": [
    "def get_segments(img, mask, threshold = 0.05):\n",
    "  segs = np.unique(mask)\n",
    "  segments = []\n",
    "  total = mask.shape[0]*mask.shape[1]\n",
    "  for seg in segs:\n",
    "    idxs = mask==seg\n",
    "    sz = np.sum(idxs)\n",
    "    if sz < threshold*total:\n",
    "      continue\n",
    "    segment = img*idxs[..., None]\n",
    "    w, h, _ = np.nonzero(segment)\n",
    "    segment = segment[np.min(w):np.max(w),np.min(h):np.max(h),:]\n",
    "    segments.append(segment)\n",
    "  return segments"
   ]
  },
  {
   "cell_type": "code",
   "execution_count": 0,
   "metadata": {
    "colab": {},
    "colab_type": "code",
    "id": "AXSQxAQtj8lZ"
   },
   "outputs": [],
   "source": [
    "img_segments = []\n",
    "for img, msk in zip(imgs, masks):\n",
    "  img_segments.append(get_segments(np.array(img), msk, threshold = 0.005))"
   ]
  },
  {
   "cell_type": "code",
   "execution_count": 0,
   "metadata": {
    "colab": {},
    "colab_type": "code",
    "id": "rugSm1WoRU8B"
   },
   "outputs": [],
   "source": [
    "del masks"
   ]
  },
  {
   "cell_type": "code",
   "execution_count": 0,
   "metadata": {
    "colab": {},
    "colab_type": "code",
    "id": "mqyQxrj7461j"
   },
   "outputs": [],
   "source": [
    "centre_crop = trn.Compose([\n",
    "        trn.Resize((256,256)),\n",
    "        trn.CenterCrop(224),\n",
    "        trn.ToTensor(),\n",
    "        # trn.Normalize([0, 0, 0], [255, 255, 225]),\n",
    "        trn.Normalize([0.485, 0.456, 0.406], [0.229, 0.224, 0.225])\n",
    "])"
   ]
  },
  {
   "cell_type": "code",
   "execution_count": 0,
   "metadata": {
    "colab": {},
    "colab_type": "code",
    "id": "iQzO6k2m0rW1"
   },
   "outputs": [],
   "source": [
    "final_vectors = []\n",
    "for feature_extractor in feature_extractors:\n",
    "  all_vectors = []\n",
    "  for img_seg in img_segments:\n",
    "      vectors = []\n",
    "      for seg in img_seg:\n",
    "        img = Image.fromarray(seg, 'RGB')\n",
    "        input_img = V(centre_crop(img).unsqueeze(0))\n",
    "        input_img = input_img.to(device)\n",
    "        feature_tensor = feature_extractor.forward(input_img)\n",
    "        del input_img\n",
    "        feat_vec = feature_tensor.cpu().numpy().squeeze()\n",
    "        del feature_tensor\n",
    "        vectors.append(feat_vec)\n",
    "        all_vectors.append(feat_vec)\n",
    "  final_vectors.append(all_vectors)"
   ]
  },
  {
   "cell_type": "code",
   "execution_count": 0,
   "metadata": {
    "colab": {},
    "colab_type": "code",
    "id": "J8M7L15Tmy5r"
   },
   "outputs": [],
   "source": [
    "del img_segments"
   ]
  },
  {
   "cell_type": "code",
   "execution_count": 0,
   "metadata": {
    "colab": {},
    "colab_type": "code",
    "id": "bEzfAotB3fMV"
   },
   "outputs": [],
   "source": [
    "from sklearn.cluster import KMeans\n",
    "from sklearn.model_selection import train_test_split\n",
    "from sklearn.linear_model import LogisticRegression\n",
    "from sklearn.decomposition import PCA\n",
    "from sklearn.pipeline import Pipeline"
   ]
  },
  {
   "cell_type": "code",
   "execution_count": 0,
   "metadata": {
    "colab": {
     "base_uri": "https://localhost:8080/",
     "height": 221
    },
    "colab_type": "code",
    "executionInfo": {
     "elapsed": 1089158,
     "status": "ok",
     "timestamp": 1578754890151,
     "user": {
      "displayName": "Youssef Mansour",
      "photoUrl": "",
      "userId": "12155639947958617468"
     },
     "user_tz": -120
    },
    "id": "WqX26eghzYrr",
    "outputId": "06c4f04d-0846-4e76-df89-6548ca1e4928"
   },
   "outputs": [
    {
     "name": "stdout",
     "output_type": "stream",
     "text": [
      "count threshold is 43\n",
      "total number of clusters 108\n",
      "total number of good clusters 104\n",
      "count threshold is 43\n",
      "total number of clusters 108\n",
      "total number of good clusters 92\n",
      "count threshold is 43\n",
      "total number of clusters 108\n",
      "total number of good clusters 97\n",
      "count threshold is 43\n",
      "total number of clusters 108\n",
      "total number of good clusters 95\n"
     ]
    }
   ],
   "source": [
    "final_scores = []\n",
    "for all_vectors in final_vectors:\n",
    "  X = np.array(all_vectors)\n",
    "  num_segs = X.shape[0]\n",
    "  k = int(num_segs**0.5)\n",
    "  kmeans = KMeans(n_clusters=k, random_state=0).fit(X)\n",
    "  clusters_labels = kmeans.labels_\n",
    "  count_threshold = int((num_segs/k)*0.4)\n",
    "  cluster_names, cluster_counts = np.unique(clusters_labels, return_counts=1)\n",
    "  good_clusters = cluster_names[cluster_counts>count_threshold]\n",
    "  print(f'count threshold is {count_threshold}')\n",
    "  print(f'total number of clusters {len(cluster_names)}')\n",
    "  print(f'total number of good clusters {len(good_clusters)}')\n",
    "  linear_models = {}\n",
    "  model_score = {}\n",
    "  for cluster in good_clusters:\n",
    "    positive_instances = np.argwhere(clusters_labels==cluster).squeeze()\n",
    "    negative_instances = np.argwhere(clusters_labels!=cluster).squeeze()\n",
    "    num_samples = min(len(positive_instances), len(negative_instances))\n",
    "    selected_pos = np.random.choice(positive_instances, num_samples, replace=False)\n",
    "    selected_neg = np.random.choice(negative_instances, num_samples, replace=False)\n",
    "    train_x = np.append(X[selected_pos], X[selected_neg], axis=0)\n",
    "    train_y = np.array([1] * num_samples + [0] * num_samples)\n",
    "    train_x, val_x, train_y, val_y = train_test_split(train_x, train_y)\n",
    "    n_components = min(256, len(train_x))\n",
    "    pca_model = PCA(n_components=n_components)\n",
    "    lr_model = LogisticRegression()\n",
    "    pca_lr_model = Pipeline(steps = [('pca', pca_model), ('lr', lr_model)])\n",
    "    # pca_lr_model.set_params(pca__n_components=256, lr__penalty='l2')\n",
    "    pca_lr_model.fit(train_x, train_y)\n",
    "    linear_models[cluster] = pca_lr_model\n",
    "    model_score[cluster] = pca_lr_model.score(val_x, val_y)\n",
    "  final_scores.append(model_score)"
   ]
  },
  {
   "cell_type": "code",
   "execution_count": 0,
   "metadata": {
    "colab": {},
    "colab_type": "code",
    "id": "Mz6t8NOD9YMe"
   },
   "outputs": [],
   "source": [
    "mean_accs = []\n",
    "for sc in final_scores:\n",
    "  mean_accs.append(np.mean(list(sc.values())))\n",
    "layers = ['conv_5','conv_4','conv_3','conv_2']"
   ]
  },
  {
   "cell_type": "code",
   "execution_count": 0,
   "metadata": {
    "colab": {
     "base_uri": "https://localhost:8080/",
     "height": 535
    },
    "colab_type": "code",
    "executionInfo": {
     "elapsed": 696,
     "status": "ok",
     "timestamp": 1578757049486,
     "user": {
      "displayName": "Youssef Mansour",
      "photoUrl": "",
      "userId": "12155639947958617468"
     },
     "user_tz": -120
    },
    "id": "xPo2nn-7CLdz",
    "outputId": "9212eae3-ded6-476a-e8cb-1eac78a28a4b"
   },
   "outputs": [
    {
     "data": {
      "image/png": "[encoded data removed]",
      "text/plain": [
       "<Figure size 864x576 with 1 Axes>"
      ]
     },
     "metadata": {
      "tags": []
     },
     "output_type": "display_data"
    }
   ],
   "source": [
    "plt.figure(figsize=(12,8))\n",
    "plt.rcParams.update({'font.size': 18})\n",
    "plt.bar(layers[::-1], mean_accs[::-1], alpha=0.8, width=0.6)\n",
    "plt.ylim([0.8,1])\n",
    "plt.xlabel('Extraction Layer')\n",
    "plt.ylabel('Average Accuracy')\n",
    "plt.title('Average Accuracy VS Extraction Layer')\n",
    "plt.show()"
   ]
  },
  {
   "cell_type": "code",
   "execution_count": 0,
   "metadata": {
    "colab": {
     "base_uri": "https://localhost:8080/",
     "height": 34
    },
    "colab_type": "code",
    "executionInfo": {
     "elapsed": 1089133,
     "status": "ok",
     "timestamp": 1578754890161,
     "user": {
      "displayName": "Youssef Mansour",
      "photoUrl": "",
      "userId": "12155639947958617468"
     },
     "user_tz": -120
    },
    "id": "XXwVvZLmJA3w",
    "outputId": "d544961d-10f2-4cfa-bffd-bd1b7ba00fab"
   },
   "outputs": [
    {
     "data": {
      "text/plain": [
       "[0.940469477785402, 0.9411085043596118, 0.9566187473329968, 0.9679362781641715]"
      ]
     },
     "execution_count": 21,
     "metadata": {
      "tags": []
     },
     "output_type": "execute_result"
    }
   ],
   "source": [
    "mean_accs[::-1]"
   ]
  }
 ],
 "metadata": {
  "accelerator": "GPU",
  "colab": {
   "collapsed_sections": [],
   "machine_shape": "hm",
   "name": "selecting_extraction_layer.ipynb",
   "provenance": []
  },
  "kernelspec": {
   "display_name": "Python 3",
   "language": "python",
   "name": "python3"
  },
  "language_info": {
   "codemirror_mode": {
    "name": "ipython",
    "version": 3
   },
   "file_extension": ".py",
   "mimetype": "text/x-python",
   "name": "python",
   "nbconvert_exporter": "python",
   "pygments_lexer": "ipython3",
   "version": "3.7.4"
  }
 },
 "nbformat": 4,
 "nbformat_minor": 1
}
