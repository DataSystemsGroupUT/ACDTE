{
 "cells": [
  {
   "cell_type": "code",
   "execution_count": 0,
   "metadata": {
    "colab": {},
    "colab_type": "code",
    "id": "F2ytSeOCVDYB"
   },
   "outputs": [],
   "source": [
    "%tensorflow_version 1.x"
   ]
  },
  {
   "cell_type": "code",
   "execution_count": 0,
   "metadata": {
    "colab": {},
    "colab_type": "code",
    "id": "lBdFkQlib-7_"
   },
   "outputs": [],
   "source": [
    "import numpy as np\n",
    "from matplotlib import pyplot as plt\n",
    "\n",
    "%load_ext autoreload\n",
    "%autoreload 2\n",
    "\n",
    "import torch\n",
    "from torch.autograd import Variable as V\n",
    "import torchvision.models as models\n",
    "from torchvision import transforms as trn\n",
    "from torch.nn import functional as F\n",
    "import torch.nn as nn\n",
    "import os\n",
    "from PIL import Image\n",
    "import matplotlib.pyplot as plt"
   ]
  },
  {
   "cell_type": "code",
   "execution_count": 4,
   "metadata": {
    "colab": {
     "base_uri": "https://localhost:8080/",
     "height": 122
    },
    "colab_type": "code",
    "executionInfo": {
     "elapsed": 32863,
     "status": "ok",
     "timestamp": 1578662828894,
     "user": {
      "displayName": "Youssef Mansour",
      "photoUrl": "",
      "userId": "12155639947958617468"
     },
     "user_tz": -120
    },
    "id": "-aRW1L4v3FQX",
    "outputId": "85bbc15a-ba95-4b74-d39f-145a245495c1"
   },
   "outputs": [
    {
     "name": "stdout",
     "output_type": "stream",
     "text": [
      "Go to this URL in a browser: https://accounts.google.com/o/oauth2/auth?client_id=947318989803-6bn6qk8qdgf4n4g3pfee6491hc0brc4i.apps.googleusercontent.com&redirect_uri=urn%3aietf%3awg%3aoauth%3a2.0%3aoob&response_type=code&scope=email%20https%3a%2f%2fwww.googleapis.com%2fauth%2fdocs.test%20https%3a%2f%2fwww.googleapis.com%2fauth%2fdrive%20https%3a%2f%2fwww.googleapis.com%2fauth%2fdrive.photos.readonly%20https%3a%2f%2fwww.googleapis.com%2fauth%2fpeopleapi.readonly\n",
      "\n",
      "Enter your authorization code:\n",
      "··········\n",
      "Mounted at /content/drive\n"
     ]
    }
   ],
   "source": [
    "from google.colab import drive\n",
    "drive.mount('/content/drive')"
   ]
  },
  {
   "cell_type": "code",
   "execution_count": 5,
   "metadata": {
    "colab": {
     "base_uri": "https://localhost:8080/",
     "height": 34
    },
    "colab_type": "code",
    "executionInfo": {
     "elapsed": 5862,
     "status": "ok",
     "timestamp": 1578662830137,
     "user": {
      "displayName": "Youssef Mansour",
      "photoUrl": "",
      "userId": "12155639947958617468"
     },
     "user_tz": -120
    },
    "id": "gUM0jV2TdNVO",
    "outputId": "df9dee47-fec5-41e0-8016-864f1c4ef345"
   },
   "outputs": [
    {
     "data": {
      "text/plain": [
       "<All keys matched successfully>"
      ]
     },
     "execution_count": 5,
     "metadata": {
      "tags": []
     },
     "output_type": "execute_result"
    }
   ],
   "source": [
    "arch = 'resnet50'\n",
    "model_file = f'{arch}_places365.pth.tar'\n",
    "if not os.access(model_file, os.W_OK):\n",
    "    weight_url = 'http://places2.csail.mit.edu/models_places365/' + model_file\n",
    "    os.system('wget ' + weight_url)\n",
    "\n",
    "model = models.__dict__[arch](num_classes=365)\n",
    "checkpoint = torch.load(model_file, map_location=lambda storage, loc: storage)\n",
    "state_dict = {str.replace(k,'module.',''): v for k,v in checkpoint['state_dict'].items()}\n",
    "model.load_state_dict(state_dict)"
   ]
  },
  {
   "cell_type": "code",
   "execution_count": 6,
   "metadata": {
    "colab": {
     "base_uri": "https://localhost:8080/",
     "height": 34
    },
    "colab_type": "code",
    "executionInfo": {
     "elapsed": 5246,
     "status": "ok",
     "timestamp": 1578662830141,
     "user": {
      "displayName": "Youssef Mansour",
      "photoUrl": "",
      "userId": "12155639947958617468"
     },
     "user_tz": -120
    },
    "id": "UODGZRdVfMn1",
    "outputId": "f62ceeca-4862-4214-bcc4-b41b37aaf24c"
   },
   "outputs": [
    {
     "data": {
      "text/plain": [
       "'convert model to evaluation mode'"
      ]
     },
     "execution_count": 6,
     "metadata": {
      "tags": []
     },
     "output_type": "execute_result"
    }
   ],
   "source": [
    "model.eval()\n",
    "'convert model to evaluation mode'"
   ]
  },
  {
   "cell_type": "code",
   "execution_count": 0,
   "metadata": {
    "colab": {},
    "colab_type": "code",
    "id": "sVhMbksliCuX"
   },
   "outputs": [],
   "source": [
    "device = torch.device(\"cuda:0\" if torch.cuda.is_available() else \"cpu\")"
   ]
  },
  {
   "cell_type": "code",
   "execution_count": 0,
   "metadata": {
    "colab": {},
    "colab_type": "code",
    "id": "yrlLe_Xt00PC"
   },
   "outputs": [],
   "source": [
    "feature_extractor = nn.Sequential(*list(model.children())[:-3], nn.AdaptiveAvgPool2d(1))"
   ]
  },
  {
   "cell_type": "code",
   "execution_count": 0,
   "metadata": {
    "colab": {},
    "colab_type": "code",
    "id": "mPiNKOlr66bJ"
   },
   "outputs": [],
   "source": [
    "for param in feature_extractor.parameters():\n",
    "    param.requires_grad = False\n",
    "feature_extractor = feature_extractor.eval().to(device)"
   ]
  },
  {
   "cell_type": "code",
   "execution_count": 0,
   "metadata": {
    "colab": {},
    "colab_type": "code",
    "id": "BewtlkgC9rgy"
   },
   "outputs": [],
   "source": [
    "# outputs= []\n",
    "# def hook(module, input, output):\n",
    "#     outputs.append(output.cpu().numpy().squeeze())\n",
    "\n",
    "# full_model = model\n",
    "# full_model.layer3[5].register_forward_hook(hook)\n",
    "# full_model.to(device)\n",
    "# 'finished the full model with hook attached'"
   ]
  },
  {
   "cell_type": "code",
   "execution_count": 0,
   "metadata": {
    "colab": {},
    "colab_type": "code",
    "id": "Q0og6qcweLMQ"
   },
   "outputs": [],
   "source": [
    "centre_crop = trn.Compose([\n",
    "        trn.Resize((256,256)),\n",
    "        trn.CenterCrop(224),\n",
    "        trn.ToTensor(),\n",
    "        # trn.Normalize([0, 0, 0], [255, 255, 225]),\n",
    "        trn.Normalize([0.485, 0.456, 0.406], [0.229, 0.224, 0.225])\n",
    "])\n",
    "\n",
    "file_name = 'categories_places365.txt'\n",
    "if not os.access(file_name, os.W_OK):\n",
    "    synset_url = 'https://raw.githubusercontent.com/csailvision/places365/master/categories_places365.txt'\n",
    "    os.system('wget ' + synset_url)\n",
    "classes = list()\n",
    "with open(file_name) as class_file:\n",
    "    for line in class_file:\n",
    "        classes.append(line.strip().split(' ')[0][3:])\n",
    "classes = tuple(classes)"
   ]
  },
  {
   "cell_type": "code",
   "execution_count": 12,
   "metadata": {
    "colab": {
     "base_uri": "https://localhost:8080/",
     "height": 68
    },
    "colab_type": "code",
    "executionInfo": {
     "elapsed": 10666,
     "status": "ok",
     "timestamp": 1578662842999,
     "user": {
      "displayName": "Youssef Mansour",
      "photoUrl": "",
      "userId": "12155639947958617468"
     },
     "user_tz": -120
    },
    "id": "m1r_ZJH93UQg",
    "outputId": "db5d1531-a9fd-4251-b722-fbb7c00f1a87"
   },
   "outputs": [
    {
     "name": "stdout",
     "output_type": "stream",
     "text": [
      " classes.pkl    \u001b[0m\u001b[01;34m'final notebooks'\u001b[0m/       resized_imgs.pkl\n",
      " DataLoader.py  'Loading ADE20K.ipynb'  'Training ResNet final.ipynb'\n",
      " DeepLab.py      masks.pkl               \u001b[01;34mtrash\u001b[0m/\n"
     ]
    }
   ],
   "source": [
    "ls drive/'My Drive'/'Colab Notebooks'/'Automate local TCAV'/"
   ]
  },
  {
   "cell_type": "code",
   "execution_count": 0,
   "metadata": {
    "colab": {},
    "colab_type": "code",
    "id": "mmtJrDuPWcdG"
   },
   "outputs": [],
   "source": [
    "!cp drive/'My Drive'/'Colab Notebooks'/'Automate local TCAV'/resized_imgs.pkl  /content/\n",
    "!cp drive/'My Drive'/'Colab Notebooks'/'Automate local TCAV'/masks.pkl  /content/\n",
    "!cp drive/'My Drive'/'Colab Notebooks'/'Automate local TCAV'/classes.pkl  /content/"
   ]
  },
  {
   "cell_type": "code",
   "execution_count": 0,
   "metadata": {
    "colab": {},
    "colab_type": "code",
    "id": "xUljBU4CXgt2"
   },
   "outputs": [],
   "source": [
    "import pickle\n",
    "with open('masks.pkl', 'rb') as f:\n",
    "  masks = pickle.load(f)\n",
    "with open('resized_imgs.pkl', 'rb') as f:\n",
    "  imgs = pickle.load(f)\n",
    "with open('classes.pkl', 'rb') as f:\n",
    "  labels = np.array(pickle.load(f))"
   ]
  },
  {
   "cell_type": "code",
   "execution_count": 0,
   "metadata": {
    "colab": {},
    "colab_type": "code",
    "id": "TD_fZefhOScT"
   },
   "outputs": [],
   "source": [
    "# np.unique(labels, return_counts=1)"
   ]
  },
  {
   "cell_type": "code",
   "execution_count": 0,
   "metadata": {
    "colab": {},
    "colab_type": "code",
    "id": "uwe-ECozYS2v"
   },
   "outputs": [],
   "source": [
    "def get_segments(img, mask, threshold = 0.05):\n",
    "  segs = np.unique(mask)\n",
    "  segments = []\n",
    "  total = mask.shape[0]*mask.shape[1]\n",
    "  for seg in segs:\n",
    "    idxs = mask==seg\n",
    "    sz = np.sum(idxs)\n",
    "    if sz < threshold*total:\n",
    "      continue\n",
    "    segment = img*idxs[..., None]\n",
    "    w, h, _ = np.nonzero(segment)\n",
    "    segment = segment[np.min(w):np.max(w),np.min(h):np.max(h),:]\n",
    "    segments.append(segment)\n",
    "  return segments"
   ]
  },
  {
   "cell_type": "code",
   "execution_count": 0,
   "metadata": {
    "colab": {},
    "colab_type": "code",
    "id": "AXSQxAQtj8lZ"
   },
   "outputs": [],
   "source": [
    "img_segments = []\n",
    "for img, msk in zip(imgs, masks):\n",
    "  img_segments.append(get_segments(np.array(img), msk, threshold = 0.005))"
   ]
  },
  {
   "cell_type": "code",
   "execution_count": 0,
   "metadata": {
    "colab": {},
    "colab_type": "code",
    "id": "HDPw7GUiNqa-"
   },
   "outputs": [],
   "source": [
    "# idxs = np.where(labels=='bedroom')[0]"
   ]
  },
  {
   "cell_type": "code",
   "execution_count": 0,
   "metadata": {
    "colab": {},
    "colab_type": "code",
    "id": "bpnclwiwfJji"
   },
   "outputs": [],
   "source": [
    "# for imm in masks[55:60]:\n",
    "#   plt.figure()\n",
    "#   plt.imshow(imm)\n",
    "#   plt.axis('off')\n",
    "#   plt.show"
   ]
  },
  {
   "cell_type": "code",
   "execution_count": 0,
   "metadata": {
    "colab": {},
    "colab_type": "code",
    "id": "cfkTUVft0tqg"
   },
   "outputs": [],
   "source": [
    "del masks"
   ]
  },
  {
   "cell_type": "code",
   "execution_count": 0,
   "metadata": {
    "colab": {},
    "colab_type": "code",
    "id": "9jDg4PeW28hN"
   },
   "outputs": [],
   "source": [
    "# for imm in img_segments[0]:\n",
    "#   plt.figure()\n",
    "#   plt.imshow(imm)\n",
    "#   plt.show"
   ]
  },
  {
   "cell_type": "code",
   "execution_count": 0,
   "metadata": {
    "colab": {},
    "colab_type": "code",
    "id": "-IkWwIzN3lbz"
   },
   "outputs": [],
   "source": [
    "# mmm = []\n",
    "# for imm in img_segments:\n",
    "#   mmm.append(len(imm))"
   ]
  },
  {
   "cell_type": "code",
   "execution_count": 0,
   "metadata": {
    "colab": {},
    "colab_type": "code",
    "id": "iggpTf1z3uCd"
   },
   "outputs": [],
   "source": [
    "# np.argmin(mmm)"
   ]
  },
  {
   "cell_type": "code",
   "execution_count": 0,
   "metadata": {
    "colab": {},
    "colab_type": "code",
    "id": "x6eoPIdr3yCz"
   },
   "outputs": [],
   "source": [
    "# for imm in img_segments[251]:\n",
    "#   plt.figure()\n",
    "#   plt.imshow(imm)\n",
    "#   plt.show"
   ]
  },
  {
   "cell_type": "code",
   "execution_count": 0,
   "metadata": {
    "colab": {},
    "colab_type": "code",
    "id": "njJubtmkOdjR"
   },
   "outputs": [],
   "source": [
    "# torch.cuda.empty_cache()"
   ]
  },
  {
   "cell_type": "code",
   "execution_count": 0,
   "metadata": {
    "colab": {},
    "colab_type": "code",
    "id": "4pYJx8NGPBHb"
   },
   "outputs": [],
   "source": [
    "# def pretty_size(size):\n",
    "# \t\"\"\"Pretty prints a torch.Size object\"\"\"\n",
    "# \tassert(isinstance(size, torch.Size))\n",
    "# \treturn \" × \".join(map(str, size))\n",
    "\n",
    "# def dump_tensors(gpu_only=True):\n",
    "# \t\"\"\"Prints a list of the Tensors being tracked by the garbage collector.\"\"\"\n",
    "# \timport gc\n",
    "# \ttotal_size = 0\n",
    "# \tfor obj in gc.get_objects():\n",
    "# \t\ttry:\n",
    "# \t\t\tif torch.is_tensor(obj):\n",
    "# \t\t\t\tif not gpu_only or obj.is_cuda:\n",
    "# \t\t\t\t\tprint(\"%s:%s%s %s\" % (type(obj).__name__, \n",
    "# \t\t\t\t\t\t\t\t\t\t  \" GPU\" if obj.is_cuda else \"\",\n",
    "# \t\t\t\t\t\t\t\t\t\t  \" pinned\" if obj.is_pinned else \"\",\n",
    "# \t\t\t\t\t\t\t\t\t\t  pretty_size(obj.size())))\n",
    "# \t\t\t\t\ttotal_size += obj.numel()\n",
    "# \t\t\telif hasattr(obj, \"data\") and torch.is_tensor(obj.data):\n",
    "# \t\t\t\tif not gpu_only or obj.is_cuda:\n",
    "# \t\t\t\t\tprint(\"%s → %s:%s%s%s%s %s\" % (type(obj).__name__, \n",
    "# \t\t\t\t\t\t\t\t\t\t\t\t   type(obj.data).__name__, \n",
    "# \t\t\t\t\t\t\t\t\t\t\t\t   \" GPU\" if obj.is_cuda else \"\",\n",
    "# \t\t\t\t\t\t\t\t\t\t\t\t   \" pinned\" if obj.data.is_pinned else \"\",\n",
    "# \t\t\t\t\t\t\t\t\t\t\t\t   \" grad\" if obj.requires_grad else \"\", \n",
    "# \t\t\t\t\t\t\t\t\t\t\t\t   \" volatile\" if obj.volatile else \"\",\n",
    "# \t\t\t\t\t\t\t\t\t\t\t\t   pretty_size(obj.data.size())))\n",
    "# \t\t\t\t\ttotal_size += obj.data.numel()\n",
    "# \t\texcept Exception as e:\n",
    "# \t\t\tpass        \n",
    "# \tprint(\"Total size:\", total_size)"
   ]
  },
  {
   "cell_type": "code",
   "execution_count": 0,
   "metadata": {
    "colab": {},
    "colab_type": "code",
    "id": "L3SJL5pMPCfN"
   },
   "outputs": [],
   "source": [
    "# dump_tensors()"
   ]
  },
  {
   "cell_type": "code",
   "execution_count": 0,
   "metadata": {
    "colab": {},
    "colab_type": "code",
    "id": "XLVScr6JrjyL"
   },
   "outputs": [],
   "source": [
    "# import gc\n",
    "# print(gc.isenabled())\n",
    "# gc.collect()"
   ]
  },
  {
   "cell_type": "code",
   "execution_count": 0,
   "metadata": {
    "colab": {},
    "colab_type": "code",
    "id": "07zSLjdfr97L"
   },
   "outputs": [],
   "source": [
    "# dump_tensors()"
   ]
  },
  {
   "cell_type": "code",
   "execution_count": 33,
   "metadata": {
    "colab": {
     "base_uri": "https://localhost:8080/",
     "height": 1000
    },
    "colab_type": "code",
    "executionInfo": {
     "elapsed": 1114,
     "status": "ok",
     "timestamp": 1578645407292,
     "user": {
      "displayName": "Youssef Mansour",
      "photoUrl": "",
      "userId": "12155639947958617468"
     },
     "user_tz": -120
    },
    "id": "A1K2Ew9aloss",
    "outputId": "52d698bd-60e1-4b97-c954-1102df141bbb"
   },
   "outputs": [
    {
     "data": {
      "text/plain": [
       "Sequential(\n",
       "  (0): Conv2d(3, 64, kernel_size=(7, 7), stride=(2, 2), padding=(3, 3), bias=False)\n",
       "  (1): BatchNorm2d(64, eps=1e-05, momentum=0.1, affine=True, track_running_stats=True)\n",
       "  (2): ReLU(inplace=True)\n",
       "  (3): MaxPool2d(kernel_size=3, stride=2, padding=1, dilation=1, ceil_mode=False)\n",
       "  (4): Sequential(\n",
       "    (0): Bottleneck(\n",
       "      (conv1): Conv2d(64, 64, kernel_size=(1, 1), stride=(1, 1), bias=False)\n",
       "      (bn1): BatchNorm2d(64, eps=1e-05, momentum=0.1, affine=True, track_running_stats=True)\n",
       "      (conv2): Conv2d(64, 64, kernel_size=(3, 3), stride=(1, 1), padding=(1, 1), bias=False)\n",
       "      (bn2): BatchNorm2d(64, eps=1e-05, momentum=0.1, affine=True, track_running_stats=True)\n",
       "      (conv3): Conv2d(64, 256, kernel_size=(1, 1), stride=(1, 1), bias=False)\n",
       "      (bn3): BatchNorm2d(256, eps=1e-05, momentum=0.1, affine=True, track_running_stats=True)\n",
       "      (relu): ReLU(inplace=True)\n",
       "      (downsample): Sequential(\n",
       "        (0): Conv2d(64, 256, kernel_size=(1, 1), stride=(1, 1), bias=False)\n",
       "        (1): BatchNorm2d(256, eps=1e-05, momentum=0.1, affine=True, track_running_stats=True)\n",
       "      )\n",
       "    )\n",
       "    (1): Bottleneck(\n",
       "      (conv1): Conv2d(256, 64, kernel_size=(1, 1), stride=(1, 1), bias=False)\n",
       "      (bn1): BatchNorm2d(64, eps=1e-05, momentum=0.1, affine=True, track_running_stats=True)\n",
       "      (conv2): Conv2d(64, 64, kernel_size=(3, 3), stride=(1, 1), padding=(1, 1), bias=False)\n",
       "      (bn2): BatchNorm2d(64, eps=1e-05, momentum=0.1, affine=True, track_running_stats=True)\n",
       "      (conv3): Conv2d(64, 256, kernel_size=(1, 1), stride=(1, 1), bias=False)\n",
       "      (bn3): BatchNorm2d(256, eps=1e-05, momentum=0.1, affine=True, track_running_stats=True)\n",
       "      (relu): ReLU(inplace=True)\n",
       "    )\n",
       "    (2): Bottleneck(\n",
       "      (conv1): Conv2d(256, 64, kernel_size=(1, 1), stride=(1, 1), bias=False)\n",
       "      (bn1): BatchNorm2d(64, eps=1e-05, momentum=0.1, affine=True, track_running_stats=True)\n",
       "      (conv2): Conv2d(64, 64, kernel_size=(3, 3), stride=(1, 1), padding=(1, 1), bias=False)\n",
       "      (bn2): BatchNorm2d(64, eps=1e-05, momentum=0.1, affine=True, track_running_stats=True)\n",
       "      (conv3): Conv2d(64, 256, kernel_size=(1, 1), stride=(1, 1), bias=False)\n",
       "      (bn3): BatchNorm2d(256, eps=1e-05, momentum=0.1, affine=True, track_running_stats=True)\n",
       "      (relu): ReLU(inplace=True)\n",
       "    )\n",
       "  )\n",
       "  (5): Sequential(\n",
       "    (0): Bottleneck(\n",
       "      (conv1): Conv2d(256, 128, kernel_size=(1, 1), stride=(1, 1), bias=False)\n",
       "      (bn1): BatchNorm2d(128, eps=1e-05, momentum=0.1, affine=True, track_running_stats=True)\n",
       "      (conv2): Conv2d(128, 128, kernel_size=(3, 3), stride=(2, 2), padding=(1, 1), bias=False)\n",
       "      (bn2): BatchNorm2d(128, eps=1e-05, momentum=0.1, affine=True, track_running_stats=True)\n",
       "      (conv3): Conv2d(128, 512, kernel_size=(1, 1), stride=(1, 1), bias=False)\n",
       "      (bn3): BatchNorm2d(512, eps=1e-05, momentum=0.1, affine=True, track_running_stats=True)\n",
       "      (relu): ReLU(inplace=True)\n",
       "      (downsample): Sequential(\n",
       "        (0): Conv2d(256, 512, kernel_size=(1, 1), stride=(2, 2), bias=False)\n",
       "        (1): BatchNorm2d(512, eps=1e-05, momentum=0.1, affine=True, track_running_stats=True)\n",
       "      )\n",
       "    )\n",
       "    (1): Bottleneck(\n",
       "      (conv1): Conv2d(512, 128, kernel_size=(1, 1), stride=(1, 1), bias=False)\n",
       "      (bn1): BatchNorm2d(128, eps=1e-05, momentum=0.1, affine=True, track_running_stats=True)\n",
       "      (conv2): Conv2d(128, 128, kernel_size=(3, 3), stride=(1, 1), padding=(1, 1), bias=False)\n",
       "      (bn2): BatchNorm2d(128, eps=1e-05, momentum=0.1, affine=True, track_running_stats=True)\n",
       "      (conv3): Conv2d(128, 512, kernel_size=(1, 1), stride=(1, 1), bias=False)\n",
       "      (bn3): BatchNorm2d(512, eps=1e-05, momentum=0.1, affine=True, track_running_stats=True)\n",
       "      (relu): ReLU(inplace=True)\n",
       "    )\n",
       "    (2): Bottleneck(\n",
       "      (conv1): Conv2d(512, 128, kernel_size=(1, 1), stride=(1, 1), bias=False)\n",
       "      (bn1): BatchNorm2d(128, eps=1e-05, momentum=0.1, affine=True, track_running_stats=True)\n",
       "      (conv2): Conv2d(128, 128, kernel_size=(3, 3), stride=(1, 1), padding=(1, 1), bias=False)\n",
       "      (bn2): BatchNorm2d(128, eps=1e-05, momentum=0.1, affine=True, track_running_stats=True)\n",
       "      (conv3): Conv2d(128, 512, kernel_size=(1, 1), stride=(1, 1), bias=False)\n",
       "      (bn3): BatchNorm2d(512, eps=1e-05, momentum=0.1, affine=True, track_running_stats=True)\n",
       "      (relu): ReLU(inplace=True)\n",
       "    )\n",
       "    (3): Bottleneck(\n",
       "      (conv1): Conv2d(512, 128, kernel_size=(1, 1), stride=(1, 1), bias=False)\n",
       "      (bn1): BatchNorm2d(128, eps=1e-05, momentum=0.1, affine=True, track_running_stats=True)\n",
       "      (conv2): Conv2d(128, 128, kernel_size=(3, 3), stride=(1, 1), padding=(1, 1), bias=False)\n",
       "      (bn2): BatchNorm2d(128, eps=1e-05, momentum=0.1, affine=True, track_running_stats=True)\n",
       "      (conv3): Conv2d(128, 512, kernel_size=(1, 1), stride=(1, 1), bias=False)\n",
       "      (bn3): BatchNorm2d(512, eps=1e-05, momentum=0.1, affine=True, track_running_stats=True)\n",
       "      (relu): ReLU(inplace=True)\n",
       "    )\n",
       "  )\n",
       "  (6): Sequential(\n",
       "    (0): Bottleneck(\n",
       "      (conv1): Conv2d(512, 256, kernel_size=(1, 1), stride=(1, 1), bias=False)\n",
       "      (bn1): BatchNorm2d(256, eps=1e-05, momentum=0.1, affine=True, track_running_stats=True)\n",
       "      (conv2): Conv2d(256, 256, kernel_size=(3, 3), stride=(2, 2), padding=(1, 1), bias=False)\n",
       "      (bn2): BatchNorm2d(256, eps=1e-05, momentum=0.1, affine=True, track_running_stats=True)\n",
       "      (conv3): Conv2d(256, 1024, kernel_size=(1, 1), stride=(1, 1), bias=False)\n",
       "      (bn3): BatchNorm2d(1024, eps=1e-05, momentum=0.1, affine=True, track_running_stats=True)\n",
       "      (relu): ReLU(inplace=True)\n",
       "      (downsample): Sequential(\n",
       "        (0): Conv2d(512, 1024, kernel_size=(1, 1), stride=(2, 2), bias=False)\n",
       "        (1): BatchNorm2d(1024, eps=1e-05, momentum=0.1, affine=True, track_running_stats=True)\n",
       "      )\n",
       "    )\n",
       "    (1): Bottleneck(\n",
       "      (conv1): Conv2d(1024, 256, kernel_size=(1, 1), stride=(1, 1), bias=False)\n",
       "      (bn1): BatchNorm2d(256, eps=1e-05, momentum=0.1, affine=True, track_running_stats=True)\n",
       "      (conv2): Conv2d(256, 256, kernel_size=(3, 3), stride=(1, 1), padding=(1, 1), bias=False)\n",
       "      (bn2): BatchNorm2d(256, eps=1e-05, momentum=0.1, affine=True, track_running_stats=True)\n",
       "      (conv3): Conv2d(256, 1024, kernel_size=(1, 1), stride=(1, 1), bias=False)\n",
       "      (bn3): BatchNorm2d(1024, eps=1e-05, momentum=0.1, affine=True, track_running_stats=True)\n",
       "      (relu): ReLU(inplace=True)\n",
       "    )\n",
       "    (2): Bottleneck(\n",
       "      (conv1): Conv2d(1024, 256, kernel_size=(1, 1), stride=(1, 1), bias=False)\n",
       "      (bn1): BatchNorm2d(256, eps=1e-05, momentum=0.1, affine=True, track_running_stats=True)\n",
       "      (conv2): Conv2d(256, 256, kernel_size=(3, 3), stride=(1, 1), padding=(1, 1), bias=False)\n",
       "      (bn2): BatchNorm2d(256, eps=1e-05, momentum=0.1, affine=True, track_running_stats=True)\n",
       "      (conv3): Conv2d(256, 1024, kernel_size=(1, 1), stride=(1, 1), bias=False)\n",
       "      (bn3): BatchNorm2d(1024, eps=1e-05, momentum=0.1, affine=True, track_running_stats=True)\n",
       "      (relu): ReLU(inplace=True)\n",
       "    )\n",
       "    (3): Bottleneck(\n",
       "      (conv1): Conv2d(1024, 256, kernel_size=(1, 1), stride=(1, 1), bias=False)\n",
       "      (bn1): BatchNorm2d(256, eps=1e-05, momentum=0.1, affine=True, track_running_stats=True)\n",
       "      (conv2): Conv2d(256, 256, kernel_size=(3, 3), stride=(1, 1), padding=(1, 1), bias=False)\n",
       "      (bn2): BatchNorm2d(256, eps=1e-05, momentum=0.1, affine=True, track_running_stats=True)\n",
       "      (conv3): Conv2d(256, 1024, kernel_size=(1, 1), stride=(1, 1), bias=False)\n",
       "      (bn3): BatchNorm2d(1024, eps=1e-05, momentum=0.1, affine=True, track_running_stats=True)\n",
       "      (relu): ReLU(inplace=True)\n",
       "    )\n",
       "    (4): Bottleneck(\n",
       "      (conv1): Conv2d(1024, 256, kernel_size=(1, 1), stride=(1, 1), bias=False)\n",
       "      (bn1): BatchNorm2d(256, eps=1e-05, momentum=0.1, affine=True, track_running_stats=True)\n",
       "      (conv2): Conv2d(256, 256, kernel_size=(3, 3), stride=(1, 1), padding=(1, 1), bias=False)\n",
       "      (bn2): BatchNorm2d(256, eps=1e-05, momentum=0.1, affine=True, track_running_stats=True)\n",
       "      (conv3): Conv2d(256, 1024, kernel_size=(1, 1), stride=(1, 1), bias=False)\n",
       "      (bn3): BatchNorm2d(1024, eps=1e-05, momentum=0.1, affine=True, track_running_stats=True)\n",
       "      (relu): ReLU(inplace=True)\n",
       "    )\n",
       "    (5): Bottleneck(\n",
       "      (conv1): Conv2d(1024, 256, kernel_size=(1, 1), stride=(1, 1), bias=False)\n",
       "      (bn1): BatchNorm2d(256, eps=1e-05, momentum=0.1, affine=True, track_running_stats=True)\n",
       "      (conv2): Conv2d(256, 256, kernel_size=(3, 3), stride=(1, 1), padding=(1, 1), bias=False)\n",
       "      (bn2): BatchNorm2d(256, eps=1e-05, momentum=0.1, affine=True, track_running_stats=True)\n",
       "      (conv3): Conv2d(256, 1024, kernel_size=(1, 1), stride=(1, 1), bias=False)\n",
       "      (bn3): BatchNorm2d(1024, eps=1e-05, momentum=0.1, affine=True, track_running_stats=True)\n",
       "      (relu): ReLU(inplace=True)\n",
       "    )\n",
       "  )\n",
       "  (7): AdaptiveAvgPool2d(output_size=1)\n",
       ")"
      ]
     },
     "execution_count": 33,
     "metadata": {
      "tags": []
     },
     "output_type": "execute_result"
    }
   ],
   "source": [
    "feature_extractor"
   ]
  },
  {
   "cell_type": "code",
   "execution_count": 0,
   "metadata": {
    "colab": {},
    "colab_type": "code",
    "id": "iZ5znoVHlTn9"
   },
   "outputs": [],
   "source": [
    "outputs= []\n",
    "def hook1(module, input, output):\n",
    "    x = nn.AdaptiveAvgPool2d(1)(output)\n",
    "    outputs.append(x.cpu().numpy().squeeze())\n",
    "def hook2(module, input, output):\n",
    "    x = nn.AdaptiveAvgPool2d(1)(output)\n",
    "    outputs.append(x.cpu().numpy().squeeze())\n",
    "def hook3(module, input, output):\n",
    "    x = nn.AdaptiveAvgPool2d(1)(output)\n",
    "    outputs.append(x.cpu().numpy().squeeze())\n",
    "def hook4(module, input, output):\n",
    "    x = nn.AdaptiveAvgPool2d(1)(output)\n",
    "    outputs.append(x.cpu().numpy().squeeze())\n",
    "handles = []\n",
    "handles.append(feature_extractor.layer3[5].register_forward_hook(hook))\n",
    "handles.append(feature_extractor.layer3[5].register_forward_hook(hook))\n",
    "handles.append(feature_extractor.layer3[5].register_forward_hook(hook))\n",
    "handles.append(feature_extractor.layer3[5].register_forward_hook(hook))\n",
    "full_model.to(device)\n",
    "'finished the full model with hook attached'"
   ]
  },
  {
   "cell_type": "code",
   "execution_count": 0,
   "metadata": {
    "colab": {},
    "colab_type": "code",
    "id": "iQzO6k2m0rW1"
   },
   "outputs": [],
   "source": [
    "outputs = []\n",
    "feature_vectors = []\n",
    "all_vectors = []\n",
    "for img_seg in img_segments:\n",
    "    vectors = []\n",
    "    for seg in img_seg:\n",
    "      img = Image.fromarray(seg, 'RGB')\n",
    "      input_img = V(centre_crop(img).unsqueeze(0))\n",
    "      input_img = input_img.to(device)\n",
    "      feature_tensor = feature_extractor.forward(input_img)\n",
    "      del input_img\n",
    "      feat_vec = feature_tensor.cpu().numpy().squeeze()\n",
    "      del feature_tensor\n",
    "      vectors.append(feat_vec)\n",
    "      all_vectors.append(feat_vec)\n",
    "    feature_vectors.append(vectors)"
   ]
  },
  {
   "cell_type": "code",
   "execution_count": 0,
   "metadata": {
    "colab": {},
    "colab_type": "code",
    "id": "J8M7L15Tmy5r"
   },
   "outputs": [],
   "source": [
    "del img_segments"
   ]
  },
  {
   "cell_type": "code",
   "execution_count": 0,
   "metadata": {
    "colab": {},
    "colab_type": "code",
    "id": "iWCEklXRxTlq"
   },
   "outputs": [],
   "source": [
    "segment_img = {}\n",
    "c = 0\n",
    "for j, fvec in enumerate(feature_vectors):\n",
    "  c_old = c\n",
    "  c += len(fvec) if len(fvec) != 1024 else 1\n",
    "  for i in range(c_old, c):\n",
    "    segment_img[i] = j"
   ]
  },
  {
   "cell_type": "code",
   "execution_count": 0,
   "metadata": {
    "colab": {},
    "colab_type": "code",
    "id": "WqX26eghzYrr"
   },
   "outputs": [],
   "source": [
    "from sklearn.cluster import KMeans\n",
    "X = np.array(all_vectors)"
   ]
  },
  {
   "cell_type": "code",
   "execution_count": 0,
   "metadata": {
    "colab": {},
    "colab_type": "code",
    "id": "cwf6GquW7irt"
   },
   "outputs": [],
   "source": [
    "# scores = []\n",
    "# Ks = [10, 20, 50, 100, 150]\n",
    "# for k in Ks:\n",
    "#   kmeans = KMeans(n_clusters=k, random_state=0).fit(X)\n",
    "#   scores.append(kmeans.inertia_)\n",
    "# plt.figure()\n",
    "# plt.plot(scores)"
   ]
  },
  {
   "cell_type": "code",
   "execution_count": 0,
   "metadata": {
    "colab": {
     "base_uri": "https://localhost:8080/",
     "height": 34
    },
    "colab_type": "code",
    "executionInfo": {
     "elapsed": 1884,
     "status": "ok",
     "timestamp": 1578580014425,
     "user": {
      "displayName": "Youssef Mansour",
      "photoUrl": "",
      "userId": "12155639947958617468"
     },
     "user_tz": -120
    },
    "id": "v7TsH6V2m_rj",
    "outputId": "648b0f42-f96c-48a7-a6b8-996a4151923d"
   },
   "outputs": [
    {
     "data": {
      "text/plain": [
       "(11692, 1024)"
      ]
     },
     "execution_count": 23,
     "metadata": {
      "tags": []
     },
     "output_type": "execute_result"
    }
   ],
   "source": [
    "X.shape"
   ]
  },
  {
   "cell_type": "code",
   "execution_count": 0,
   "metadata": {
    "colab": {
     "base_uri": "https://localhost:8080/",
     "height": 34
    },
    "colab_type": "code",
    "executionInfo": {
     "elapsed": 1361,
     "status": "ok",
     "timestamp": 1578580145893,
     "user": {
      "displayName": "Youssef Mansour",
      "photoUrl": "",
      "userId": "12155639947958617468"
     },
     "user_tz": -120
    },
    "id": "vJJ9CG75nWXF",
    "outputId": "a1d1213a-de6d-47c9-aa7d-c49114faffe0"
   },
   "outputs": [
    {
     "data": {
      "text/plain": [
       "108"
      ]
     },
     "execution_count": 25,
     "metadata": {
      "tags": []
     },
     "output_type": "execute_result"
    }
   ],
   "source": [
    "num_segs = X.shape[0]"
   ]
  },
  {
   "cell_type": "code",
   "execution_count": 0,
   "metadata": {
    "colab": {},
    "colab_type": "code",
    "id": "yCusaTHxwTu2"
   },
   "outputs": [],
   "source": [
    "k = int(num_segs**0.5)\n",
    "kmeans = KMeans(n_clusters=k, random_state=0).fit(X)"
   ]
  },
  {
   "cell_type": "code",
   "execution_count": 0,
   "metadata": {
    "colab": {},
    "colab_type": "code",
    "id": "1FJF5E0kNhIZ"
   },
   "outputs": [],
   "source": [
    "clusters_labels = kmeans.labels_"
   ]
  },
  {
   "cell_type": "code",
   "execution_count": 0,
   "metadata": {
    "colab": {
     "base_uri": "https://localhost:8080/",
     "height": 272
    },
    "colab_type": "code",
    "executionInfo": {
     "elapsed": 107205,
     "status": "ok",
     "timestamp": 1577739025156,
     "user": {
      "displayName": "Youssef Mansour",
      "photoUrl": "",
      "userId": "12155639947958617468"
     },
     "user_tz": -120
    },
    "id": "4WkZlnPLx33D",
    "outputId": "ad8e0f1f-7169-4c2e-e43b-b5c5023d7e78"
   },
   "outputs": [
    {
     "data": {
      "text/plain": [
       "(array([ 0,  1,  2,  3,  4,  5,  6,  7,  8,  9, 10, 11, 12, 13, 14, 15, 16,\n",
       "        17, 18, 19, 20, 21, 22, 23, 24, 25, 26, 27, 28, 29, 30, 31, 32, 33,\n",
       "        34, 35, 36, 37, 38, 39, 40, 41, 42, 43, 44, 45, 46, 47, 48, 49, 50,\n",
       "        51, 52, 53, 54, 55, 56, 57, 58, 59, 60, 61, 62, 63, 64, 65, 66, 67,\n",
       "        68, 69, 70, 71, 72, 73, 74, 75, 76, 77, 78, 79, 80, 81, 82, 83, 84,\n",
       "        85, 86, 87, 88, 89, 90, 91, 92, 93, 94, 95, 96, 97, 98, 99],\n",
       "       dtype=int32),\n",
       " array([224,  93, 137, 214,  53, 289, 272, 103,  52, 189, 142, 202,  65,\n",
       "        162,  87,  76,  71,  47,  90,  55, 104, 124,  82,  75,  86,  92,\n",
       "         73, 154,  47, 126, 144,  36,  68, 114, 187,  73,  50, 311,  43,\n",
       "        131, 112,  95,  78, 180, 125, 120, 126,  70, 107, 113, 180, 104,\n",
       "        162,  97, 128, 143, 197, 210,  88,  46, 336, 207, 170, 134,   1,\n",
       "         95,  88,  70, 104,  94, 215,  50, 115, 123,  13,  34, 156,  64,\n",
       "        240,  70,  62,  69, 161,  84,  44,  56, 212,  48,  35,  56,  87,\n",
       "        252, 117,  24,  27, 139, 206,  61,  89, 260]))"
      ]
     },
     "execution_count": 115,
     "metadata": {
      "tags": []
     },
     "output_type": "execute_result"
    }
   ],
   "source": [
    "np.unique(clusters_labels, return_counts=1)"
   ]
  },
  {
   "cell_type": "code",
   "execution_count": 0,
   "metadata": {
    "colab": {
     "base_uri": "https://localhost:8080/",
     "height": 51
    },
    "colab_type": "code",
    "executionInfo": {
     "elapsed": 687,
     "status": "ok",
     "timestamp": 1577739781749,
     "user": {
      "displayName": "Youssef Mansour",
      "photoUrl": "",
      "userId": "12155639947958617468"
     },
     "user_tz": -120
    },
    "id": "IbmTIZoHONpz",
    "outputId": "c48664bb-c2f2-4279-bb0c-a8089cfc5882"
   },
   "outputs": [
    {
     "name": "stdout",
     "output_type": "stream",
     "text": [
      "total number of clusters 100\n",
      "total number of good clusters 98\n"
     ]
    }
   ],
   "source": [
    "count_threshold = int((num_segs/k)*0.2)\n",
    "cluster_names, cluster_counts = np.unique(clusters_labels, return_counts=1)\n",
    "good_clusters = cluster_names[cluster_counts>count_threshold]\n",
    "print(f'total number of clusters {len(cluster_names)}')\n",
    "print(f'total number of good clusters {len(good_clusters)}')"
   ]
  },
  {
   "cell_type": "code",
   "execution_count": 0,
   "metadata": {
    "colab": {},
    "colab_type": "code",
    "id": "0JNgAoNry9Kp"
   },
   "outputs": [],
   "source": [
    "def cluster_top_k(cluster_id, k = 40):\n",
    "  instances_ids = np.argwhere(clusters_labels==cluster_id).squeeze()\n",
    "  instances = X[instances_ids]\n",
    "  scores = []\n",
    "  for inst in instances:\n",
    "    scores.append(-kmeans.score([inst]))\n",
    "  final_ids = np.argsort(scores)[:k]\n",
    "  return instances_ids[final_ids]\n",
    "\n",
    "cluster_instances_id = lambda cid:  np.argwhere(clusters_labels==cid).squeeze()"
   ]
  },
  {
   "cell_type": "code",
   "execution_count": 0,
   "metadata": {
    "colab": {},
    "colab_type": "code",
    "id": "h44lvNzIw1gE"
   },
   "outputs": [],
   "source": [
    "cluster_representatives = {}\n",
    "for cluster_id in good_clusters:\n",
    "  cluster_representatives[cluster_id] = cluster_top_k(cluster_id, k=40)"
   ]
  },
  {
   "cell_type": "code",
   "execution_count": 0,
   "metadata": {
    "colab": {},
    "colab_type": "code",
    "id": "mwHRMErn1dzL"
   },
   "outputs": [],
   "source": [
    "def is_single_img_clusters(cls_id):\n",
    "  instances_ids = cluster_instances_id(cls_id)\n",
    "  # instances_ids = cluster_representatives[cls_id]\n",
    "  source_imgs = [segment_img[inst_id] for inst_id in instances_ids]\n",
    "  unique_imgs = len(np.unique(source_imgs))\n",
    "  return 0 if unique_imgs > 1 else 1"
   ]
  },
  {
   "cell_type": "code",
   "execution_count": 0,
   "metadata": {
    "colab": {},
    "colab_type": "code",
    "id": "rcziR_zVLPOP"
   },
   "outputs": [],
   "source": [
    "final_clusters = []\n",
    "for cluster_id in good_clusters:\n",
    "  if is_single_img_clusters(cluster_id):\n",
    "    continue\n",
    "  final_clusters.append(cluster_id)\n",
    "final_clusters = np.array(final_clusters)"
   ]
  },
  {
   "cell_type": "code",
   "execution_count": 0,
   "metadata": {
    "colab": {},
    "colab_type": "code",
    "id": "xDYseR76TeHb"
   },
   "outputs": [],
   "source": [
    "from sklearn.model_selection import train_test_split\n",
    "from sklearn.linear_model import LogisticRegression\n",
    "from sklearn.decomposition import PCA\n",
    "from sklearn.pipeline import Pipeline"
   ]
  },
  {
   "cell_type": "code",
   "execution_count": 0,
   "metadata": {
    "colab": {},
    "colab_type": "code",
    "id": "7IjA9a6iQOP7"
   },
   "outputs": [],
   "source": [
    "linear_models = {}\n",
    "model_score = {}\n",
    "for cluster in final_clusters:\n",
    "  positive_instances = cluster_instances_id(cluster)\n",
    "  negative_instances = np.argwhere(clusters_labels!=cluster).squeeze()\n",
    "  num_samples = min(len(positive_instances), len(negative_instances))\n",
    "  selected_pos = np.random.choice(positive_instances, num_samples, replace=False)\n",
    "  selected_neg = np.random.choice(negative_instances, num_samples, replace=False)\n",
    "  train_x = np.append(X[selected_pos], X[selected_neg], axis=0)\n",
    "  train_y = np.array([1] * num_samples + [0] * num_samples)\n",
    "  train_x, val_x, train_y, val_y = train_test_split(train_x, train_y)\n",
    "  n_components = min(256, len(train_x))\n",
    "  pca_model = PCA(n_components=n_components)\n",
    "  lr_model = LogisticRegression()\n",
    "  pca_lr_model = Pipeline(steps = [('pca', pca_model), ('lr', lr_model)])\n",
    "  # pca_lr_model.set_params(pca__n_components=256, lr__penalty='l2')\n",
    "  pca_lr_model.fit(train_x, train_y)\n",
    "  linear_models[cluster] = pca_lr_model\n",
    "  model_score[cluster] = pca_lr_model.score(val_x, val_y)"
   ]
  },
  {
   "cell_type": "code",
   "execution_count": 0,
   "metadata": {
    "colab": {
     "base_uri": "https://localhost:8080/",
     "height": 391
    },
    "colab_type": "code",
    "executionInfo": {
     "elapsed": 1468848,
     "status": "ok",
     "timestamp": 1577736940122,
     "user": {
      "displayName": "Youssef Mansour",
      "photoUrl": "",
      "userId": "12155639947958617468"
     },
     "user_tz": -120
    },
    "id": "aDsQZFBt5R-J",
    "outputId": "2bb3230b-d97d-4c4c-f66c-afa9219b85dd"
   },
   "outputs": [
    {
     "name": "stdout",
     "output_type": "stream",
     "text": [
      "--2019-12-30 19:58:06--  http://data.csail.mit.edu/places/ADEchallenge/ADEChallengeData2016.zip\n",
      "Resolving data.csail.mit.edu (data.csail.mit.edu)... 128.52.129.40\n",
      "Connecting to data.csail.mit.edu (data.csail.mit.edu)|128.52.129.40|:80... connected.\n",
      "HTTP request sent, awaiting response... 200 OK\n",
      "Length: 967382037 (923M) [application/zip]\n",
      "Saving to: ‘ADEChallengeData2016.zip’\n",
      "\n",
      "ADEChallengeData201 100%[===================>] 922.57M  13.3MB/s    in 15m 21s \n",
      "\n",
      "2019-12-30 20:13:27 (1.00 MB/s) - ‘ADEChallengeData2016.zip’ saved [967382037/967382037]\n",
      "\n",
      "--2019-12-30 20:13:28--  http://data.csail.mit.edu/places/ADEchallenge/release_test.zip\n",
      "Resolving data.csail.mit.edu (data.csail.mit.edu)... 128.52.129.40\n",
      "Connecting to data.csail.mit.edu (data.csail.mit.edu)|128.52.129.40|:80... connected.\n",
      "HTTP request sent, awaiting response... 200 OK\n",
      "Length: 211820497 (202M) [application/zip]\n",
      "Saving to: ‘release_test.zip’\n",
      "\n",
      "release_test.zip    100%[===================>] 202.01M  11.4MB/s    in 2m 10s  \n",
      "\n",
      "2019-12-30 20:15:39 (1.55 MB/s) - ‘release_test.zip’ saved [211820497/211820497]\n",
      "\n"
     ]
    }
   ],
   "source": [
    "!wget http://data.csail.mit.edu/places/ADEchallenge/ADEChallengeData2016.zip\n",
    "!wget http://data.csail.mit.edu/places/ADEchallenge/release_test.zip"
   ]
  },
  {
   "cell_type": "code",
   "execution_count": 0,
   "metadata": {
    "colab": {},
    "colab_type": "code",
    "id": "7jEvDXCkefqJ"
   },
   "outputs": [],
   "source": [
    "!unzip -q ADEChallengeData2016.zip\n",
    "!unzip -q release_test.zip"
   ]
  },
  {
   "cell_type": "code",
   "execution_count": 0,
   "metadata": {
    "colab": {
     "base_uri": "https://localhost:8080/",
     "height": 51
    },
    "colab_type": "code",
    "executionInfo": {
     "elapsed": 1481530,
     "status": "ok",
     "timestamp": 1577736956623,
     "user": {
      "displayName": "Youssef Mansour",
      "photoUrl": "",
      "userId": "12155639947958617468"
     },
     "user_tz": -120
    },
    "id": "iYiSUou1ehSj",
    "outputId": "f209eaf6-57e7-4990-befd-427b83c66a84"
   },
   "outputs": [
    {
     "name": "stdout",
     "output_type": "stream",
     "text": [
      "Training images: 20210\n",
      "Validation images: 2000\n"
     ]
    }
   ],
   "source": [
    "from DataLoader import ADE20KLoader\n",
    "train_dataset = ADE20KLoader(root=os.getcwd(), split='train')\n",
    "val_dataset = ADE20KLoader(root=os.getcwd(),split='val')\n",
    "print('Training images:', len(train_dataset))\n",
    "print('Validation images:', len(val_dataset))"
   ]
  },
  {
   "cell_type": "code",
   "execution_count": 0,
   "metadata": {
    "colab": {},
    "colab_type": "code",
    "id": "58QTBirPetB0"
   },
   "outputs": [],
   "source": [
    "# try also only the val set"
   ]
  },
  {
   "cell_type": "code",
   "execution_count": 0,
   "metadata": {
    "colab": {
     "base_uri": "https://localhost:8080/",
     "height": 34
    },
    "colab_type": "code",
    "executionInfo": {
     "elapsed": 1477255,
     "status": "ok",
     "timestamp": 1577736956626,
     "user": {
      "displayName": "Youssef Mansour",
      "photoUrl": "",
      "userId": "12155639947958617468"
     },
     "user_tz": -120
    },
    "id": "-csnAQwBemMx",
    "outputId": "425be0c9-3621-462d-e9bf-73b4464cbe5b"
   },
   "outputs": [
    {
     "data": {
      "text/plain": [
       "29"
      ]
     },
     "execution_count": 49,
     "metadata": {
      "tags": []
     },
     "output_type": "execute_result"
    }
   ],
   "source": [
    "chosen_classes = ['street', 'bedroom', 'living_room', 'bathroom', 'kitchen', \n",
    "            'skyscraper', 'highway', 'conference_room', 'mountain_snowy', 'office',\n",
    "            'corridor', 'airport_terminal', 'attic', 'mountain', 'park', 'coast', \n",
    "            'alley','beach', 'childs_room', 'art_gallery','castle', 'dorm_room', \n",
    "            'nursery', 'lobby', 'reception', 'bar', 'house', 'bridge', 'classroom']\n",
    "num_classes = len(chosen_classes)\n",
    "num_classes"
   ]
  },
  {
   "cell_type": "code",
   "execution_count": 0,
   "metadata": {
    "colab": {},
    "colab_type": "code",
    "id": "oYjeL_NnepqR"
   },
   "outputs": [],
   "source": [
    "np.random.seed(0)\n",
    "num_samples = 50\n",
    "X_train = np.array([])\n",
    "y_train = []\n",
    "for cls in chosen_classes:\n",
    "  ids = np.where(train_dataset.labels==cls)[0]\n",
    "  ids = np.random.choice(ids, num_samples) if len(ids)>=50 else ids\n",
    "  X_train = np.concatenate((X_train, ids)).astype(int)\n",
    "  y_train += [cls]*len(ids)"
   ]
  },
  {
   "cell_type": "code",
   "execution_count": 0,
   "metadata": {
    "colab": {
     "base_uri": "https://localhost:8080/",
     "height": 51
    },
    "colab_type": "code",
    "executionInfo": {
     "elapsed": 1475654,
     "status": "ok",
     "timestamp": 1577736956629,
     "user": {
      "displayName": "Youssef Mansour",
      "photoUrl": "",
      "userId": "12155639947958617468"
     },
     "user_tz": -120
    },
    "id": "ESilCeOwe4yW",
    "outputId": "3576e4a2-4d4b-44e7-8e6d-62a32d5243ce"
   },
   "outputs": [
    {
     "name": "stdout",
     "output_type": "stream",
     "text": [
      "1442\n"
     ]
    },
    {
     "data": {
      "text/plain": [
       "1442"
      ]
     },
     "execution_count": 51,
     "metadata": {
      "tags": []
     },
     "output_type": "execute_result"
    }
   ],
   "source": [
    "print(len(X_train))\n",
    "len(y_train)"
   ]
  },
  {
   "cell_type": "code",
   "execution_count": 0,
   "metadata": {
    "colab": {},
    "colab_type": "code",
    "id": "EOKQQzjomdbV"
   },
   "outputs": [],
   "source": [
    "# outputs = []\n",
    "# img = train_dataset[0]\n",
    "# input_img = V(centre_crop(img).unsqueeze(0))\n",
    "# input_img = input_img.to(device)\n",
    "# yy = full_model.forward(input_img)"
   ]
  },
  {
   "cell_type": "code",
   "execution_count": 0,
   "metadata": {
    "colab": {},
    "colab_type": "code",
    "id": "cj7R7i1soNKt"
   },
   "outputs": [],
   "source": [
    "# I can use batch size here to speed things up"
   ]
  },
  {
   "cell_type": "code",
   "execution_count": 0,
   "metadata": {
    "colab": {},
    "colab_type": "code",
    "id": "jPjOzf6xomu5"
   },
   "outputs": [],
   "source": [
    "file_name = 'categories_places365.txt'\n",
    "if not os.access(file_name, os.W_OK):\n",
    "    synset_url = 'https://raw.githubusercontent.com/csailvision/places365/master/categories_places365.txt'\n",
    "    os.system('wget ' + synset_url)\n",
    "classes = list()\n",
    "with open(file_name) as class_file:\n",
    "    for line in class_file:\n",
    "        classes.append(line.strip().split(' ')[0][3:])\n",
    "classes = np.array(classes)"
   ]
  },
  {
   "cell_type": "code",
   "execution_count": 0,
   "metadata": {
    "colab": {},
    "colab_type": "code",
    "id": "UHB55UcpxA6s"
   },
   "outputs": [],
   "source": [
    "idxs = []\n",
    "c = 0\n",
    "for ccls in chosen_classes:\n",
    "  idx = np.argwhere(classes == ccls)\n",
    "  if len(idx) == 0:\n",
    "    print(f'class {ccls} is not found in places365')\n",
    "    c+=1\n",
    "  else:\n",
    "    idxs.append(idx[0][0])"
   ]
  },
  {
   "cell_type": "code",
   "execution_count": 0,
   "metadata": {
    "colab": {
     "base_uri": "https://localhost:8080/",
     "height": 34
    },
    "colab_type": "code",
    "executionInfo": {
     "elapsed": 522,
     "status": "ok",
     "timestamp": 1577736957691,
     "user": {
      "displayName": "Youssef Mansour",
      "photoUrl": "",
      "userId": "12155639947958617468"
     },
     "user_tz": -120
    },
    "id": "aUZv6k-7XYfg",
    "outputId": "fddc1936-3caf-41c6-dc0f-391cfcb52ad7"
   },
   "outputs": [
    {
     "data": {
      "text/plain": [
       "'finished the full model with hook attached'"
      ]
     },
     "execution_count": 54,
     "metadata": {
      "tags": []
     },
     "output_type": "execute_result"
    }
   ],
   "source": [
    "outputs= []\n",
    "def hook(module, input, output):\n",
    "    x = nn.AdaptiveAvgPool2d(1)(output)\n",
    "    # print(x.shape)\n",
    "    outputs.append(x.cpu().numpy().squeeze())\n",
    "full_model = model\n",
    "handle = full_model.layer3[5].register_forward_hook(hook)\n",
    "full_model.to(device)\n",
    "'finished the full model with hook attached'"
   ]
  },
  {
   "cell_type": "code",
   "execution_count": 0,
   "metadata": {
    "colab": {},
    "colab_type": "code",
    "id": "vA4SKPoIk3am"
   },
   "outputs": [],
   "source": [
    "del outputs\n",
    "outputs = []\n",
    "y_model = []\n",
    "for idx in X_train[:]:\n",
    "  img = train_dataset[idx]\n",
    "  # plt.imshow(img)\n",
    "  # plt.show()\n",
    "  input_img = V(centre_crop(img).unsqueeze(0))\n",
    "  input_img = input_img.to(device)\n",
    "  pred = full_model.forward(input_img)\n",
    "  y_model.append(classes[idxs][np.argmax((pred.cpu().detach().numpy()[:,idxs]))])\n",
    "outputs = np.array(outputs)"
   ]
  },
  {
   "cell_type": "code",
   "execution_count": 0,
   "metadata": {
    "colab": {
     "base_uri": "https://localhost:8080/",
     "height": 34
    },
    "colab_type": "code",
    "executionInfo": {
     "elapsed": 24710,
     "status": "ok",
     "timestamp": 1577736981893,
     "user": {
      "displayName": "Youssef Mansour",
      "photoUrl": "",
      "userId": "12155639947958617468"
     },
     "user_tz": -120
    },
    "id": "Zm9pqN_uXf9h",
    "outputId": "941165a5-0544-4745-c045-697ca813320c"
   },
   "outputs": [
    {
     "data": {
      "text/plain": [
       "(1442, 1024)"
      ]
     },
     "execution_count": 56,
     "metadata": {
      "tags": []
     },
     "output_type": "execute_result"
    }
   ],
   "source": [
    "outputs.shape"
   ]
  },
  {
   "cell_type": "code",
   "execution_count": 0,
   "metadata": {
    "colab": {
     "base_uri": "https://localhost:8080/",
     "height": 34
    },
    "colab_type": "code",
    "executionInfo": {
     "elapsed": 1172,
     "status": "ok",
     "timestamp": 1577737802886,
     "user": {
      "displayName": "Youssef Mansour",
      "photoUrl": "",
      "userId": "12155639947958617468"
     },
     "user_tz": -120
    },
    "id": "vW-eVIaJgDvY",
    "outputId": "f9e053fd-f184-4347-a43d-70a28074c098"
   },
   "outputs": [
    {
     "data": {
      "text/plain": [
       "1442"
      ]
     },
     "execution_count": 57,
     "metadata": {
      "tags": []
     },
     "output_type": "execute_result"
    }
   ],
   "source": [
    "len(y_model)"
   ]
  },
  {
   "cell_type": "code",
   "execution_count": 0,
   "metadata": {
    "colab": {},
    "colab_type": "code",
    "id": "rDitCfiIgG0J"
   },
   "outputs": [],
   "source": [
    "for i, lm in enumerate(linear_models.keys()):\n",
    "  if i == 0:\n",
    "    concept_vecs = linear_models[lm].predict(outputs)[:, None]\n",
    "  else:\n",
    "    concept_vecs = np.concatenate((concept_vecs, linear_models[lm].predict(outputs)[:, None]), axis = -1)"
   ]
  },
  {
   "cell_type": "code",
   "execution_count": 0,
   "metadata": {
    "colab": {
     "base_uri": "https://localhost:8080/",
     "height": 34
    },
    "colab_type": "code",
    "executionInfo": {
     "elapsed": 761,
     "status": "ok",
     "timestamp": 1577740116295,
     "user": {
      "displayName": "Youssef Mansour",
      "photoUrl": "",
      "userId": "12155639947958617468"
     },
     "user_tz": -120
    },
    "id": "PCtmSoIVjDsa",
    "outputId": "cc8c8453-2a19-46eb-e4ed-72195320220f"
   },
   "outputs": [
    {
     "data": {
      "text/plain": [
       "(1442, 98)"
      ]
     },
     "execution_count": 131,
     "metadata": {
      "tags": []
     },
     "output_type": "execute_result"
    }
   ],
   "source": [
    "concept_vecs.shape"
   ]
  },
  {
   "cell_type": "code",
   "execution_count": 0,
   "metadata": {
    "colab": {},
    "colab_type": "code",
    "id": "b9zHVsCsifTq"
   },
   "outputs": [],
   "source": [
    "from sklearn.tree import DecisionTreeClassifier\n",
    "from sklearn.ensemble import RandomForestClassifier"
   ]
  },
  {
   "cell_type": "code",
   "execution_count": 0,
   "metadata": {
    "colab": {},
    "colab_type": "code",
    "id": "nVpSIPYxtDS7"
   },
   "outputs": [],
   "source": [
    "random_seed = 0"
   ]
  },
  {
   "cell_type": "code",
   "execution_count": 0,
   "metadata": {
    "colab": {
     "base_uri": "https://localhost:8080/",
     "height": 51
    },
    "colab_type": "code",
    "executionInfo": {
     "elapsed": 734,
     "status": "ok",
     "timestamp": 1577741294833,
     "user": {
      "displayName": "Youssef Mansour",
      "photoUrl": "",
      "userId": "12155639947958617468"
     },
     "user_tz": -120
    },
    "id": "932zy7n1jc-i",
    "outputId": "a692ae36-b42b-4b39-8cc4-b00c40121f27"
   },
   "outputs": [
    {
     "name": "stdout",
     "output_type": "stream",
     "text": [
      "train accuracy: 0.9514310494362532\n",
      "validation accuracy: 0.46366782006920415\n"
     ]
    }
   ],
   "source": [
    "train_x, val_x, train_y, val_y = train_test_split(concept_vecs, y_model, test_size=0.2, random_state=random_seed)\n",
    "surrogate_tree = DecisionTreeClassifier(max_depth=20)\n",
    "surrogate_tree.fit(train_x, train_y)\n",
    "print(f'train accuracy: {surrogate_tree.score(train_x, train_y)}')\n",
    "print(f'validation accuracy: {surrogate_tree.score(val_x, val_y)}')"
   ]
  },
  {
   "cell_type": "code",
   "execution_count": 0,
   "metadata": {
    "colab": {
     "base_uri": "https://localhost:8080/",
     "height": 105
    },
    "colab_type": "code",
    "executionInfo": {
     "elapsed": 531,
     "status": "ok",
     "timestamp": 1577741296209,
     "user": {
      "displayName": "Youssef Mansour",
      "photoUrl": "",
      "userId": "12155639947958617468"
     },
     "user_tz": -120
    },
    "id": "wzQZgcF4r8vw",
    "outputId": "f884b734-4fa6-4148-cac2-1fe9a82571be"
   },
   "outputs": [
    {
     "name": "stdout",
     "output_type": "stream",
     "text": [
      "train accuracy: 0.9479618386816999\n",
      "validation accuracy: 0.48788927335640137\n"
     ]
    },
    {
     "name": "stderr",
     "output_type": "stream",
     "text": [
      "/usr/local/lib/python3.6/dist-packages/sklearn/ensemble/forest.py:245: FutureWarning: The default value of n_estimators will change from 10 in version 0.20 to 100 in 0.22.\n",
      "  \"10 in version 0.20 to 100 in 0.22.\", FutureWarning)\n"
     ]
    }
   ],
   "source": [
    "train_x, val_x, train_y, val_y = train_test_split(concept_vecs, y_model, test_size=0.2, random_state=random_seed)\n",
    "surrogate_tree = RandomForestClassifier(max_depth=20)\n",
    "surrogate_tree.fit(train_x, train_y)\n",
    "print(f'train accuracy: {surrogate_tree.score(train_x, train_y)}')\n",
    "print(f'validation accuracy: {surrogate_tree.score(val_x, val_y)}')"
   ]
  },
  {
   "cell_type": "code",
   "execution_count": 0,
   "metadata": {
    "colab": {
     "base_uri": "https://localhost:8080/",
     "height": 51
    },
    "colab_type": "code",
    "executionInfo": {
     "elapsed": 2408,
     "status": "ok",
     "timestamp": 1577741299542,
     "user": {
      "displayName": "Youssef Mansour",
      "photoUrl": "",
      "userId": "12155639947958617468"
     },
     "user_tz": -120
    },
    "id": "2-Uk5AsXkDAj",
    "outputId": "65f82f15-fccb-401f-f450-7b3874061b16"
   },
   "outputs": [
    {
     "name": "stdout",
     "output_type": "stream",
     "text": [
      "train accuracy: 0.9540329575021682\n",
      "validation accuracy: 0.4844290657439446\n"
     ]
    }
   ],
   "source": [
    "train_x, val_x, train_y, val_y = train_test_split(outputs, y_model, test_size=0.2, random_state=random_seed)\n",
    "surrogate_tree = DecisionTreeClassifier(max_depth=20)\n",
    "surrogate_tree.fit(train_x, train_y)\n",
    "print(f'train accuracy: {surrogate_tree.score(train_x, train_y)}')\n",
    "print(f'validation accuracy: {surrogate_tree.score(val_x, val_y)}')"
   ]
  },
  {
   "cell_type": "code",
   "execution_count": 0,
   "metadata": {
    "colab": {
     "base_uri": "https://localhost:8080/",
     "height": 105
    },
    "colab_type": "code",
    "executionInfo": {
     "elapsed": 1054,
     "status": "ok",
     "timestamp": 1577741301388,
     "user": {
      "displayName": "Youssef Mansour",
      "photoUrl": "",
      "userId": "12155639947958617468"
     },
     "user_tz": -120
    },
    "id": "rbfdaksAsij9",
    "outputId": "f9470253-a661-4ed6-f148-9ea10ece3c48"
   },
   "outputs": [
    {
     "name": "stderr",
     "output_type": "stream",
     "text": [
      "/usr/local/lib/python3.6/dist-packages/sklearn/ensemble/forest.py:245: FutureWarning: The default value of n_estimators will change from 10 in version 0.20 to 100 in 0.22.\n",
      "  \"10 in version 0.20 to 100 in 0.22.\", FutureWarning)\n"
     ]
    },
    {
     "name": "stdout",
     "output_type": "stream",
     "text": [
      "train accuracy: 0.9991326973113617\n",
      "validation accuracy: 0.5813148788927336\n"
     ]
    }
   ],
   "source": [
    "train_x, val_x, train_y, val_y = train_test_split(outputs, y_model, test_size=0.2, random_state=random_seed)\n",
    "surrogate_tree = RandomForestClassifier(max_depth=20)\n",
    "surrogate_tree.fit(train_x, train_y)\n",
    "print(f'train accuracy: {surrogate_tree.score(train_x, train_y)}')\n",
    "print(f'validation accuracy: {surrogate_tree.score(val_x, val_y)}')"
   ]
  },
  {
   "cell_type": "code",
   "execution_count": 0,
   "metadata": {
    "colab": {},
    "colab_type": "code",
    "id": "FO58I4mltAWp"
   },
   "outputs": [],
   "source": []
  }
 ],
 "metadata": {
  "accelerator": "GPU",
  "colab": {
   "collapsed_sections": [],
   "machine_shape": "hm",
   "name": "places365 model.ipynb",
   "provenance": []
  },
  "kernelspec": {
   "display_name": "Python 3",
   "language": "python",
   "name": "python3"
  },
  "language_info": {
   "codemirror_mode": {
    "name": "ipython",
    "version": 3
   },
   "file_extension": ".py",
   "mimetype": "text/x-python",
   "name": "python",
   "nbconvert_exporter": "python",
   "pygments_lexer": "ipython3",
   "version": "3.7.4"
  }
 },
 "nbformat": 4,
 "nbformat_minor": 1
}
